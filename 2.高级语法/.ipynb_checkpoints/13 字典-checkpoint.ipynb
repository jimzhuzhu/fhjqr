{
 "cells": [
  {
   "cell_type": "markdown",
   "id": "3b798815",
   "metadata": {},
   "source": [
    "# 字典\n",
    "## 学习目标\n",
    "    - 理解字典中‘键值对’的概念\n",
    "    - 学会创建字典\n",
    "    - 掌握对字典的常规操作"
   ]
  },
  {
   "cell_type": "markdown",
   "id": "bf62e737",
   "metadata": {},
   "source": [
    "## 字典概念\n",
    " - 字典是一种可以存储任意类型的组合数据类型，但与列表和元组不同的是，字典是一种无序的对象集合，它并不是依靠索引位置来唯一锁定一个元素，而是通过键和值构成的键-值对来确定一个元素的索引\n",
    " \n",
    " - 字典的语法格式\n",
    "     - 由键值对组成，键和值之间使用冒号：分割，而键值对之间用逗号，分割，整个字典使用花括号{}将所有元素包裹\n",
    "     \n",
    "     ` d = {key1:value1, key2:value2}`"
   ]
  },
  {
   "cell_type": "code",
   "execution_count": 2,
   "id": "1506f2c5",
   "metadata": {},
   "outputs": [
    {
     "name": "stdout",
     "output_type": "stream",
     "text": [
      "{'a': 1, 'b': 2, 'c': 3}\n",
      "{'a': 'a', 2: 2, 'b': 2}\n"
     ]
    }
   ],
   "source": [
    "# 创建字典b\n",
    "d1 = {'a':1, 'b':2, 'c':3}\n",
    "print(d1)\n",
    "# 字典的特性中，值可以取任何数据类型，也可以重复出现，\n",
    "# 但是键必须是不可变数据类型，并且必须是唯一，同一个键多次出现被赋值，则以后一个值为准\n",
    "\n",
    "d2 = {'a':1, 2:2, 'b':2, 'a':'a'}\n",
    "print(d2)"
   ]
  },
  {
   "cell_type": "code",
   "execution_count": 3,
   "id": "5672aed1",
   "metadata": {},
   "outputs": [
    {
     "name": "stdout",
     "output_type": "stream",
     "text": [
      "{'a': 1, (1, 2): 2}\n"
     ]
    },
    {
     "ename": "TypeError",
     "evalue": "unhashable type: 'list'",
     "output_type": "error",
     "traceback": [
      "\u001b[0;31m---------------------------------------------------------------------------\u001b[0m",
      "\u001b[0;31mTypeError\u001b[0m                                 Traceback (most recent call last)",
      "\u001b[0;32m<ipython-input-3-d6d91a12cf5e>\u001b[0m in \u001b[0;36m<module>\u001b[0;34m\u001b[0m\n\u001b[1;32m      2\u001b[0m \u001b[0md1\u001b[0m \u001b[0;34m=\u001b[0m \u001b[0;34m{\u001b[0m\u001b[0;34m'a'\u001b[0m\u001b[0;34m:\u001b[0m\u001b[0;36m1\u001b[0m\u001b[0;34m,\u001b[0m \u001b[0;34m(\u001b[0m\u001b[0;36m1\u001b[0m\u001b[0;34m,\u001b[0m\u001b[0;36m2\u001b[0m\u001b[0;34m)\u001b[0m\u001b[0;34m:\u001b[0m\u001b[0;36m2\u001b[0m\u001b[0;34m}\u001b[0m\u001b[0;34m\u001b[0m\u001b[0;34m\u001b[0m\u001b[0m\n\u001b[1;32m      3\u001b[0m \u001b[0mprint\u001b[0m\u001b[0;34m(\u001b[0m\u001b[0md1\u001b[0m\u001b[0;34m)\u001b[0m\u001b[0;34m\u001b[0m\u001b[0;34m\u001b[0m\u001b[0m\n\u001b[0;32m----> 4\u001b[0;31m \u001b[0md2\u001b[0m \u001b[0;34m=\u001b[0m \u001b[0;34m{\u001b[0m\u001b[0;34m'a'\u001b[0m\u001b[0;34m:\u001b[0m\u001b[0;36m1\u001b[0m\u001b[0;34m,\u001b[0m \u001b[0;34m[\u001b[0m\u001b[0;36m1\u001b[0m\u001b[0;34m,\u001b[0m\u001b[0;36m2\u001b[0m\u001b[0;34m]\u001b[0m\u001b[0;34m:\u001b[0m\u001b[0;36m2\u001b[0m\u001b[0;34m}\u001b[0m\u001b[0;34m\u001b[0m\u001b[0;34m\u001b[0m\u001b[0m\n\u001b[0m\u001b[1;32m      5\u001b[0m \u001b[0mprint\u001b[0m\u001b[0;34m(\u001b[0m\u001b[0md2\u001b[0m\u001b[0;34m)\u001b[0m\u001b[0;34m\u001b[0m\u001b[0;34m\u001b[0m\u001b[0m\n",
      "\u001b[0;31mTypeError\u001b[0m: unhashable type: 'list'"
     ]
    }
   ],
   "source": [
    "# 键不可以修改案例,如果键的数据类型为列表或者集合会报TypeError错误\n",
    "d1 = {'a':1, (1,2):2}\n",
    "print(d1)\n",
    "d2 = {'a':1, [1,2]:2}\n",
    "print(d2)"
   ]
  },
  {
   "cell_type": "code",
   "execution_count": 9,
   "id": "9623ea9e",
   "metadata": {},
   "outputs": [
    {
     "name": "stdout",
     "output_type": "stream",
     "text": [
      "{'name': 'zhuxianfu', 'age': 26, 'height': 175}\n",
      "zhuxianfu\n",
      "26 175\n"
     ]
    }
   ],
   "source": [
    "# 如何访问字典中的值？\n",
    "# 通过键来获取对应的值，语法为 dict[key]\n",
    "\n",
    "d1 = {'name':'zhuxianfu', 'age':26, 'height':175}\n",
    "print(d1)\n",
    "print(d1['name'])\n",
    "print(d1['age'], d1['height'])"
   ]
  },
  {
   "cell_type": "code",
   "execution_count": 11,
   "id": "e1beaa91",
   "metadata": {},
   "outputs": [
    {
     "name": "stdout",
     "output_type": "stream",
     "text": [
      "{'name': 'zhu', 'age': 18, 'height': 175}\n"
     ]
    }
   ],
   "source": [
    "# 修改字典\n",
    "# 向字典添加新的键值对，修改键值对\n",
    "\n",
    "d1 = {'name':'zhu', 'age':26}\n",
    "d1['age'] = 18 # 更新age\n",
    "d1['height'] = 175 # 在字典中添加信息\n",
    "print(d1)"
   ]
  },
  {
   "cell_type": "code",
   "execution_count": 15,
   "id": "2f0e00ab",
   "metadata": {},
   "outputs": [
    {
     "name": "stdout",
     "output_type": "stream",
     "text": [
      "{'name': 'zhuxianfu', 'age': 26, 'height': 175}\n",
      "{'age': 26, 'height': 175}\n",
      "{}\n"
     ]
    },
    {
     "ename": "NameError",
     "evalue": "name 'd1' is not defined",
     "output_type": "error",
     "traceback": [
      "\u001b[0;31m---------------------------------------------------------------------------\u001b[0m",
      "\u001b[0;31mNameError\u001b[0m                                 Traceback (most recent call last)",
      "\u001b[0;32m<ipython-input-15-7e3702042ac6>\u001b[0m in \u001b[0;36m<module>\u001b[0;34m\u001b[0m\n\u001b[1;32m      9\u001b[0m \u001b[0mprint\u001b[0m\u001b[0;34m(\u001b[0m\u001b[0md1\u001b[0m\u001b[0;34m)\u001b[0m\u001b[0;34m\u001b[0m\u001b[0;34m\u001b[0m\u001b[0m\n\u001b[1;32m     10\u001b[0m \u001b[0;32mdel\u001b[0m \u001b[0md1\u001b[0m \u001b[0;31m# 删除字典，打印会报错\u001b[0m\u001b[0;34m\u001b[0m\u001b[0;34m\u001b[0m\u001b[0m\n\u001b[0;32m---> 11\u001b[0;31m \u001b[0mprint\u001b[0m\u001b[0;34m(\u001b[0m\u001b[0md1\u001b[0m\u001b[0;34m)\u001b[0m\u001b[0;34m\u001b[0m\u001b[0;34m\u001b[0m\u001b[0m\n\u001b[0m",
      "\u001b[0;31mNameError\u001b[0m: name 'd1' is not defined"
     ]
    }
   ],
   "source": [
    "# 删除字典 使用del命令\n",
    "\n",
    "\n",
    "d1 = {'name':'zhuxianfu', 'age':26, 'height':175}\n",
    "print(d1) \n",
    "del d1['name'] # 删除键值对 ‘name':aa\n",
    "print(d1)\n",
    "d1.clear() # 清空字典,不会报错\n",
    "print(d1)\n",
    "del d1 # 删除字典，打印会报错\n",
    "print(d1) "
   ]
  },
  {
   "cell_type": "markdown",
   "id": "69f4e558",
   "metadata": {},
   "source": [
    "## 字典的内置函数\n",
    "`\n",
    "len(dict) 计算字典中键的总数\n",
    "str(dict) 输出字典，以可打印字符串表示\n",
    "type(varable) 返回输入的变量类型，如果变量是字典就返回字典类型\n",
    "`"
   ]
  },
  {
   "cell_type": "code",
   "execution_count": 16,
   "id": "bfc8670e",
   "metadata": {},
   "outputs": [
    {
     "name": "stdout",
     "output_type": "stream",
     "text": [
      "4\n",
      "{'a': 1, 'b': 2, 'c': 3, 'd': 4}\n",
      "<class 'dict'>\n"
     ]
    }
   ],
   "source": [
    "# 内置函数案例\n",
    "dict1 = {'a':1, 'b':2, 'c':3, 'd':4}\n",
    "print(len(dict1))\n",
    "print(str(dict1))\n",
    "print(type(dict1))"
   ]
  },
  {
   "cell_type": "markdown",
   "id": "11cf13f6",
   "metadata": {},
   "source": [
    "# 课堂练习\n",
    "## 使用字典做一个简单的三子棋"
   ]
  },
  {
   "cell_type": "code",
   "execution_count": 26,
   "id": "95d1f55a",
   "metadata": {
    "scrolled": false
   },
   "outputs": [
    {
     "name": "stdout",
     "output_type": "stream",
     "text": [
      "  |   |  \n",
      "- + - + -\n",
      "  |   |  \n",
      "- + - + -\n",
      "  |   |  \n",
      "- + - + -\n",
      "请输入位置如：上 中 下：上\n",
      "请输入位置如：左 中 右：中\n",
      "  | X |  \n",
      "- + - + -\n",
      "  |   |  \n",
      "- + - + -\n",
      "  |   |  \n",
      "- + - + -\n",
      "请输入位置如：上 中 下：下\n",
      "请输入位置如：左 中 右：中\n",
      "  | X |  \n",
      "- + - + -\n",
      "  |   |  \n",
      "- + - + -\n",
      "  | O |  \n",
      "- + - + -\n",
      "请输入位置如：上 中 下：上\n",
      "请输入位置如：左 中 右：右\n",
      "  | X | X\n",
      "- + - + -\n",
      "  |   |  \n",
      "- + - + -\n",
      "  | O |  \n",
      "- + - + -\n",
      "请输入位置如：上 中 下：上\n",
      "请输入位置如：左 中 右：左\n",
      "O | X | X\n",
      "- + - + -\n",
      "  |   |  \n",
      "- + - + -\n",
      "  | O |  \n",
      "- + - + -\n",
      "请输入位置如：上 中 下：中\n",
      "请输入位置如：左 中 右：左\n",
      "O | X | X\n",
      "- + - + -\n",
      "X |   |  \n",
      "- + - + -\n",
      "  | O |  \n",
      "- + - + -\n",
      "请输入位置如：上 中 下：中\n",
      "请输入位置如：左 中 右：中\n",
      "O | X | X\n",
      "- + - + -\n",
      "X | O |  \n",
      "- + - + -\n",
      "  | O |  \n",
      "- + - + -\n",
      "请输入位置如：上 中 下：下\n",
      "请输入位置如：左 中 右：右\n",
      "O | X | X\n",
      "- + - + -\n",
      "X | O |  \n",
      "- + - + -\n",
      "  | O | X\n",
      "- + - + -\n",
      "请输入位置如：上 中 下：中\n",
      "请输入位置如：左 中 右：右\n",
      "O | X | X\n",
      "- + - + -\n",
      "X | O | O\n",
      "- + - + -\n",
      "  | O | X\n",
      "- + - + -\n",
      "请输入位置如：上 中 下：下\n",
      "请输入位置如：左 中 右：右\n"
     ]
    }
   ],
   "source": [
    "# 方法一\n",
    "# 棋盘\n",
    "board = {'上左':' ', '上中':' ', '上右':' ',\n",
    "         '中左':' ', '中中':' ', '中右':' ',\n",
    "         '下左':' ', '下中':' ', '下右':' '}\n",
    "turn = 'X'\n",
    "for i in range(9):\n",
    "    print(board['上左'] + ' | ' + board['上中'] + ' | ' + board['上右'])\n",
    "    print('- + - + -')\n",
    "    print(board['中左'] + ' | ' + board['中中'] + ' | ' + board['中右'])\n",
    "    print('- + - + -')\n",
    "    print(board['下左'] + ' | ' + board['下中'] + ' | ' + board['下右'])\n",
    "    print('- + - + -')\n",
    "    # for循环内部写下棋程序\n",
    "    move1 = input('请输入位置如：上 中 下：')\n",
    "    move2 = input('请输入位置如：左 中 右：')\n",
    "    move = move1 + move2\n",
    "    board[move] = turn\n",
    "    if turn == 'X':\n",
    "        turn = 'O'\n",
    "    else:\n",
    "        turn = 'X'"
   ]
  },
  {
   "cell_type": "code",
   "execution_count": 27,
   "id": "af9f4818",
   "metadata": {},
   "outputs": [
    {
     "name": "stdout",
     "output_type": "stream",
     "text": [
      "  |   |  \n",
      "- + - + -\n",
      "  |   |  \n",
      "- + - + -\n",
      "  |   |  \n",
      "- + - + -\n",
      "你现在是X,你想移动的位置是？\n",
      "请输入位置如 1-9:2\n",
      "  | X |  \n",
      "- + - + -\n",
      "  |   |  \n",
      "- + - + -\n",
      "  |   |  \n",
      "- + - + -\n",
      "你现在是O,你想移动的位置是？\n",
      "请输入位置如 1-9:5\n",
      "  | X |  \n",
      "- + - + -\n",
      "  | O |  \n",
      "- + - + -\n",
      "  |   |  \n",
      "- + - + -\n",
      "你现在是X,你想移动的位置是？\n",
      "请输入位置如 1-9:1\n",
      "X | X |  \n",
      "- + - + -\n",
      "  | O |  \n",
      "- + - + -\n",
      "  |   |  \n",
      "- + - + -\n",
      "你现在是O,你想移动的位置是？\n",
      "请输入位置如 1-9:3\n",
      "X | X | O\n",
      "- + - + -\n",
      "  | O |  \n",
      "- + - + -\n",
      "  |   |  \n",
      "- + - + -\n",
      "你现在是X,你想移动的位置是？\n",
      "请输入位置如 1-9:7\n",
      "X | X | O\n",
      "- + - + -\n",
      "  | O |  \n",
      "- + - + -\n",
      "X |   |  \n",
      "- + - + -\n",
      "你现在是O,你想移动的位置是？\n",
      "请输入位置如 1-9:4\n",
      "X | X | O\n",
      "- + - + -\n",
      "O | O |  \n",
      "- + - + -\n",
      "X |   |  \n",
      "- + - + -\n",
      "你现在是X,你想移动的位置是？\n",
      "请输入位置如 1-9:6\n",
      "X | X | O\n",
      "- + - + -\n",
      "O | O | X\n",
      "- + - + -\n",
      "X |   |  \n",
      "- + - + -\n",
      "你现在是O,你想移动的位置是？\n",
      "请输入位置如 1-9:1\n",
      "O | X | O\n",
      "- + - + -\n",
      "O | O | X\n",
      "- + - + -\n",
      "X |   |  \n",
      "- + - + -\n",
      "你现在是X,你想移动的位置是？\n",
      "请输入位置如 1-9:2\n"
     ]
    }
   ],
   "source": [
    "# 2\n",
    "# 棋盘 (1-9)\n",
    "board = {'1':' ', '2':' ', '3':' ',\n",
    "         '4':' ', '5':' ', '6':' ',\n",
    "         '7':' ', '8':' ', '9':' '}\n",
    "turn = 'X'\n",
    "for i in range(9):\n",
    "    print(board['1'] + ' | ' + board['2'] + ' | ' + board['3'])\n",
    "    print('- + - + -')\n",
    "    print(board['4'] + ' | ' + board['5'] + ' | ' + board['6'])\n",
    "    print('- + - + -')\n",
    "    print(board['7'] + ' | ' + board['8'] + ' | ' + board['9'])\n",
    "    print('- + - + -')\n",
    "    # for循环内部写下棋程序\n",
    "    print('你现在是' + turn + ',你想移动的位置是？')\n",
    "    move = input('请输入位置如 1-9:')\n",
    "    board[move] = turn\n",
    "    if turn == 'X':\n",
    "        turn = 'O'\n",
    "    else:\n",
    "        turn = 'X'"
   ]
  },
  {
   "cell_type": "code",
   "execution_count": null,
   "id": "e5826a5a",
   "metadata": {},
   "outputs": [],
   "source": []
  },
  {
   "cell_type": "code",
   "execution_count": null,
   "id": "2b6e2bbe",
   "metadata": {},
   "outputs": [],
   "source": []
  }
 ],
 "metadata": {
  "kernelspec": {
   "display_name": "Python 3",
   "language": "python",
   "name": "python3"
  },
  "language_info": {
   "codemirror_mode": {
    "name": "ipython",
    "version": 3
   },
   "file_extension": ".py",
   "mimetype": "text/x-python",
   "name": "python",
   "nbconvert_exporter": "python",
   "pygments_lexer": "ipython3",
   "version": "3.8.8"
  }
 },
 "nbformat": 4,
 "nbformat_minor": 5
}
