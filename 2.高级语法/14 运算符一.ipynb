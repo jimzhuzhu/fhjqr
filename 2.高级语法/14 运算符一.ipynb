{
 "cells": [
  {
   "cell_type": "markdown",
   "id": "05366e75",
   "metadata": {},
   "source": [
    "# 运算符\n",
    "## 学习目标\n",
    " - 理解运算符概念和种类\n",
    " - 学会使用基本的运算符"
   ]
  },
  {
   "cell_type": "markdown",
   "id": "82fc8e4a",
   "metadata": {},
   "source": [
    "## python中的运算符\n",
    "- 算术运算符 + - * / % ** //\n",
    "- 比较运算符 < > ==\n",
    "- 赋值运算符 =\n",
    "- 逻辑运算符 or not and\n",
    "- 位运算符 \n",
    "- 成员运算符 in\n",
    "- 身份运算符 ID\n",
    "- 不同运算符存在优先级"
   ]
  },
  {
   "cell_type": "markdown",
   "id": "686bccf3",
   "metadata": {},
   "source": [
    "### 算术运算符\n",
    "- 两个对象相加 + a + b\n",
    "- 相减 - a - b\n",
    "- 两数相乘或者重复若干次 * 2*3 6\n",
    "- / 除法 得到float浮点数 9/2 4.5\n",
    "- % 取模 返回除法的余数 9%2 1\n",
    "- ** 幂运算 返回x的y次幂 2**3 8 \n",
    "- // 整除，向下取除数的整数 9//2 4"
   ]
  },
  {
   "cell_type": "code",
   "execution_count": 5,
   "id": "6d9f8e72",
   "metadata": {},
   "outputs": [
    {
     "name": "stdout",
     "output_type": "stream",
     "text": [
      "31\n",
      "11\n",
      "210\n",
      "2.1\n",
      "1\n",
      "16679880978201\n",
      "2\n"
     ]
    }
   ],
   "source": [
    "# 运算符\n",
    "a = 21\n",
    "b = 10\n",
    "c = 0\n",
    "# 加法运算\n",
    "c = a + b\n",
    "print(c)\n",
    "# 减法运算\n",
    "c = a - b\n",
    "print(c)\n",
    "# 乘法\n",
    "c = a * b\n",
    "print(c)\n",
    "# 除法\n",
    "c = a / b\n",
    "print(c)\n",
    "# 取余\n",
    "c = a % b\n",
    "print(c)\n",
    "# 幂运算\n",
    "c = a ** b\n",
    "print(c)\n",
    "# 整除\n",
    "c = a // b\n",
    "print(c)"
   ]
  },
  {
   "cell_type": "code",
   "execution_count": 6,
   "id": "ec58d53f",
   "metadata": {},
   "outputs": [
    {
     "name": "stdout",
     "output_type": "stream",
     "text": [
      "5\n",
      "27\n"
     ]
    }
   ],
   "source": [
    "# 算术运算符，在python中，可以使用eval()函数来代替\n",
    "# 该函数用来执行一个字符串表达式，并返回表达式的值\n",
    "x = 3\n",
    "print(eval('2 + 3'))\n",
    "print(eval('x ** 3'))"
   ]
  },
  {
   "cell_type": "markdown",
   "id": "08e695f8",
   "metadata": {},
   "source": [
    "### 比较运算符\n",
    "- == 等于，比较对象是否相等\n",
    "- ！= 不等于，比较对象是否不想等\n",
    "- 大于 > 返回x是否大于y\n",
    "- 小于 < 返回x是否小于y\n",
    "- \\>=\n",
    "- <=\n",
    "- 比较运算符返回的都是布尔值"
   ]
  },
  {
   "cell_type": "code",
   "execution_count": null,
   "id": "9e277168",
   "metadata": {},
   "outputs": [],
   "source": [
    "\n"
   ]
  }
 ],
 "metadata": {
  "kernelspec": {
   "display_name": "Python 3",
   "language": "python",
   "name": "python3"
  },
  "language_info": {
   "codemirror_mode": {
    "name": "ipython",
    "version": 3
   },
   "file_extension": ".py",
   "mimetype": "text/x-python",
   "name": "python",
   "nbconvert_exporter": "python",
   "pygments_lexer": "ipython3",
   "version": "3.8.8"
  }
 },
 "nbformat": 4,
 "nbformat_minor": 5
}
