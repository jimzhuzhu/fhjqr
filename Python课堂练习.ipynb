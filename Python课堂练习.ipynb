{
 "cells": [
  {
   "cell_type": "markdown",
   "metadata": {
    "pycharm": {
     "name": "#%% md\n"
    }
   },
   "source": [
    "# Python课题练习"
   ]
  },
  {
   "cell_type": "code",
   "execution_count": 8,
   "metadata": {
    "pycharm": {
     "name": "#%%\n"
    }
   },
   "outputs": [
    {
     "name": "stdout",
     "output_type": "stream",
     "text": [
      "123 |124 |132 |134 |142 |143 |213 |214 |231 |234 |241 |243 |312 |314 |321 |324 |341 |342 |412 |413 |421 |423 |431 |432 |24\n"
     ]
    }
   ],
   "source": [
    "# 有1、2、3、4个数字，能组成多少个互不相同且无重复数字的三位数？都是多少？\n",
    "\n",
    "cnt = 0#count the sum of result\n",
    "for i in range(1,5):\n",
    "    for j in range(1,5):\n",
    "        for k in range(1,5):\n",
    "            if i!=j and i!=k and j!=k:\n",
    "                print(i*100+j*10+k,\"|\",end='')\n",
    "                cnt+=1\n",
    "print(cnt)"
   ]
  },
  {
   "cell_type": "code",
   "execution_count": 25,
   "metadata": {
    "pycharm": {
     "name": "#%%\n"
    }
   },
   "outputs": [
    {
     "name": "stdout",
     "output_type": "stream",
     "text": [
      "请输入你的利润1000000\n",
      "6000.0\n",
      "6000.0\n",
      "10000.0\n",
      "7500.0\n",
      "10000.0\n",
      "39500.0\n"
     ]
    }
   ],
   "source": [
    "# 企业发放的奖金根据利润提成。利润(I)低于或等于10万元时，奖金可提10%；\n",
    "# 利润高于10万元，低于20万元时，低于10万元的部分按10%提成，高于10万元的部分，\n",
    "# 可可提成7.5%；20万到40万之间时，高于20万元的部分，可提成5%；\n",
    "# 40万到60万之间时高于40万元的部分，可提成3%；60万到100万之间时，\n",
    "# 高于60万元的部分，可提成1.5%，高于100万元时，超过100万元的部分按1%提成，\n",
    "# 从键盘输入当月利润I，求应发放奖金总数？\n",
    "\n",
    "raw = input(\"请输入你的利润\")\n",
    "i = int(raw)\n",
    "arr = [1000000,600000,400000,200000,100000,0]\n",
    "rat = [0.01,0.015,0.03,0.05,0.075,0.1]\n",
    "r = 0\n",
    "for idx in range(0,6):\n",
    "    if i > arr[idx]:\n",
    "        r += (i - arr[idx]) * rat[idx]\n",
    "        print((i - arr[idx]) * rat[idx])\n",
    "        i = arr[idx]\n",
    "print(r)"
   ]
  },
  {
   "cell_type": "markdown",
   "metadata": {
    "pycharm": {
     "name": "#%% md\n"
    }
   },
   "source": []
  },
  {
   "cell_type": "code",
   "execution_count": 26,
   "metadata": {
    "pycharm": {
     "name": "#%%\n"
    }
   },
   "outputs": [
    {
     "name": "stdout",
     "output_type": "stream",
     "text": [
      "21\n"
     ]
    }
   ],
   "source": [
    "# 一个整数，它加上100后是一个完全平方数，再加上168又是一个完全平方数，\n",
    "# 请问该数是多少？\n",
    "\n",
    "# coding:utf-8\n",
    "\n",
    "import math\n",
    "num = 1\n",
    "while True:\n",
    "    if math.sqrt(num + 100) - int(math.sqrt(num + 100)) == 0 and math.sqrt(num + 268)- int(math.sqrt(num +268)) == 0:\n",
    "        print(num)\n",
    "        break\n",
    "    num += 1"
   ]
  },
  {
   "cell_type": "code",
   "execution_count": 37,
   "metadata": {
    "pycharm": {
     "name": "#%%\n"
    }
   },
   "outputs": [
    {
     "name": "stdout",
     "output_type": "stream",
     "text": [
      "Enter the datetime:20180707\n",
      "-8110\n"
     ]
    }
   ],
   "source": [
    "# 输入某年某月某日，判断这一天是这一年的第几天？\n",
    "\n",
    "import datetime\n",
    "import time\n",
    "\n",
    "# dtstr = str(raw_input(\"Enter the datetime:(19951018):\"))\n",
    "raw = input(\"Enter the datetime:\")\n",
    "dtstr = str(raw)\n",
    "dt = datetime.datetime.strptime(dtatr,\"%Y%m%d\")\n",
    "another_dtstr = dtstr[:4] + \"0101\"\n",
    "another_dt = datetime.datetime.strptime(another_dtstr,\"%Y%m%d\")\n",
    "print(int((dt-another_dt).days) + 1)"
   ]
  },
  {
   "cell_type": "code",
   "execution_count": 46,
   "metadata": {
    "pycharm": {
     "name": "#%%\n"
    }
   },
   "outputs": [
    {
     "name": "stdout",
     "output_type": "stream",
     "text": [
      "请输入整数x:4\n",
      "请输入整数y:3\n",
      "请输入整数z:9\n",
      "3 4 9\n"
     ]
    }
   ],
   "source": [
    "# 输入三个整数x,y,z，请把这三个数由小到大输出\n",
    "\n",
    "import math\n",
    "x1 = input(\"请输入整数x:\")\n",
    "y1 = input(\"请输入整数y:\")\n",
    "z1 = input(\"请输入整数z:\")\n",
    "x = int(x1)\n",
    "y = int(y1)\n",
    "z = int(z1)\n",
    "if x > y :\n",
    "    a = x\n",
    "    x = y\n",
    "    y = a\n",
    "elif x > z:\n",
    "    b = x\n",
    "    x = z\n",
    "    z = b\n",
    "print(x,y,z)"
   ]
  },
  {
   "cell_type": "code",
   "execution_count": 54,
   "metadata": {
    "pycharm": {
     "name": "#%%\n"
    }
   },
   "outputs": [
    {
     "name": "stdout",
     "output_type": "stream",
     "text": [
      "1 * 1 = 1\n",
      "1 * 2 = 2\n",
      "1 * 3 = 3\n",
      "1 * 4 = 4\n",
      "1 * 5 = 5\n",
      "1 * 6 = 6\n",
      "1 * 7 = 7\n",
      "1 * 8 = 8\n",
      "1 * 9 = 9\n",
      "\n",
      "2 * 1 = 2\n",
      "2 * 2 = 4\n",
      "2 * 3 = 6\n",
      "2 * 4 = 8\n",
      "2 * 5 = 10\n",
      "2 * 6 = 12\n",
      "2 * 7 = 14\n",
      "2 * 8 = 16\n",
      "2 * 9 = 18\n",
      "\n",
      "3 * 1 = 3\n",
      "3 * 2 = 6\n",
      "3 * 3 = 9\n",
      "3 * 4 = 12\n",
      "3 * 5 = 15\n",
      "3 * 6 = 18\n",
      "3 * 7 = 21\n",
      "3 * 8 = 24\n",
      "3 * 9 = 27\n",
      "\n",
      "4 * 1 = 4\n",
      "4 * 2 = 8\n",
      "4 * 3 = 12\n",
      "4 * 4 = 16\n",
      "4 * 5 = 20\n",
      "4 * 6 = 24\n",
      "4 * 7 = 28\n",
      "4 * 8 = 32\n",
      "4 * 9 = 36\n",
      "\n",
      "5 * 1 = 5\n",
      "5 * 2 = 10\n",
      "5 * 3 = 15\n",
      "5 * 4 = 20\n",
      "5 * 5 = 25\n",
      "5 * 6 = 30\n",
      "5 * 7 = 35\n",
      "5 * 8 = 40\n",
      "5 * 9 = 45\n",
      "\n",
      "6 * 1 = 6\n",
      "6 * 2 = 12\n",
      "6 * 3 = 18\n",
      "6 * 4 = 24\n",
      "6 * 5 = 30\n",
      "6 * 6 = 36\n",
      "6 * 7 = 42\n",
      "6 * 8 = 48\n",
      "6 * 9 = 54\n",
      "\n",
      "7 * 1 = 7\n",
      "7 * 2 = 14\n",
      "7 * 3 = 21\n",
      "7 * 4 = 28\n",
      "7 * 5 = 35\n",
      "7 * 6 = 42\n",
      "7 * 7 = 49\n",
      "7 * 8 = 56\n",
      "7 * 9 = 63\n",
      "\n",
      "8 * 1 = 8\n",
      "8 * 2 = 16\n",
      "8 * 3 = 24\n",
      "8 * 4 = 32\n",
      "8 * 5 = 40\n",
      "8 * 6 = 48\n",
      "8 * 7 = 56\n",
      "8 * 8 = 64\n",
      "8 * 9 = 72\n",
      "\n",
      "9 * 1 = 9\n",
      "9 * 2 = 18\n",
      "9 * 3 = 27\n",
      "9 * 4 = 36\n",
      "9 * 5 = 45\n",
      "9 * 6 = 54\n",
      "9 * 7 = 63\n",
      "9 * 8 = 72\n",
      "9 * 9 = 81\n",
      "\n"
     ]
    }
   ],
   "source": [
    "# 输出乘法口诀表\n",
    "\n",
    "for i in range(1,10):\n",
    "    for j in range(1,10):\n",
    "        print( int(i), \"*\", int(j), \"=\", i*j )\n",
    "    print(\"\")"
   ]
  },
  {
   "cell_type": "code",
   "execution_count": 58,
   "metadata": {
    "pycharm": {
     "name": "#%%\n"
    }
   },
   "outputs": [
    {
     "name": "stdout",
     "output_type": "stream",
     "text": [
      "1\n",
      "1\n",
      "2\n",
      "3\n",
      "5\n",
      "8\n",
      "13\n",
      "21\n",
      "34\n",
      "55\n",
      "89\n",
      "144\n",
      "233\n",
      "377\n",
      "610\n",
      "987\n",
      "1597\n",
      "2584\n",
      "4181\n",
      "6765\n",
      "10946\n",
      "17711\n"
     ]
    }
   ],
   "source": [
    "# 古典问题：有一对兔子，从出生后第3个月起每个月都生一对兔子，小兔子长到第三个月\n",
    "# 后每个月又生一对兔子，假如兔子都不死，问每个月的兔子总数为多少？\n",
    "\n",
    "a = 1\n",
    "b = 1\n",
    "print(a)\n",
    "print(b)\n",
    "for i in range(10):\n",
    "    a = a + b\n",
    "    print(a)\n",
    "    b = b + a\n",
    "    print(b)"
   ]
  },
  {
   "cell_type": "code",
   "execution_count": 62,
   "metadata": {
    "pycharm": {
     "name": "#%%\n"
    }
   },
   "outputs": [
    {
     "name": "stdout",
     "output_type": "stream",
     "text": [
      "  101\n",
      "  103\n",
      "  107\n",
      "  109\n",
      "  113\n",
      "  127\n",
      "  131\n",
      "  137\n",
      "  139\n",
      "  149\n",
      "  151\n",
      "  157\n",
      "  163\n",
      "  167\n",
      "  173\n",
      "  179\n",
      "  181\n",
      "  191\n",
      "  193\n",
      "  197\n",
      "  199\n"
     ]
    }
   ],
   "source": [
    "# 判断101-200之间有多少个质数，并输出所以的质数\n",
    "# 素数定义：除了1和本身，无法被其他自然数整除\n",
    "\n",
    "from math import sqrt\n",
    "def main():\n",
    "    for i in range(101,201):\n",
    "        flag = 1\n",
    "        k = int(sqrt(i))\n",
    "        for j in range(2,k+1):\n",
    "            if i % j == 0:\n",
    "                flag = 0\n",
    "                break\n",
    "                \n",
    "        if flag == 1:\n",
    "            print(\"%5d\" % (i))\n",
    "if __name__ == \"__main__\":\n",
    "    main()"
   ]
  },
  {
   "cell_type": "code",
   "execution_count": 10,
   "metadata": {
    "pycharm": {
     "name": "#%%\n"
    }
   },
   "outputs": [
    {
     "name": "stdout",
     "output_type": "stream",
     "text": [
      "153\n",
      "370\n",
      "371\n",
      "407\n"
     ]
    }
   ],
   "source": [
    "# 打印出所有的“水仙花数”，所谓“水仙花数”是指一个三位数，\n",
    "# 其各位数字立方和等于该数本身。例如：153是一个“水仙花数”，\n",
    "# 因为153=1的三次方＋5的三次方＋3的三次方。\n",
    "\n",
    "# coding:utf-8\n",
    "def main():\n",
    "    for i in range(100,1000):\n",
    "        a = i % 10\n",
    "        b = int(i / 100)\n",
    "        c = (int(i/10)) % 10\n",
    "        if i == a **3 + b **3 + c **3:\n",
    "            print(\"%d\" % i)\n",
    "if __name__ == \"__main__\":\n",
    "    main()"
   ]
  },
  {
   "cell_type": "code",
   "execution_count": 30,
   "metadata": {
    "pycharm": {
     "name": "#%%\n"
    }
   },
   "outputs": [
    {
     "name": "stdout",
     "output_type": "stream",
     "text": [
      "请输入一个整数：10\n",
      "10 =\n",
      "2*\n",
      "5\n"
     ]
    }
   ],
   "source": [
    "# 将一个正整数分解质因数，例如：输入90，打印出90=2*3*3*5\n",
    "\n",
    "def main():\n",
    "    raw = input(\"请输入一个整数：\")   \n",
    "    n = int(raw)\n",
    "    print(n,'=')\n",
    "    while (n != 1):\n",
    "        for i in range(2,n+1):\n",
    "            if (n % i) == 0:\n",
    "                n //= i # 整除\n",
    "                if(n == 1):\n",
    "                    print(\"%d\" %(i))\n",
    "                else:\n",
    "                    print(\"%d\" \"*\" % (i))\n",
    "                break\n",
    "                \n",
    "if __name__ == \"__main__\":\n",
    "    main()"
   ]
  },
  {
   "cell_type": "code",
   "execution_count": 34,
   "metadata": {
    "pycharm": {
     "name": "#%%\n"
    }
   },
   "outputs": [
    {
     "name": "stdout",
     "output_type": "stream",
     "text": [
      "请输入学习成绩：21\n",
      "C\n"
     ]
    }
   ],
   "source": [
    "# 利用条件运算符的嵌套来完成\n",
    "# 学习成绩 > = 90份的用A表示，60-80分用B表示，60分以下用C表示\n",
    "\n",
    "stu_guess = input(\"请输入学习成绩：\")\n",
    "stu = int(stu_guess)\n",
    "if stu >= 90:\n",
    "    print(\"A\")\n",
    "elif stu >= 60:\n",
    "    print(\"B\")\n",
    "else:\n",
    "    print(\"C\")"
   ]
  },
  {
   "cell_type": "code",
   "execution_count": 38,
   "metadata": {
    "pycharm": {
     "name": "#%%\n"
    }
   },
   "outputs": [
    {
     "name": "stdout",
     "output_type": "stream",
     "text": [
      "input a string:我的生日shi19951018\n",
      "There are 7 letters,0 spaces,8 digits and 0 other characters in your string.\n"
     ]
    }
   ],
   "source": [
    "# 输入一行字符，分别统计出其中英文字母、空格、数字和其它字符的个数\n",
    "\n",
    "#!/usr/bin/python\n",
    "#-*- coding:utf-8 -*-\n",
    "#there is no ++ operator in Python\n",
    "import string\n",
    "def main():\n",
    "    raw = input('input a string:')\n",
    "    s = raw\n",
    "    letter = 0\n",
    "    space = 0\n",
    "    digit = 0\n",
    "    other = 0\n",
    "    for c in s:\n",
    "        if c.isalpha():\n",
    "            letter+=1\n",
    "        elif c.isspace():\n",
    "            space+=1\n",
    "        elif c.isdigit():\n",
    "            digit+=1\n",
    "        else:\n",
    "            other+=1\n",
    "    print('There are %d letters,%d spaces,%d digits and %d other characters in your string.'%(letter,space,digit,other))\n",
    "\n",
    "if __name__ == '__main__':\n",
    "    main()"
   ]
  },
  {
   "cell_type": "code",
   "execution_count": 41,
   "metadata": {
    "pycharm": {
     "name": "#%%\n"
    }
   },
   "outputs": [
    {
     "name": "stdout",
     "output_type": "stream",
     "text": [
      "请输入数字:3\n",
      "请输入想加次数:3\n",
      "363\n"
     ]
    }
   ],
   "source": [
    "# 求s=a+aa+aaa+aaaa+aa...a的值，\n",
    "# 其中a是一个数字。例如2+22+222+2222+22222(此时共有5个数相加)，几个数相加有键盘控制。\n",
    "\n",
    "def flow(num,count):\n",
    "    num = int(num)\n",
    "    count = int(count)\n",
    "    for i in range(1,count):\n",
    "        num = num * 10 + num\n",
    "    return num\n",
    "num = input(\"请输入数字:\")\n",
    "count = input(\"请输入想加次数:\")\n",
    "print(flow(num,count))"
   ]
  },
  {
   "cell_type": "code",
   "execution_count": 49,
   "metadata": {
    "pycharm": {
     "name": "#%%\n"
    }
   },
   "outputs": [
    {
     "name": "stdout",
     "output_type": "stream",
     "text": [
      "input a number:10\n",
      "No\n"
     ]
    }
   ],
   "source": [
    "# 一个数如果恰好等于它的因子之和，这个数就称为“完数”。例如6=1＋2＋3.编程\n",
    "# 找出1000以内的所有完数。\n",
    "\n",
    "from math import sqrt\n",
    "raw = input(\"input a number:\")\n",
    "n = int(raw)\n",
    "sum = n * -1\n",
    "k = int(sqrt(n))\n",
    "for i in range(1,k+1):\n",
    "    if n % i == 0:\n",
    "        sum += n / i\n",
    "        sum += i\n",
    "if sum == n:\n",
    "    print(\"Yes\")\n",
    "else:\n",
    "    print(\"No\")"
   ]
  },
  {
   "cell_type": "code",
   "execution_count": 51,
   "metadata": {
    "pycharm": {
     "name": "#%%\n"
    }
   },
   "outputs": [
    {
     "name": "stdout",
     "output_type": "stream",
     "text": [
      "运动总和：299.609375\n",
      "反弹高度：0.097656\n"
     ]
    }
   ],
   "source": [
    "# 计算球反弹十次后的运动距离和反弹高度\n",
    "\n",
    "s = 100\n",
    "h = 50.0\n",
    "for i in range(2,11):\n",
    "    s = s + 2*h\n",
    "    h = h / 2\n",
    "print(\"运动总和：%f\" % s)\n",
    "print(\"反弹高度：%f\" % h)"
   ]
  },
  {
   "cell_type": "code",
   "execution_count": 56,
   "metadata": {
    "pycharm": {
     "name": "#%%\n"
    }
   },
   "outputs": [
    {
     "name": "stdout",
     "output_type": "stream",
     "text": [
      "10\n"
     ]
    }
   ],
   "source": [
    "# 计算桃子\n",
    "\n",
    "a = 1 # 最后一天只剩一个\n",
    "for i in range(1,3): # 吃了几天\n",
    "    a = (a + 1)* 2 # 每天吃剩下的一半加一个\n",
    "print(a)"
   ]
  },
  {
   "cell_type": "code",
   "execution_count": 60,
   "metadata": {
    "pycharm": {
     "name": "#%%\n"
    }
   },
   "outputs": [
    {
     "name": "stdout",
     "output_type": "stream",
     "text": [
      "a:y,b:x,c:y\n",
      "a:y,b:z,c:y\n",
      "a:z,b:y,c:y\n",
      "a:z,b:z,c:y\n"
     ]
    }
   ],
   "source": [
    "# 列出乒乓球队比赛名单\n",
    "\n",
    "a = set(['x','y','z']) # 设置列表\n",
    "b = set(['x','y','z'])\n",
    "c = set(['x','y','z'])\n",
    "c -= set(['x','z']) # 列表也可以增减\n",
    "a -= set(['x'])\n",
    "for i in a:\n",
    "    for j in b:\n",
    "        for k in c:\n",
    "            if len(set([i,j,k])) == 2: # 判断队列元素个数\n",
    "                print(\"a:%s,b:%s,c:%s\" % (i,j,k))"
   ]
  },
  {
   "cell_type": "code",
   "execution_count": null,
   "metadata": {
    "pycharm": {
     "name": "#%%\n"
    }
   },
   "outputs": [],
   "source": []
  }
 ],
 "metadata": {
  "kernelspec": {
   "display_name": "Python 3",
   "language": "python",
   "name": "python3"
  },
  "language_info": {
   "codemirror_mode": {
    "name": "ipython",
    "version": 3
   },
   "file_extension": ".py",
   "mimetype": "text/x-python",
   "name": "python",
   "nbconvert_exporter": "python",
   "pygments_lexer": "ipython3",
   "version": "3.7.6"
  }
 },
 "nbformat": 4,
 "nbformat_minor": 4
}