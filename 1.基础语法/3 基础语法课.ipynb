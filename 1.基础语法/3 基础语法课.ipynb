{
 "cells": [
  {
   "cell_type": "markdown",
   "metadata": {},
   "source": [
    "# 编码格式： 预先规定的方法将文字，数字等对象编成数码信号\n",
    "# Python默认情况以UTF-8编码，字符串都是unicode字符串\n",
    "# -*- coding:utf-8 -*-"
   ]
  },
  {
   "cell_type": "code",
   "execution_count": 1,
   "metadata": {},
   "outputs": [
    {
     "name": "stdout",
     "output_type": "stream",
     "text": [
      "['False', 'None', 'True', 'and', 'as', 'assert', 'async', 'await', 'break', 'class', 'continue', 'def', 'del', 'elif', 'else', 'except', 'finally', 'for', 'from', 'global', 'if', 'import', 'in', 'is', 'lambda', 'nonlocal', 'not', 'or', 'pass', 'raise', 'return', 'try', 'while', 'with', 'yield']\n"
     ]
    }
   ],
   "source": [
    "# 关键字也称为保留字，不能用来作任何标识符名称\n",
    "# 查看所以关键字方法\n",
    "# 1.keyword模块\n",
    "import keyword\n",
    "print(keyword.kwlist)"
   ]
  },
  {
   "cell_type": "code",
   "execution_count": 2,
   "metadata": {},
   "outputs": [
    {
     "name": "stdout",
     "output_type": "stream",
     "text": [
      "\n",
      "Here is a list of the Python keywords.  Enter any keyword to get more help.\n",
      "\n",
      "False               class               from                or\n",
      "None                continue            global              pass\n",
      "True                def                 if                  raise\n",
      "and                 del                 import              return\n",
      "as                  elif                in                  try\n",
      "assert              else                is                  while\n",
      "async               except              lambda              with\n",
      "await               finally             nonlocal            yield\n",
      "break               for                 not                 \n",
      "\n"
     ]
    }
   ],
   "source": [
    "# 2.help函数\n",
    "help('keywords')"
   ]
  },
  {
   "cell_type": "code",
   "execution_count": null,
   "metadata": {},
   "outputs": [],
   "source": [
    "# 注释，给人看便于理解你的代码\n",
    "'''这也是注释，\n",
    "只是可以写很多行'''\n",
    "\"\"\"这也可以作为注释哦\n",
    "机器并不会运行，增加程序可读性\"\"\""
   ]
  },
  {
   "cell_type": "code",
   "execution_count": null,
   "metadata": {},
   "outputs": [],
   "source": [
    "# 缩进，保证代码整洁，层次清晰的主要手段\n",
    "# 缩进空格可变，但同一个代码块缩进空格必须一直，否则运行会报错\n",
    "# 一般情况缩进4个字符为标准\n",
    "\n",
    "a = input('请输入结果：')\n",
    "a = int(a)\n",
    "b = 1\n",
    "if a > b:\n",
    "    print('太棒啦')\n",
    "else:\n",
    "    print('再试一次')"
   ]
  },
  {
   "cell_type": "code",
   "execution_count": null,
   "metadata": {},
   "outputs": [],
   "source": [
    "# 当语句很长，用反斜杠\\ 实现多行语句\n",
    "c = 4\n",
    "s = a + \\\n",
    "    b + \\\n",
    "    c\n",
    "print(s)"
   ]
  },
  {
   "cell_type": "code",
   "execution_count": 3,
   "metadata": {},
   "outputs": [
    {
     "name": "stdout",
     "output_type": "stream",
     "text": [
      "False None True __peg_parser__ and as assert async await break class continue def del elif else except finally for from global if import in is lambda nonlocal not or pass raise return try while with yield\n"
     ]
    }
   ],
   "source": [
    "# 课堂练习1.用print打印所有的关键字\n",
    "print(False, None, True, '__peg_parser__', 'and', 'as', 'assert', 'async', 'await',\n",
    "      'break', 'class', 'continue', 'def', 'del', 'elif', 'else', 'except', 'finally',\n",
    "      'for', 'from', 'global', 'if', 'import', 'in', 'is', 'lambda', 'nonlocal',\n",
    "      'not', 'or', 'pass', 'raise', 'return', 'try', 'while', 'with', 'yield')"
   ]
  },
  {
   "cell_type": "code",
   "execution_count": null,
   "metadata": {},
   "outputs": [],
   "source": []
  },
  {
   "cell_type": "code",
   "execution_count": null,
   "metadata": {},
   "outputs": [],
   "source": []
  },
  {
   "cell_type": "code",
   "execution_count": null,
   "metadata": {},
   "outputs": [],
   "source": []
  }
 ],
 "metadata": {
  "kernelspec": {
   "display_name": "Python 3",
   "language": "python",
   "name": "python3"
  },
  "language_info": {
   "codemirror_mode": {
    "name": "ipython",
    "version": 3
   },
   "file_extension": ".py",
   "mimetype": "text/x-python",
   "name": "python",
   "nbconvert_exporter": "python",
   "pygments_lexer": "ipython3",
   "version": "3.7.6"
  }
 },
 "nbformat": 4,
 "nbformat_minor": 4
}
