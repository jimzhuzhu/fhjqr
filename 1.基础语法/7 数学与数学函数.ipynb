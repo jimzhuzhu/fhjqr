{
 "cells": [
  {
   "cell_type": "markdown",
   "metadata": {},
   "source": [
    "## number数字类型\n",
    "- int  123\n",
    "- float 1.23\n",
    "- bool True \\ False\n",
    "- complex 1+2j"
   ]
  },
  {
   "cell_type": "markdown",
   "metadata": {},
   "source": [
    "## 数学常量\n",
    "- 指不会变化的数值\n",
    "    - 光速\n",
    "    - 圆周率 pi\n",
    "    - 自然常数 e"
   ]
  },
  {
   "cell_type": "markdown",
   "metadata": {},
   "source": [
    "## 数字类型转换函数\n",
    "- int(x)\n",
    "- float(x)\n",
    "- complex(x), complex(x, y)\n"
   ]
  },
  {
   "cell_type": "code",
   "execution_count": 11,
   "metadata": {},
   "outputs": [
    {
     "name": "stdout",
     "output_type": "stream",
     "text": [
      "123\n",
      "123.0\n",
      "(123+0j)\n"
     ]
    }
   ],
   "source": [
    "a = '123'\n",
    "print(int(a))\n",
    "print(float(a))\n",
    "print(complex(a))"
   ]
  },
  {
   "cell_type": "markdown",
   "metadata": {},
   "source": [
    "## 数学函数\n",
    "import math \n",
    "导入数学包\n",
    "        \n",
    "        abs(x)\n",
    "        max(x, y)\n",
    "        min(x, y)\n",
    "        round(x, y)\n",
    "        ceil(x)\n",
    "        exp(x)\n",
    "        (x>y) % (x<y)\n",
    "        fabs(x)\n",
    "        floor(x)\n",
    "        log(x)  log10(x)\n",
    "        modf(x)\n",
    "        pow(x, y)\n",
    "        sqrt(x)"
   ]
  },
  {
   "cell_type": "code",
   "execution_count": null,
   "metadata": {},
   "outputs": [],
   "source": [
    "# 体验其他数学函数\n",
    "import math\n",
    "print(abs(-5))\n",
    "print(max(-6, 5))\n",
    "print(min(1,2,3,4,5,6))\n",
    "print(round(3.1415, 2))\n",
    "print(math.ceil(2.9))\n",
    "print(math.exp(2))\n",
    "print(math.fabs(-2))\n",
    "print(math.floor(2.9))\n",
    "print(math.log(2))\n",
    "print(math.modf(2.9))\n",
    "print(math.pow(2, 3))\n",
    "print(math.sqrt(4))"
   ]
  },
  {
   "cell_type": "code",
   "execution_count": 14,
   "metadata": {},
   "outputs": [
    {
     "name": "stdout",
     "output_type": "stream",
     "text": [
      "3.0\n"
     ]
    }
   ],
   "source": [
    "import math\n",
    "a = math.sqrt(9)\n",
    "print(a)"
   ]
  },
  {
   "cell_type": "markdown",
   "metadata": {},
   "source": [
    "# 随机数函数\n",
    "import random\n",
    "        \n",
    "        random.randint(x, y)\n",
    "        random.uniform(x, y)\n",
    "        random.random()\n",
    "        random.choice(seq)\n",
    "        random.randrange([start,], stop, [,step])\n",
    "        random.seed[x]\n",
    "        random.shuffle(x)"
   ]
  },
  {
   "cell_type": "markdown",
   "metadata": {},
   "source": [
    "## 三角函数\n",
    "- 用于研究圆和三角形\n",
    "- 也可以研究周期性现象\n",
    "        \n",
    "        cos(x)  余弦值   acos(x)\n",
    "        sin(x)  正弦值   asin(x)\n",
    "        tan(x)  正切值   atan(x) 反\n",
    "        atan2(y, x)  返回给定的x及y坐标值的反正切值\n",
    "        hypot(x, y)\n",
    "        degress(x) 弧度转为角度\n",
    "        radians(x) 角度转为弧度"
   ]
  },
  {
   "cell_type": "code",
   "execution_count": 19,
   "metadata": {},
   "outputs": [
    {
     "name": "stdout",
     "output_type": "stream",
     "text": [
      "请输入圆的半径：4\n",
      "25.132741228718345\n",
      "50.26548245743669\n"
     ]
    }
   ],
   "source": [
    "import math\n",
    "# 输入圆的半径，打印出圆的周长和面积\n",
    "r = input('请输入圆的半径：')\n",
    "r = int(r)\n",
    "p = 2*math.pi*r\n",
    "print(p)\n",
    "sq = math.pi*(r**2)\n",
    "print(sq)"
   ]
  },
  {
   "cell_type": "code",
   "execution_count": 122,
   "metadata": {},
   "outputs": [
    {
     "name": "stdout",
     "output_type": "stream",
     "text": [
      "圆的面积是：12.566370614359172!\n"
     ]
    }
   ],
   "source": [
    "# 随机生辰一个1,100半径的圆，并打印圆的面积\n",
    "import math\n",
    "import random\n",
    "\n",
    "\n",
    "r = random.randint(1, 10)\n",
    "sq = math.pi*(r**2)\n",
    "print('圆的面积是：' + str(sq) + '!')"
   ]
  },
  {
   "cell_type": "code",
   "execution_count": 53,
   "metadata": {},
   "outputs": [
    {
     "name": "stdout",
     "output_type": "stream",
     "text": [
      "圆的面积是：50.26548245743669!\n"
     ]
    }
   ],
   "source": []
  }
 ],
 "metadata": {
  "kernelspec": {
   "display_name": "Python 3",
   "language": "python",
   "name": "python3"
  },
  "language_info": {
   "codemirror_mode": {
    "name": "ipython",
    "version": 3
   },
   "file_extension": ".py",
   "mimetype": "text/x-python",
   "name": "python",
   "nbconvert_exporter": "python",
   "pygments_lexer": "ipython3",
   "version": "3.7.6"
  }
 },
 "nbformat": 4,
 "nbformat_minor": 4
}
