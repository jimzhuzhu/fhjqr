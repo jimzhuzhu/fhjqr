{
 "cells": [
  {
   "cell_type": "markdown",
   "metadata": {
    "pycharm": {
     "name": "#%% md\n"
    }
   },
   "source": [
    "# 列表\n",
    "- 学习目标\n",
    "    - 理解列表概念\n",
    "    - 创建列表的方式\n",
    "    - 从列表中取出数据"
   ]
  },
  {
   "cell_type": "markdown",
   "metadata": {
    "pycharm": {
     "name": "#%% md\n"
    }
   },
   "source": [
    "## 列表\n",
    "- python中最基本的数据结构，序列中每个元素分配一个数字表示它的位置（索引）\n",
    "- 序列可以进行索引，切片，加乘，检查成员等操作"
   ]
  },
  {
   "cell_type": "code",
   "execution_count": 12,
   "metadata": {
    "pycharm": {
     "name": "#%%\n"
    }
   },
   "outputs": [
    {
     "name": "stdout",
     "output_type": "stream",
     "text": [
      "[1, 2, 3, 4]\n",
      "<class 'list'>\n",
      "zhu xiao fu\n"
     ]
    }
   ],
   "source": [
    "#创建列表,用逗号隔开\n",
    "a = [1, 2, 3, 4]\n",
    "print(a)\n",
    "print(type(a))\n"
   ]
  },
  {
   "cell_type": "code",
   "execution_count": 18,
   "metadata": {
    "pycharm": {
     "name": "#%%\n"
    }
   },
   "outputs": [
    {
     "name": "stdout",
     "output_type": "stream",
     "text": [
      "['A', 1, 2, 'B', 3, 4, 'C']\n",
      "A\n",
      "C\n",
      "['A', 1]\n",
      "[2, 'B', 3, 4, 'C']\n"
     ]
    }
   ],
   "source": [
    "# 访问。截取列表中的值\n",
    "b = ['A', 1, 2, 'B', 3, 4, 'C']\n",
    "print(b)\n",
    "# 截取索引为0的值(第一个),截取索引为-1的值(倒数第一个)\n",
    "print(b[0])\n",
    "print(b[-1])\n",
    "print(b[:2])\n",
    "print(b[2:7])"
   ]
  },
  {
   "cell_type": "code",
   "execution_count": 21,
   "metadata": {
    "pycharm": {
     "name": "#%%\n"
    }
   },
   "outputs": [
    {
     "name": "stdout",
     "output_type": "stream",
     "text": [
      "[1, 2, 3, 4]\n",
      "[0, 2, 3, 4]\n",
      "[0, 2, 3, 4, 5]\n"
     ]
    }
   ],
   "source": [
    "# 修改列表\n",
    "a = [1, 2, 3, 4]\n",
    "print(a)\n",
    "# 访问索引重新赋值\n",
    "a[0] = 0\n",
    "print(a)\n",
    "# 在列表末尾添加元素\n",
    "a.append(5)\n",
    "print(a)"
   ]
  },
  {
   "cell_type": "code",
   "execution_count": 23,
   "metadata": {
    "pycharm": {
     "name": "#%%\n"
    }
   },
   "outputs": [
    {
     "name": "stdout",
     "output_type": "stream",
     "text": [
      "['a', 'b', 'c', 'd']\n",
      "['b', 'c', 'd']\n"
     ]
    }
   ],
   "source": [
    "# 删除列表元素\n",
    "a = ['a', 'b', 'c', 'd']\n",
    "print(a)\n",
    "# 删除第一个元素\n",
    "del a[0]\n",
    "print(a)"
   ]
  },
  {
   "cell_type": "code",
   "execution_count": 33,
   "metadata": {
    "pycharm": {
     "name": "#%%\n"
    }
   },
   "outputs": [
    {
     "name": "stdout",
     "output_type": "stream",
     "text": [
      "5\n",
      "[1, 2, 3, 4, 5, 6, 7]\n",
      "[1, 2, 3, 4, 5, 1, 2, 3, 4, 5]\n",
      "True\n",
      "False\n",
      "1|2|3|4|5|"
     ]
    }
   ],
   "source": [
    "# 列表操作符运用\n",
    "a = [1, 2, 3, 4, 5]\n",
    "\n",
    "# + 将两个列表相加组合\n",
    "print(a + [6,7])\n",
    "\n",
    "# * 将列表重复\n",
    "print(a*2)\n",
    "\n",
    "# in 判断元素是否存在列表\n",
    "print(3 in a)\n",
    "print(6 in a)\n",
    "\n",
    "# for x in a, 迭代器\n",
    "for x in a:\n",
    "    print(x, end='|')"
   ]
  },
  {
   "cell_type": "code",
   "execution_count": 36,
   "metadata": {
    "pycharm": {
     "name": "#%%\n"
    }
   },
   "outputs": [
    {
     "name": "stdout",
     "output_type": "stream",
     "text": [
      "[[1, 2, 3, 4], ['a', 'b', 'c', 'd']]\n"
     ]
    }
   ],
   "source": [
    "# 列表的嵌套\n",
    "a = [1, 2, 3, 4]\n",
    "b = ['a', 'b', 'c', 'd']\n",
    "c = [a, b]\n",
    "print(c)"
   ]
  },
  {
   "cell_type": "code",
   "execution_count": 55,
   "metadata": {
    "pycharm": {
     "name": "#%%\n"
    }
   },
   "outputs": [
    {
     "name": "stdout",
     "output_type": "stream",
     "text": [
      "6\n",
      "9\n",
      "1\n",
      "<class 'tuple'>\n",
      "[1, 2, 3]\n",
      "<class 'tuple'>\n"
     ]
    }
   ],
   "source": [
    "# 列表的基本函数应用\n",
    "a = [1, 2, 3, 4, 5, 9]\n",
    "# len(a)计算列表长度\n",
    "print(len(a))\n",
    "\n",
    "# max(a) 返回列表元素最大值\n",
    "print(max(a))\n",
    "\n",
    "# min(a) 返回列表元素最小值\n",
    "print(min(a))\n",
    "\n",
    "# list(seq) 将元组转为列表\n",
    "b = 1, 2, 3\n",
    "print(type(b))\n",
    "print(list(b))\n",
    "print(type(b))\n",
    "# 如果用list作为变量命名，在上述转换中可能会报错，此时可用del 将list变量删除\n",
    "# del list"
   ]
  },
  {
   "cell_type": "markdown",
   "metadata": {
    "pycharm": {
     "name": "#%% md\n"
    }
   },
   "source": [
    "| 序号 | 函数 | 作用 |\n",
    "| :-- | -- | --: |\n",
    "| 5 | list.append(obj) | 在列表末尾添加新的对象 |\n",
    "| 6 | list.count(obj) | 统计某个元素在列表中出现的次数 |\n",
    "| 7 | list.extend(seq) | 在列表末尾一次性追加另一个序列中的多个值(用新列表扩展原来的列表 |\n"
   ]
  }
 ],
 "metadata": {
  "kernelspec": {
   "display_name": "Python 3",
   "language": "python",
   "name": "python3"
  },
  "language_info": {
   "codemirror_mode": {
    "name": "ipython",
    "version": 3
   },
   "file_extension": ".py",
   "mimetype": "text/x-python",
   "name": "python",
   "nbconvert_exporter": "python",
   "pygments_lexer": "ipython3",
   "version": "3.7.6"
  }
 },
 "nbformat": 4,
 "nbformat_minor": 4
}