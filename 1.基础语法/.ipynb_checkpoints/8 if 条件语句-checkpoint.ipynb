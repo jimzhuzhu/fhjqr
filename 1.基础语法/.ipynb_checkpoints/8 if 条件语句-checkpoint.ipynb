{
 "cells": [
  {
   "cell_type": "markdown",
   "metadata": {},
   "source": [
    "# if语句\n",
    "- 结构\n",
    "\n",
    "        if:\n",
    "            xxx\n",
    "        elif:\n",
    "            xxx\n",
    "        else:\n",
    "            pass\n",
    "- 操作运算符\n",
    "    - >, <, >=, <=, !=, =="
   ]
  },
  {
   "cell_type": "code",
   "execution_count": 28,
   "metadata": {},
   "outputs": [
    {
     "name": "stdout",
     "output_type": "stream",
     "text": [
      "请输入你的年龄：1\n",
      "没上学的小屁孩\n"
     ]
    }
   ],
   "source": [
    "age = input('请输入你的年龄：')\n",
    "if age.isdigit():\n",
    "    age = int(age)\n",
    "    if age < 3:\n",
    "        print('没上学的小屁孩')\n",
    "    elif age <= 18:\n",
    "        print('未成年，请赶快退出')\n",
    "    else:\n",
    "        print('欢迎光临，你想喝什么酒')\n",
    "else:\n",
    "    print('你输入的是个撒')"
   ]
  },
  {
   "cell_type": "code",
   "execution_count": 14,
   "metadata": {},
   "outputs": [
    {
     "name": "stdout",
     "output_type": "stream",
     "text": [
      "False\n",
      "True\n"
     ]
    }
   ],
   "source": [
    "a = 10\n",
    "b = 7\n",
    "c = 10\n",
    "print(a == b)\n",
    "print(a == c)"
   ]
  },
  {
   "cell_type": "code",
   "execution_count": 15,
   "metadata": {},
   "outputs": [
    {
     "name": "stdout",
     "output_type": "stream",
     "text": [
      "请输入一个数字1\n"
     ]
    }
   ],
   "source": [
    "# 判断一个数能否被2或3整除\n",
    "number = input('请输入一个数字')\n",
    "number = int(number)\n",
    "if number % 2:\n",
    "    if number % 3:\n",
    "        pass\n",
    "    else:\n",
    "        pass\n",
    "else:\n",
    "    if number % 2:\n",
    "        pass\n",
    "    else:\n",
    "        pass"
   ]
  },
  {
   "cell_type": "code",
   "execution_count": 26,
   "metadata": {},
   "outputs": [
    {
     "ename": "SyntaxError",
     "evalue": "invalid syntax (<ipython-input-26-e67bf556ac9d>, line 3)",
     "output_type": "error",
     "traceback": [
      "\u001b[1;36m  File \u001b[1;32m\"<ipython-input-26-e67bf556ac9d>\"\u001b[1;36m, line \u001b[1;32m3\u001b[0m\n\u001b[1;33m    if age.isdigit():\u001b[0m\n\u001b[1;37m                    ^\u001b[0m\n\u001b[1;31mSyntaxError\u001b[0m\u001b[1;31m:\u001b[0m invalid syntax\n"
     ]
    }
   ],
   "source": [
    "if age.isdigit():\n",
    "    "
   ]
  },
  {
   "cell_type": "code",
   "execution_count": 31,
   "metadata": {},
   "outputs": [
    {
     "name": "stdout",
     "output_type": "stream",
     "text": [
      "请输入你的年龄8\n",
      "儿童节快乐，这是你的礼物\n"
     ]
    }
   ],
   "source": [
    "# 练习，判断输入的儿童是否为儿童\n",
    "age = input('请输入你的年龄')\n",
    "if age.isdigit():\n",
    "    age = int(age)\n",
    "    if 6 < age < 14:\n",
    "        print('儿童节快乐，这是你的礼物')\n",
    "    else:\n",
    "        print('管你什么事！')\n",
    "else:\n",
    "    print('请输入年龄，它是数字！')"
   ]
  },
  {
   "cell_type": "code",
   "execution_count": 34,
   "metadata": {},
   "outputs": [
    {
     "name": "stdout",
     "output_type": "stream",
     "text": [
      "猜数字游戏，你还有3机会\n",
      "请输入1-100的数字10\n",
      "你猜的数字太小啦\n",
      "猜数字游戏，你还有2机会\n",
      "请输入1-100的数字50\n",
      "你猜的数字太大啦\n",
      "猜数字游戏，你还有1机会\n",
      "请输入1-100的数字25\n",
      "你猜的数字太大啦\n"
     ]
    }
   ],
   "source": [
    "# 猜数字\n",
    "number = 19\n",
    "t = 3\n",
    "while t:\n",
    "    msg = print('猜数字游戏，你还有{}机会'.format(t))\n",
    "    guess = input('请输入1-100的数字')\n",
    "    if guess.isdigit():\n",
    "        guess = int(guess)\n",
    "        if guess == number:\n",
    "            print('猜对啦')\n",
    "            break\n",
    "        elif guess < number:\n",
    "            print('你猜的数字太小啦')\n",
    "            t -= 1\n",
    "        elif guess > number:\n",
    "            print('你猜的数字太大啦')\n",
    "            t -= 1\n",
    "    else:\n",
    "        print('请输入数字，这次不扣你的次数')"
   ]
  }
 ],
 "metadata": {
  "kernelspec": {
   "display_name": "Python 3",
   "language": "python",
   "name": "python3"
  },
  "language_info": {
   "codemirror_mode": {
    "name": "ipython",
    "version": 3
   },
   "file_extension": ".py",
   "mimetype": "text/x-python",
   "name": "python",
   "nbconvert_exporter": "python",
   "pygments_lexer": "ipython3",
   "version": "3.7.6"
  }
 },
 "nbformat": 4,
 "nbformat_minor": 4
}
