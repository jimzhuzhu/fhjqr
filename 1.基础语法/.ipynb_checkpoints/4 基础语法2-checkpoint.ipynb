{
 "cells": [
  {
   "cell_type": "code",
   "execution_count": null,
   "metadata": {},
   "outputs": [],
   "source": [
    "# 了解换行符\n",
    "# import使用,在程序的最前面就导入\n",
    "# 用\\一行显示多条语句"
   ]
  },
  {
   "cell_type": "code",
   "execution_count": null,
   "metadata": {},
   "outputs": [],
   "source": [
    "# 换行符作用是换行显示，不起真正意义上的重启一段\n",
    "# windows换行符是'\\r\\n'  ,\n",
    "# linux换行符是'\\n' ,\n",
    "# mac是'\\r'\n",
    "# python 中将换行符统一成 '\\n'"
   ]
  },
  {
   "cell_type": "code",
   "execution_count": 1,
   "metadata": {},
   "outputs": [
    {
     "name": "stdout",
     "output_type": "stream",
     "text": [
      "我爱\n",
      "刘雨霞\n"
     ]
    }
   ],
   "source": [
    "import sys\n",
    "print('我爱\\n刘雨霞')\n",
    "# import 导入，在高级编程语言中，如果想使用某个类或接口，就要使用import来导入"
   ]
  },
  {
   "cell_type": "code",
   "execution_count": 3,
   "metadata": {},
   "outputs": [
    {
     "name": "stdout",
     "output_type": "stream",
     "text": [
      "\n",
      "\n",
      "按下 enter 键后退出。\n",
      "a111\n"
     ]
    },
    {
     "data": {
      "text/plain": [
       "'a111'"
      ]
     },
     "execution_count": 3,
     "metadata": {},
     "output_type": "execute_result"
    }
   ],
   "source": [
    "input(\"\\n\\n按下 enter 键后退出。\\n\")"
   ]
  },
  {
   "cell_type": "code",
   "execution_count": null,
   "metadata": {},
   "outputs": [],
   "source": [
    "# 使用；在一行显示多个代码语句,但是pep 8 格式规范，不建议\n",
    "x = 'liuyuxia'\n",
    "print(x)"
   ]
  },
  {
   "cell_type": "markdown",
   "metadata": {},
   "source": [
    "## import 和from import使用中的区别\n",
    "## import somemoudle ,将整个模块导入\n",
    "## from somemoudle import somefunction, 从某个模块导入某个函数\n",
    "## from somemoudle import firstfunc,secondfunc, 从某个模块导入多个函数\n",
    "## from somemoudle import **, 将某个模块全部函数导入"
   ]
  },
  {
   "cell_type": "code",
   "execution_count": 5,
   "metadata": {},
   "outputs": [
    {
     "data": {
      "text/plain": [
       "{'shown': True,\n",
       " 'pendown': True,\n",
       " 'pencolor': 'black',\n",
       " 'fillcolor': 'black',\n",
       " 'pensize': 1,\n",
       " 'speed': 3,\n",
       " 'resizemode': 'noresize',\n",
       " 'stretchfactor': (1.0, 1.0),\n",
       " 'shearfactor': 0.0,\n",
       " 'outline': 1,\n",
       " 'tilt': 0.0}"
      ]
     },
     "execution_count": 5,
     "metadata": {},
     "output_type": "execute_result"
    }
   ],
   "source": [
    "# 课堂练习\n",
    "import turtle\n",
    "turtle.pen()"
   ]
  },
  {
   "cell_type": "code",
   "execution_count": 6,
   "metadata": {},
   "outputs": [
    {
     "name": "stdout",
     "output_type": "stream",
     "text": [
      "请输入数字a：1\n",
      "请输入数字b：2\n",
      "3\n",
      "-1\n",
      "2\n",
      "0.5\n"
     ]
    }
   ],
   "source": [
    "# input练习，加减乘除，str转换成int\n",
    "a = input('请输入数字a：')\n",
    "b = input('请输入数字b：')\n",
    "print(int(a) + int(b))\n",
    "print(int(a) - int(b))\n",
    "print(int(a) * int(b))\n",
    "print(int(a) / int(b))"
   ]
  },
  {
   "cell_type": "code",
   "execution_count": null,
   "metadata": {},
   "outputs": [],
   "source": []
  }
 ],
 "metadata": {
  "kernelspec": {
   "display_name": "Python 3",
   "language": "python",
   "name": "python3"
  },
  "language_info": {
   "codemirror_mode": {
    "name": "ipython",
    "version": 3
   },
   "file_extension": ".py",
   "mimetype": "text/x-python",
   "name": "python",
   "nbconvert_exporter": "python",
   "pygments_lexer": "ipython3",
   "version": "3.7.6"
  }
 },
 "nbformat": 4,
 "nbformat_minor": 4
}
