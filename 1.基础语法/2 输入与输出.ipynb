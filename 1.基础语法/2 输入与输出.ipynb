{
 "cells": [
  {
   "cell_type": "markdown",
   "metadata": {},
   "source": [
    "# 学习目标\n",
    "- 实现基本的输入和输出操作\n",
    "- 理解变量的概念\n",
    "- 使用输入输出完成小程序"
   ]
  },
  {
   "cell_type": "markdown",
   "metadata": {},
   "source": [
    "### 输入 input( )\n",
    "### 输出 print( )"
   ]
  },
  {
   "cell_type": "markdown",
   "metadata": {},
   "source": [
    "### 变量\n",
    "- 编程语言中用来存储计算结果或能表示值的抽象概念"
   ]
  },
  {
   "cell_type": "code",
   "execution_count": 2,
   "metadata": {},
   "outputs": [
    {
     "name": "stdout",
     "output_type": "stream",
     "text": [
      "1 2\n"
     ]
    }
   ],
   "source": [
    "A = 1\n",
    "a = 2\n",
    "print(A, a)"
   ]
  },
  {
   "cell_type": "code",
   "execution_count": 5,
   "metadata": {},
   "outputs": [
    {
     "name": "stdout",
     "output_type": "stream",
     "text": [
      "1\n",
      "1\n",
      "1\n"
     ]
    }
   ],
   "source": [
    "a = b = c = 1\n",
    "print(a)\n",
    "print(b)\n",
    "print(c)"
   ]
  },
  {
   "cell_type": "code",
   "execution_count": 6,
   "metadata": {},
   "outputs": [
    {
     "name": "stdout",
     "output_type": "stream",
     "text": [
      "1\n",
      "2\n",
      "3\n"
     ]
    }
   ],
   "source": [
    "a,b,c = 1,2,3\n",
    "print(a)\n",
    "print(b)\n",
    "print(c)"
   ]
  },
  {
   "cell_type": "code",
   "execution_count": null,
   "metadata": {},
   "outputs": [],
   "source": [
    "# 变量\n",
    "a = input('请输入：')\n",
    "print('你输入的内容是：', a)\n"
   ]
  },
  {
   "cell_type": "code",
   "execution_count": null,
   "metadata": {},
   "outputs": [],
   "source": [
    "# print的两种输出方式 字符串和字符类型\n",
    "print(1)\n",
    "print('haha')"
   ]
  },
  {
   "cell_type": "code",
   "execution_count": null,
   "metadata": {},
   "outputs": [],
   "source": [
    "# 也可以直接输出变量或者格式化输出，\n",
    "# %用于格式化输出或者取余数\n",
    "# %s是占位符\n",
    "print('我想说的是%s' % a)\n",
    "print('我想说的话是%s' % '我爱刘雨霞')"
   ]
  },
  {
   "cell_type": "code",
   "execution_count": null,
   "metadata": {},
   "outputs": [],
   "source": [
    "# print会自动换行打印，如果不想换行需要在末尾加入end=''\n",
    "for x in range(10):\n",
    "    print(x, end='')\n"
   ]
  },
  {
   "cell_type": "code",
   "execution_count": 7,
   "metadata": {},
   "outputs": [
    {
     "name": "stdout",
     "output_type": "stream",
     "text": [
      "我爱刘雨霞\n",
      "\n",
      "'我爱刘雨霞\\n'\n"
     ]
    }
   ],
   "source": [
    "# str() 函数返回一个用户易读的表达形式\n",
    "# repr() 产生一个解释器易读的表达形式\n",
    "s = '我爱刘雨霞\\n'\n",
    "print(str(s))\n",
    "print(repr(s))\n",
    "# \\n为换行转义字符"
   ]
  },
  {
   "cell_type": "code",
   "execution_count": null,
   "metadata": {},
   "outputs": [],
   "source": [
    "# 课堂练习\n",
    "# 1.输入古诗名字，自动输出古诗内容\n",
    "a = input('请输入古诗：')\n",
    "print('''床前明月光，\\n疑是地上霜，\\n举头望明月，\\n低头思故乡。''')"
   ]
  },
  {
   "cell_type": "code",
   "execution_count": null,
   "metadata": {},
   "outputs": [],
   "source": [
    "# 2.名字打印\n",
    "b = input('请输入你的名字：')\n",
    "print('小傻瓜就是你%s' % b)"
   ]
  },
  {
   "cell_type": "code",
   "execution_count": 1,
   "metadata": {},
   "outputs": [
    {
     "name": "stdout",
     "output_type": "stream",
     "text": [
      "C B\n"
     ]
    }
   ],
   "source": [
    "# 拓展延伸,调换两个变量中的值，借用第三个变量\n",
    "b = 'B'\n",
    "c = 'C'\n",
    "d = b\n",
    "b = c\n",
    "c = d\n",
    "print(b, c)"
   ]
  },
  {
   "cell_type": "code",
   "execution_count": null,
   "metadata": {},
   "outputs": [],
   "source": []
  },
  {
   "cell_type": "code",
   "execution_count": null,
   "metadata": {},
   "outputs": [],
   "source": []
  }
 ],
 "metadata": {
  "kernelspec": {
   "display_name": "Python 3",
   "language": "python",
   "name": "python3"
  },
  "language_info": {
   "codemirror_mode": {
    "name": "ipython",
    "version": 3
   },
   "file_extension": ".py",
   "mimetype": "text/x-python",
   "name": "python",
   "nbconvert_exporter": "python",
   "pygments_lexer": "ipython3",
   "version": "3.7.6"
  }
 },
 "nbformat": 4,
 "nbformat_minor": 4
}
