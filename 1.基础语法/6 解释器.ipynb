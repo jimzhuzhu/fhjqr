{
 "cells": [
  {
   "cell_type": "markdown",
   "metadata": {},
   "source": [
    "# 学习目标\n",
    "## 学习使用转义字符\n",
    "## 什么是解释器\n",
    "## 交互式编程和脚本式编程"
   ]
  },
  {
   "cell_type": "markdown",
   "metadata": {},
   "source": [
    "# 转义字符\n",
    "- \\n 换行\n",
    "- \\r 回车\n",
    "- \\b 退格\n",
    "- 如果不希望反斜杠后面转义，可在字符串前面添加一个r，表示原始字符串"
   ]
  },
  {
   "cell_type": "code",
   "execution_count": 3,
   "metadata": {},
   "outputs": [
    {
     "name": "stdout",
     "output_type": "stream",
     "text": [
      "hello,\n",
      "world\n",
      "hello, \\nworld\n"
     ]
    }
   ],
   "source": [
    "\n",
    "print('hello,\\nworld')\n",
    "print(r'hello, \\nworld')"
   ]
  },
  {
   "cell_type": "markdown",
   "metadata": {},
   "source": [
    "# 解释器\n",
    "- 又称为直译器，是一种电脑程序，可以直接一行一行运行代码"
   ]
  },
  {
   "cell_type": "markdown",
   "metadata": {},
   "source": [
    "## 交互式编程\n",
    "- 在命令提示符中输入python启动解释器\n",
    "- 直接输入代码，如果是多行结构会自动换行="
   ]
  },
  {
   "cell_type": "markdown",
   "metadata": {},
   "source": [
    "## 脚本式编程\n",
    "- 在shell中批处理文件的延伸\n",
    "    \n",
    "        cd d\n",
    "        hello.py"
   ]
  },
  {
   "cell_type": "markdown",
   "metadata": {},
   "source": [
    "## 了解更多的转义字符"
   ]
  }
 ],
 "metadata": {
  "kernelspec": {
   "display_name": "Python 3",
   "language": "python",
   "name": "python3"
  },
  "language_info": {
   "codemirror_mode": {
    "name": "ipython",
    "version": 3
   },
   "file_extension": ".py",
   "mimetype": "text/x-python",
   "name": "python",
   "nbconvert_exporter": "python",
   "pygments_lexer": "ipython3",
   "version": "3.7.6"
  }
 },
 "nbformat": 4,
 "nbformat_minor": 4
}
