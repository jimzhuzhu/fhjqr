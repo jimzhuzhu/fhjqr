{
 "cells": [
  {
   "cell_type": "markdown",
   "metadata": {},
   "source": [
    "# for循环\n",
    "- range() 函数\n",
    "- break\n",
    "- continue\n",
    "- pass"
   ]
  },
  {
   "cell_type": "code",
   "execution_count": 3,
   "metadata": {},
   "outputs": [
    {
     "name": "stdout",
     "output_type": "stream",
     "text": [
      "2\n",
      "3\n",
      "4\n",
      "5\n",
      "6\n",
      "撒豆没有\n"
     ]
    }
   ],
   "source": [
    "a = [1,2,3,4,5]\n",
    "for i in a:\n",
    "    i = i+1\n",
    "    print(i)\n",
    "else:\n",
    "    print('撒豆没有')"
   ]
  },
  {
   "cell_type": "markdown",
   "metadata": {},
   "source": [
    "# range()函数\n",
    "- 生成数列用于遍历"
   ]
  },
  {
   "cell_type": "code",
   "execution_count": 5,
   "metadata": {},
   "outputs": [
    {
     "name": "stdout",
     "output_type": "stream",
     "text": [
      "1\n",
      "11\n",
      "21\n",
      "31\n",
      "41\n",
      "51\n",
      "61\n",
      "71\n",
      "81\n",
      "91\n"
     ]
    }
   ],
   "source": [
    "# range(start, end, step(步长))\n",
    "for i in range(1, 100, 10):\n",
    "    print(i)"
   ]
  },
  {
   "cell_type": "code",
   "execution_count": 7,
   "metadata": {},
   "outputs": [
    {
     "name": "stdout",
     "output_type": "stream",
     "text": [
      "[0, 1, 2, 3, 4, 5, 6, 7, 8, 9]\n"
     ]
    }
   ],
   "source": [
    "# 创建一个列表，左包括，右不包括\n",
    "print(list(range(10)))"
   ]
  },
  {
   "cell_type": "code",
   "execution_count": 8,
   "metadata": {},
   "outputs": [
    {
     "name": "stdout",
     "output_type": "stream",
     "text": [
      "0 a\n",
      "1 b\n",
      "2 c\n",
      "3 d\n",
      "4 e\n"
     ]
    }
   ],
   "source": [
    "# 遍历下标索引\n",
    "a = ['a', 'b', 'c', 'd', 'e']\n",
    "for i in range(len(a)):\n",
    "    print(i, a[i])"
   ]
  },
  {
   "cell_type": "code",
   "execution_count": 11,
   "metadata": {},
   "outputs": [
    {
     "name": "stdout",
     "output_type": "stream",
     "text": [
      "0\n",
      "1\n",
      "3\n",
      "4\n",
      "5\n",
      "6\n",
      "7\n",
      "bye bye\n"
     ]
    }
   ],
   "source": [
    "var = 10\n",
    "for i in range(var):\n",
    "    if i == 2:\n",
    "        continue  # 停止本次循环，不允许后面的代码直接进行下次循环\n",
    "    if i == 8:\n",
    "        break  # 跳出循环结构，后面的代码块不再运行\n",
    "    print(i)\n",
    "print('bye bye')"
   ]
  },
  {
   "cell_type": "code",
   "execution_count": 15,
   "metadata": {},
   "outputs": [
    {
     "name": "stdout",
     "output_type": "stream",
     "text": [
      "当前的字母是:z\n",
      "当前的字母是:h\n",
      "占位符，撒都不干\n",
      "当前的字母是:u\n",
      "当前的字母是: \n",
      "当前的字母是:z\n",
      "当前的字母是:h\n",
      "占位符，撒都不干\n",
      "当前的字母是:u\n"
     ]
    }
   ],
   "source": [
    "for letter in 'zhu zhu':\n",
    "    if letter == 'u':\n",
    "        pass\n",
    "        print('占位符，撒都不干')\n",
    "    print('当前的字母是:' + letter)"
   ]
  },
  {
   "cell_type": "code",
   "execution_count": null,
   "metadata": {},
   "outputs": [],
   "source": [
    "# 练习\n",
    "# 判断一个数是否为质数\n",
    "# 质数：一个大于1的自然数中，除了1和自身外，没法被其他自然数整除的数\n",
    "\n",
    "active = True\n",
    "while active:\n",
    "    num = input('请输入一个大于1的数字：')\n",
    "    if num.isdigit():\n",
    "        num = int(num)\n",
    "        if num > 1:\n",
    "            for i in range(2, num):\n",
    "                if num % i == 0:\n",
    "                    print(num, '不是质数')\n",
    "                    print(i, '乘于', num//i, '等于', num)\n",
    "                    break\n",
    "            else:\n",
    "                print(num, '是质数')\n",
    "        else:\n",
    "            print('输入的数字不符合要求')\n",
    "    elif num == 'q':\n",
    "        active = False"
   ]
  },
  {
   "cell_type": "code",
   "execution_count": null,
   "metadata": {},
   "outputs": [],
   "source": []
  }
 ],
 "metadata": {
  "kernelspec": {
   "display_name": "Python 3",
   "language": "python",
   "name": "python3"
  },
  "language_info": {
   "codemirror_mode": {
    "name": "ipython",
    "version": 3
   },
   "file_extension": ".py",
   "mimetype": "text/x-python",
   "name": "python",
   "nbconvert_exporter": "python",
   "pygments_lexer": "ipython3",
   "version": "3.7.6"
  }
 },
 "nbformat": 4,
 "nbformat_minor": 4
}
