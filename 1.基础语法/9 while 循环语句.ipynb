{
 "cells": [
  {
   "cell_type": "markdown",
   "metadata": {},
   "source": [
    "# while\n",
    "- 理解循环语句的作用\n",
    "- 无限循环的控制\n",
    "    - while True:\n",
    "    - 加退出循环的条件\n",
    "        - while 判断条件"
   ]
  },
  {
   "cell_type": "code",
   "execution_count": 1,
   "metadata": {},
   "outputs": [
    {
     "name": "stdout",
     "output_type": "stream",
     "text": [
      "5050\n"
     ]
    }
   ],
   "source": [
    "# 程序示例\n",
    "# 用while循环语句来计算1-100的总和\n",
    "sum = 0\n",
    "num = 100\n",
    "counter = 1\n",
    "while counter <= num:\n",
    "    sum = sum + counter\n",
    "    counter += 1\n",
    "print(sum)"
   ]
  },
  {
   "cell_type": "code",
   "execution_count": null,
   "metadata": {},
   "outputs": [
    {
     "name": "stdout",
     "output_type": "stream",
     "text": [
      "输入一个数字1\n",
      "你输入的数字是： 1\n",
      "输入一个数字2\n",
      "你输入的数字是： 2\n",
      "输入一个数字3\n",
      "你输入的数字是： 3\n",
      "输入一个数字\n",
      "你输入的数字是： \n",
      "输入一个数字a\n",
      "你输入的数字是： a\n"
     ]
    }
   ],
   "source": [
    "# 无限循环\n",
    "while 1:\n",
    "    num = input('输入一个数字')\n",
    "    print('你输入的数字是：', num)\n",
    "    \n",
    "# 按Ctrl+C跳出无限循环"
   ]
  },
  {
   "cell_type": "code",
   "execution_count": 2,
   "metadata": {},
   "outputs": [
    {
     "name": "stdout",
     "output_type": "stream",
     "text": [
      "0小于5\n",
      "1小于5\n",
      "2小于5\n",
      "3小于5\n",
      "4小于5\n",
      "5等于5\n",
      "结束循环\n"
     ]
    }
   ],
   "source": [
    "# while True:\n",
    "# else:\n",
    "age = 0\n",
    "while age < 5:\n",
    "    print('{}小于5'.format(age))\n",
    "    age += 1\n",
    "else:\n",
    "    print('{}等于5'.format(age))\n",
    "    print('结束循环')"
   ]
  },
  {
   "cell_type": "code",
   "execution_count": null,
   "metadata": {},
   "outputs": [],
   "source": [
    "import random\n",
    "\n",
    "'''制作一个石头剪刀布游戏,统计获胜次数'''\n",
    "w = 0\n",
    "l = 0\n",
    "t = 0\n",
    "while True:\n",
    "    cp = random.randint(1, 3)\n",
    "    player = input('请输入石头1，剪刀2，布3,退出请按q')\n",
    "    if player.isdigit():\n",
    "        player = int(player)\n",
    "        if 1 <= player <= 3:\n",
    "            if player == cp:\n",
    "                print('平局')\n",
    "                t += 1\n",
    "            elif player > cp:\n",
    "                if player==3 and cp==1:\n",
    "                    print('获胜啦')\n",
    "                    w += 1\n",
    "                else:\n",
    "                    print('输掉啦')\n",
    "                    l += 1\n",
    "            elif player < cp:\n",
    "                if player==1 and cp==3:\n",
    "                    print('输掉啦')\n",
    "                    l += 1\n",
    "                else:\n",
    "                    print('获胜啦')\n",
    "                    w += 1\n",
    "        else:\n",
    "            print('输入的数字不符合游戏规则')\n",
    "    elif player == 'q':\n",
    "        print('游戏结束')\n",
    "        print('获胜次数：', w)\n",
    "        print('失败次数：', l)\n",
    "        print('平局次数：', t)\n",
    "        break\n",
    "    else:\n",
    "        print('输入的是个撒')"
   ]
  },
  {
   "cell_type": "code",
   "execution_count": null,
   "metadata": {},
   "outputs": [],
   "source": []
  },
  {
   "cell_type": "code",
   "execution_count": null,
   "metadata": {},
   "outputs": [],
   "source": []
  }
 ],
 "metadata": {
  "kernelspec": {
   "display_name": "Python 3",
   "language": "python",
   "name": "python3"
  },
  "language_info": {
   "codemirror_mode": {
    "name": "ipython",
    "version": 3
   },
   "file_extension": ".py",
   "mimetype": "text/x-python",
   "name": "python",
   "nbconvert_exporter": "python",
   "pygments_lexer": "ipython3",
   "version": "3.7.6"
  }
 },
 "nbformat": 4,
 "nbformat_minor": 4
}
