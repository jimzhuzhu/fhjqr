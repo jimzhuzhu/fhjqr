{
 "cells": [
  {
   "cell_type": "markdown",
   "metadata": {},
   "source": [
    "# 图书管理系统项目\n",
    " - 需要流程图，\n",
    " - 知道项目需求分析意义\n",
    "## 流程图\n",
    " - 又称程序框图，用统一规定的标准符号描述程序运行具体步骤的图形表示\n",
    "## 软件开发流程\n",
    " - 先进行需求分析\n",
    " - 设计软件的功能\n",
    " - 实现的算法和方法\n",
    " - 软件的总体结构设计和模块设计\n",
    " - 编码和调试、程序联调测试\n",
    " - 编写、提交程序\n",
    "### 需求分析，程序功能\n",
    " - 1.账号登陆，如果失败，退出系统\n",
    " - 创建书本，需要包含书名，作者\n",
    " - 3.通过书名查找作者，或通过作者查找书名\n",
    " - 4.根据书本名删除书本"
   ]
  },
  {
   "cell_type": "code",
   "execution_count": null,
   "metadata": {},
   "outputs": [],
   "source": [
    "# 图书管理系统\n",
    "\n",
    "print(\"-----进入图书管理系统-----\")\n",
    "# 定义图书数据\n",
    "\n",
    "address_book = {\"红楼梦\":\"曹雪芹\", \"牡丹亭\":\"汤显祖\", \"论语\":\"孔子\", \"红高粱\":\"莫言\"}\n",
    "admin = input(\"请输入账号：\")\n",
    "psw = input(\"请输入密码：\")\n",
    "while (admin == \"Python\") & (str(psw) == \"123\"):\n",
    "    print(\"\"\"|---欢迎进入图书管理系统---|\n",
    "    \n",
    "|---1、书名或作者查找书---|\n",
    "|---2、插入新的书本名称---|\n",
    "|---3、删除数据已有书本---|\n",
    "|---4、退出通讯录程序---|\"\"\")\n",
    "    tenp = input(\"请输入指令代码：\")\n",
    "    if tenp.isalpha() or not tenp.strip():\n",
    "        print(\"输入的指令错误，请按照提示输入\")\n",
    "        continue\n",
    "    temp = int(tenp)\n",
    "    if tenp != 1 and tenp != 2 and tenp != 3 and tenp != 4:\n",
    "        print(\"输入的指令错误，请按照提示输入\")\n",
    "        continue\n",
    "    # 输入4用break退出系统\n",
    "    if tenp ==4:\n",
    "        print(\"|---感谢使用图书管理系统---|\")\n",
    "        break\n",
    "    if tenp == 1:\n",
    "        name = input(\"请输入书本的名词：\")\n",
    "        if name in address_book:\n",
    "            print(name + \":\" + address_book[name])\n",
    "            continue\n",
    "        else:\n",
    "            print(\"改联系人不存在！\")\n",
    "    if tenp == 2:\n",
    "        name = input(\"请输入要加入的书名：\")\n",
    "        if name in address_book:\n",
    "            print(\"您输入的书名已存在-->>\", name, \":\", address_book[name])\n",
    "            continue\n",
    "        else:\n",
    "            author = input(\"请输入作者：\")\n",
    "            address_book[name] = author\n",
    "            print(\"书本加入成功！\")\n",
    "            continue\n",
    "    if tenp == 3:\n",
    "        name = input(\"请输入书名：\")\n",
    "        if name in address_book:\n",
    "            del address_book[name]\n",
    "            print(\"删除成功！\")\n",
    "            continue\n",
    "        else:\n",
    "            print(\"书本不存在\")\n",
    "else:\n",
    "    print(\"账号或者密码错误，请重新进入系统\")"
   ]
  },
  {
   "cell_type": "code",
   "execution_count": null,
   "metadata": {},
   "outputs": [],
   "source": []
  }
 ],
 "metadata": {
  "kernelspec": {
   "display_name": "Python 3",
   "language": "python",
   "name": "python3"
  },
  "language_info": {
   "codemirror_mode": {
    "name": "ipython",
    "version": 3
   },
   "file_extension": ".py",
   "mimetype": "text/x-python",
   "name": "python",
   "nbconvert_exporter": "python",
   "pygments_lexer": "ipython3",
   "version": "3.7.6"
  }
 },
 "nbformat": 4,
 "nbformat_minor": 4
}
