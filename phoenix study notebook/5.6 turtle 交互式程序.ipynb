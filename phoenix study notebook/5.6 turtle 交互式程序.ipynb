{
 "cells": [
  {
   "cell_type": "markdown",
   "metadata": {},
   "source": [
    "# 交互式程序\n",
    " - input() 函数交互\n",
    " - textinput() 交互\n",
    "     - turtle.textinput(\" \", \" \") ，第一个参数是标题参数，第二个是提问参数\n",
    "     - 使用write方法可以在图中写出文字，第一个是字符串，第二个是文字设置参数，包括字体名称，大小和类型\n",
    " - numinput()交互 数字弹出框\n",
    "     - 点击Cancel取消按钮返回None\n",
    "     - 点击Ok按钮返回输入的number\n",
    "     - title 弹框标题（一个string字符串）\n",
    "         - prompt - 弹框提示（字符串）\n",
    "         - default - 默认值number类型\n",
    "         - minval - 最小值number类型\n",
    "         - maxval - 最大值number类型"
   ]
  },
  {
   "cell_type": "code",
   "execution_count": null,
   "metadata": {},
   "outputs": [],
   "source": [
    "# input 输入交互\n",
    "\n",
    "import turtle\n",
    "t = turtle.Pen()\n",
    "turtle.bgcolor(\"black\")\n",
    "sides = eval(input(\"输入要绘制的边的数目，请输入2-6的数字：\"))\n",
    "t.speed(int(input(\"输入速度：1~10之间：\")))\n",
    "colors = [\"red\", \"yellow\", \"green\", \"blue\", \"orange\", \"purple\"]\n",
    "for x in range(360):\n",
    "    t.pencolor(colors[x%sides])\n",
    "    t.forward(x*3/sides+3)\n",
    "    t.left(360/sides+1)\n",
    "    t.width(x*sides/200)"
   ]
  },
  {
   "cell_type": "code",
   "execution_count": 12,
   "metadata": {},
   "outputs": [
    {
     "ename": "Terminator",
     "evalue": "",
     "output_type": "error",
     "traceback": [
      "\u001b[1;31m---------------------------------------------------------------------------\u001b[0m",
      "\u001b[1;31mTerminator\u001b[0m                                Traceback (most recent call last)",
      "\u001b[1;32m<ipython-input-12-9b6463968366>\u001b[0m in \u001b[0;36m<module>\u001b[1;34m\u001b[0m\n\u001b[0;32m     12\u001b[0m     \u001b[0mt\u001b[0m\u001b[1;33m.\u001b[0m\u001b[0mpendown\u001b[0m\u001b[1;33m(\u001b[0m\u001b[1;33m)\u001b[0m\u001b[1;33m\u001b[0m\u001b[1;33m\u001b[0m\u001b[0m\n\u001b[0;32m     13\u001b[0m     \u001b[0mt\u001b[0m\u001b[1;33m.\u001b[0m\u001b[0mwrite\u001b[0m\u001b[1;33m(\u001b[0m\u001b[0mmy_name\u001b[0m\u001b[1;33m,\u001b[0m\u001b[0mfont\u001b[0m\u001b[1;33m=\u001b[0m\u001b[1;33m(\u001b[0m\u001b[1;34m\"Arial\"\u001b[0m\u001b[1;33m,\u001b[0m\u001b[0mint\u001b[0m\u001b[1;33m(\u001b[0m\u001b[1;33m(\u001b[0m\u001b[0mx\u001b[0m\u001b[1;33m+\u001b[0m\u001b[1;36m4\u001b[0m\u001b[1;33m)\u001b[0m\u001b[1;33m/\u001b[0m\u001b[1;36m4\u001b[0m\u001b[1;33m)\u001b[0m\u001b[1;33m,\u001b[0m\u001b[1;34m\"bold\"\u001b[0m\u001b[1;33m)\u001b[0m\u001b[1;33m)\u001b[0m\u001b[1;33m\u001b[0m\u001b[1;33m\u001b[0m\u001b[0m\n\u001b[1;32m---> 14\u001b[1;33m     \u001b[0mt\u001b[0m\u001b[1;33m.\u001b[0m\u001b[0mleft\u001b[0m\u001b[1;33m(\u001b[0m\u001b[1;36m96\u001b[0m\u001b[1;33m)\u001b[0m\u001b[1;33m\u001b[0m\u001b[1;33m\u001b[0m\u001b[0m\n\u001b[0m",
      "\u001b[1;32m~\\anaconda3\\lib\\turtle.py\u001b[0m in \u001b[0;36mleft\u001b[1;34m(angle)\u001b[0m\n",
      "\u001b[1;31mTerminator\u001b[0m: "
     ]
    }
   ],
   "source": [
    "# textinput（） 电脑式弹窗\n",
    "\n",
    "import turtle as t\n",
    "t.bgcolor(\"black\")\n",
    "t.speed(0)\n",
    "my_name = t.textinput(\"输入你的姓名\", \"你的名字？\")\n",
    "colors = [\"red\", \"yellow\", \"purple\", \"blue\"]\n",
    "for x in range(999):\n",
    "    t.pencolor(colors[x%4])\n",
    "    t.penup()\n",
    "    t.forward(x*4)\n",
    "    t.pendown()\n",
    "    t.write(my_name,font=(\"Arial\",int((x+4)/4),\"bold\"))\n",
    "    t.left(96)"
   ]
  },
  {
   "cell_type": "code",
   "execution_count": 16,
   "metadata": {},
   "outputs": [
    {
     "name": "stdout",
     "output_type": "stream",
     "text": [
      "身高 1.75 米\n"
     ]
    }
   ],
   "source": [
    "# numinput 数字导入\n",
    "\n",
    "import turtle\n",
    "screen = turtle.getscreen()\n",
    "# 弹出输入数字的弹出框\n",
    "age = screen.numinput(\"身高\", \"请输入你的身高(单位;米)\", 0, 0, 2.5)\n",
    "# 判空容错处理\n",
    "if age != None and age > 0:\n",
    "    print(\"身高\", age, \"米\")"
   ]
  },
  {
   "cell_type": "code",
   "execution_count": null,
   "metadata": {},
   "outputs": [],
   "source": [
    "# 绘制棒棒糖"
   ]
  },
  {
   "cell_type": "code",
   "execution_count": null,
   "metadata": {},
   "outputs": [],
   "source": [
    "# 绘制手机界面"
   ]
  },
  {
   "cell_type": "markdown",
   "metadata": {},
   "source": [
    "# 绘画练习\n",
    " - 非规则图形练习\n",
    " - 规则图形练习"
   ]
  },
  {
   "cell_type": "code",
   "execution_count": 1,
   "metadata": {},
   "outputs": [],
   "source": [
    "# 绘画小猪佩奇\n",
    "# coding:utf-8\n",
    "\n",
    "import turtle as t\n",
    "t.pensize(4) # 设置画笔大小\n",
    "t.colormode(255) # 设置GBK颜色范围为0~255\n",
    "t.color((255,155,192), \"pink\") # 设置画笔颜色以及填充颜色\n",
    "t.setup(840,500) # 设置主窗口的大小为840*500\n",
    "t.speed(0) # 设置画笔速度为0最快"
   ]
  },
  {
   "cell_type": "code",
   "execution_count": 1,
   "metadata": {},
   "outputs": [],
   "source": [
    "# 绘画足球场"
   ]
  }
 ],
 "metadata": {
  "kernelspec": {
   "display_name": "Python 3",
   "language": "python",
   "name": "python3"
  },
  "language_info": {
   "codemirror_mode": {
    "name": "ipython",
    "version": 3
   },
   "file_extension": ".py",
   "mimetype": "text/x-python",
   "name": "python",
   "nbconvert_exporter": "python",
   "pygments_lexer": "ipython3",
   "version": "3.7.6"
  }
 },
 "nbformat": 4,
 "nbformat_minor": 4
}
