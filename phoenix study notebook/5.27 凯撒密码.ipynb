{
 "cells": [
  {
   "cell_type": "markdown",
   "metadata": {},
   "source": [
    "# 凯撒密码\n",
    "- 平移密码，字母位置向后移动一定位数\n",
    "- 穷举法（暴力破解）\n",
    "- 升级后，需要对照表"
   ]
  },
  {
   "cell_type": "markdown",
   "metadata": {},
   "source": [
    "## 凯撒密码加密程序"
   ]
  },
  {
   "cell_type": "code",
   "execution_count": 4,
   "metadata": {},
   "outputs": [],
   "source": [
    "import tkinter\n",
    "win = tkinter.Tk()\n",
    "win.title(\"凯撒密码\")\n",
    "win.geometry(\"400x400+200+50\")\n",
    "p = \"abcdefghijklmnopqrstuvwxyz\"\n",
    "def jiami():\n",
    "    # 先清空文本框然后再输入，从哪一行到哪一行开始，\n",
    "    # 行号以1开始，列号以0开始\n",
    "    text.delete('1.0', 'end')\n",
    "    # 获取输入的内容\n",
    "    for i in entry.get():\n",
    "        if i == \" \": # 判断为空格的特殊情况则添加空格\n",
    "            text.insert(tkinter.INSERT, ' ')\n",
    "        else:\n",
    "            a = p.find(i) # 查找索引位置\n",
    "            b = (a+3) % 26\n",
    "            text.insert(tkinter.INSERT, p[b])\n",
    "entry = tkinter.Entry(win, width=20)\n",
    "entry.pack()\n",
    "button = tkinter.Button(win, text=\"加密\", command = jiami)\n",
    "button.pack()\n",
    "text = tkinter.Text(win, width=20, height=10)\n",
    "text.pack()\n",
    "win.mainloop()"
   ]
  },
  {
   "cell_type": "markdown",
   "metadata": {},
   "source": [
    "# 凯撒密码解密程序\n",
    "- 同理“-3”即可破解密码"
   ]
  },
  {
   "cell_type": "code",
   "execution_count": 5,
   "metadata": {},
   "outputs": [],
   "source": [
    "import tkinter\n",
    "win = tkinter.Tk()\n",
    "win.title(\"凯撒密码\")\n",
    "win.geometry(\"400x400+200+50\")\n",
    "p = \"abcdefghijklmnopqrstuvwxyz\"\n",
    "def jiami():\n",
    "    # 先清空文本框然后再输入，从哪一行到哪一行开始，\n",
    "    # 行号以1开始，列号以0开始\n",
    "    text.delete('1.0', 'end')\n",
    "    # 获取输入的内容\n",
    "    for i in entry.get():\n",
    "        if i == \" \": # 判断为空格的特殊情况则添加空格\n",
    "            text.insert(tkinter.INSERT, ' ')\n",
    "        else:\n",
    "            a = p.find(i) # 查找索引位置\n",
    "            b = (a+3) % 26\n",
    "            text.insert(tkinter.INSERT, p[b])\n",
    "\n",
    "def jiemi():\n",
    "    # 先清空文本框然后再输入，从哪一行到哪一行开始，\n",
    "    # 行号以1开始，列号以0开始\n",
    "    text.delete('1.0', 'end')\n",
    "    # 获取输入的内容\n",
    "    for i in entry.get():\n",
    "        if i == \" \": # 判断为空格的特殊情况则添加空格\n",
    "            text.insert(tkinter.INSERT, ' ')\n",
    "        else:\n",
    "            a = p.find(i) # 查找索引位置\n",
    "            b = (a-3) % 26\n",
    "            text.insert(tkinter.INSERT, p[b])\n",
    "            \n",
    "entry = tkinter.Entry(win, width=20)\n",
    "entry.pack()\n",
    "button1 = tkinter.Button(win, text=\"加密\", command = jiami)\n",
    "button1.pack()\n",
    "button2 = tkinter.Button(win, text=\"解密\", command = jiemi)\n",
    "button2.pack()\n",
    "text = tkinter.Text(win, width=20, height=10)\n",
    "text.pack()\n",
    "win.mainloop()"
   ]
  },
  {
   "cell_type": "markdown",
   "metadata": {},
   "source": [
    "# 多项选择\n",
    "- 带滚动条的text控件"
   ]
  },
  {
   "cell_type": "code",
   "execution_count": 8,
   "metadata": {},
   "outputs": [],
   "source": [
    "# 代码案例\n",
    "import tkinter\n",
    "win = tkinter.Tk()\n",
    "win.title(\"凤凰机器人\")\n",
    "# 设置大小\n",
    "win.geometry(\"200x100+200+50\")\n",
    "# 创建滚动条\n",
    "scroll = tkinter.Scrollbar()\n",
    "#text = tkinter.Text(win)\n",
    "# 设置大小\n",
    "text = tkinter.Text(win, width=30, height=10)\n",
    "# 关联垂直滚动条yscrollcommand\n",
    "scroll.config(command = text.yview)\n",
    "text.config(yscrollcommand = scroll.set)\n",
    "# side放到窗体的哪一侧，fill填充Y方向\n",
    "scroll.pack(side=tkinter.RIGHT, fill=tkinter.Y)\n",
    "text.pack(side = tkinter.LEFT, fill=tkinter.Y)\n",
    "str = '''\n",
    "当你老了，回顾一生，就会发觉：\n",
    "什么时候出国读书，什么时候决定\n",
    "做第一份职业、何时选定了对象而\n",
    "恋爱、什么时候结婚生了孩子，其\n",
    "实都是命运的巨变。只是当时站在\n",
    "三岔路口，眼见风云千樯，你作出\n",
    "选择的那一日，在日记上，相当沉\n",
    "闷和平凡，当时还以为是生命中最\n",
    "普通的一天。 -----陶杰 《杀鹌鹑的少女》'''\n",
    "text.insert(tkinter.INSERT, str)\n",
    "win.mainloop()"
   ]
  },
  {
   "cell_type": "markdown",
   "metadata": {},
   "source": [
    "## checkbutton多选框控件\n",
    "- 复选框，可用来做出多项选择题等功能"
   ]
  },
  {
   "cell_type": "code",
   "execution_count": 15,
   "metadata": {},
   "outputs": [
    {
     "ename": "SyntaxError",
     "evalue": "invalid character in identifier (<ipython-input-15-70e5b37f6619>, line 22)",
     "output_type": "error",
     "traceback": [
      "\u001b[1;36m  File \u001b[1;32m\"<ipython-input-15-70e5b37f6619>\"\u001b[1;36m, line \u001b[1;32m22\u001b[0m\n\u001b[1;33m    check1 = tkinter.Checkbutton（win, text=\"第一个选项\", variable=hobby1, command=update）\u001b[0m\n\u001b[1;37m                                   ^\u001b[0m\n\u001b[1;31mSyntaxError\u001b[0m\u001b[1;31m:\u001b[0m invalid character in identifier\n"
     ]
    }
   ],
   "source": [
    "import tkinter\n",
    "win = tkinter.Tk()\n",
    "win.title(\"多项选择\")\n",
    "#窗口宽x窗口高+窗口位于屏幕x轴+窗口位于屏幕y轴\n",
    "win.geometry(\"400x400+200+50\")\n",
    "#放入文本框\n",
    "text = tkinter.Text(win, width=50, height=5)\n",
    "text.pack()\n",
    "def update():\n",
    "    message = \"\"\n",
    "    if hobby1.get() == True:\n",
    "        message += \"第一个选项 a\\n\"\n",
    "    if hobby2.get() == True:\n",
    "        message += \"第二个选项 b\\n\"\n",
    "    if hobby3.get() == True:\n",
    "        message += \"第三个选项 c\\n\"\n",
    "    # 清空text中所有内容后重新输入，所以显示位置不变\n",
    "    text.delete(0.0, tkinter.END)\n",
    "    text.insert(tkinter.INSERT, message)\n",
    "hobby1 = tkinter.BooleanVar() #要绑定的变量 布尔类型变量\n",
    "# 多选框\n",
    "check1 = tkinter.Checkbutton(win, text=\"第一个选项\", variable=hobby1, command=update)\n",
    "check1.pack()\n",
    "\n",
    "hobby2 = tkinter.BooleanVar()\n",
    "check2 = tkinter.Checkbutton(win, text=\"第二个选项\", variable=hobby2, command=update)\n",
    "check2.pack()\n",
    "\n",
    "hobby3 = tkinter.BooleanVar()\n",
    "check3 = tkinter.Checkbutton(win, text=\"第三个选项\", variable=hobby3, command=update)\n",
    "check3.pack()\n",
    "win.mainloop()"
   ]
  },
  {
   "cell_type": "code",
   "execution_count": null,
   "metadata": {},
   "outputs": [],
   "source": []
  }
 ],
 "metadata": {
  "kernelspec": {
   "display_name": "Python 3",
   "language": "python",
   "name": "python3"
  },
  "language_info": {
   "codemirror_mode": {
    "name": "ipython",
    "version": 3
   },
   "file_extension": ".py",
   "mimetype": "text/x-python",
   "name": "python",
   "nbconvert_exporter": "python",
   "pygments_lexer": "ipython3",
   "version": "3.7.6"
  }
 },
 "nbformat": 4,
 "nbformat_minor": 4
}
