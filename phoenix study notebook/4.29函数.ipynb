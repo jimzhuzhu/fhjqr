{
 "cells": [
  {
   "cell_type": "markdown",
   "metadata": {},
   "source": [
    "# 函数\n",
    " - 函数能提高应用的模块性，和代码的重复利用率\n",
    " - 有许多内建函数 比如print()\n",
    " - 也可以自己创建，定义函数，规则如下：\n",
    "     - 函数代码块以def关键词开头，后接函数标志符名称和圆括号()\n",
    "     - 任何参数和自变量必须放在圆括号中间\n",
    "     - 函数第一行语句可以使用文档字符串，用于存放函数说明\n",
    "     - 函数内容以冒号起好，并且缩进\n",
    "     - return[表达式]结束函数，选择性返回一个值给调用方，不带表达式的renturn相当于返回None\n",
    " - 参数传递\n",
    "     - string, tuples, numbers是不可改的对象\n",
    "     - list, dict等则是可以修改的对象"
   ]
  },
  {
   "cell_type": "code",
   "execution_count": 1,
   "metadata": {},
   "outputs": [
    {
     "name": "stdout",
     "output_type": "stream",
     "text": [
      "Hello World\n"
     ]
    }
   ],
   "source": [
    "# 定义一个打印helloword函数\n",
    "def hello():\n",
    "    print(\"Hello World\")\n",
    "#使用函数\n",
    "hello()"
   ]
  },
  {
   "cell_type": "code",
   "execution_count": 1,
   "metadata": {},
   "outputs": [
    {
     "name": "stdout",
     "output_type": "stream",
     "text": [
      "调用自定义函数!\n",
      "再次调用同一个函数!\n"
     ]
    }
   ],
   "source": [
    "# 函数调用\n",
    "\n",
    "def printme( str ):\n",
    "    # 打印任何传入的字符串\n",
    "    print(str)\n",
    "    \n",
    "# 调用函数\n",
    "printme(\"调用自定义函数!\")\n",
    "printme(\"再次调用同一个函数!\")"
   ]
  },
  {
   "cell_type": "code",
   "execution_count": 2,
   "metadata": {},
   "outputs": [
    {
     "name": "stdout",
     "output_type": "stream",
     "text": [
      "10\n",
      "2\n"
     ]
    }
   ],
   "source": [
    "# 不可变对象案例\n",
    "\n",
    "def ChangeInt( a ):\n",
    "    a = 10\n",
    "    print(a)\n",
    "    \n",
    "b = 2\n",
    "ChangeInt(b)\n",
    "print( b )"
   ]
  },
  {
   "cell_type": "code",
   "execution_count": 7,
   "metadata": {},
   "outputs": [
    {
     "name": "stdout",
     "output_type": "stream",
     "text": [
      "原列表的值: [10, 20, 30]\n",
      "函数内取值: [10, 20, 30, [1, 2, 3, 4]]\n",
      "函数外取值: [10, 20, 30, [1, 2, 3, 4]]\n"
     ]
    }
   ],
   "source": [
    "# 可变对象案例\n",
    "\n",
    "def changeme( mylist ):\n",
    "    #修改传入的列表\n",
    "    mylist.append([1,2,3,4])\n",
    "    print(\"函数内取值:\", mylist)\n",
    "    \n",
    "# 调用changeme函数\n",
    "mylist = [10,20,30]\n",
    "print(\"原列表的值:\", mylist)\n",
    "changeme( mylist )\n",
    "print(\"函数外取值:\", mylist)"
   ]
  },
  {
   "cell_type": "code",
   "execution_count": null,
   "metadata": {},
   "outputs": [
    {
     "name": "stdout",
     "output_type": "stream",
     "text": [
      "选择运算:\n",
      "1、+\n",
      "2、-\n",
      "3、*\n",
      "4、/\n",
      "输入你的选择（1/2/3/4）:3\n",
      "输入你第一个数字:54007\n",
      "输入你第二个数字:54007\n",
      "54007 * 54007 = 2916756049\n"
     ]
    }
   ],
   "source": [
    "# 使用函数做一个计算器\n",
    "\n",
    "def add(x, y):\n",
    "    \"\"\"相加\"\"\"\n",
    "    return x + y\n",
    "\n",
    "def subtract(x, y):\n",
    "    \"\"\"相减\"\"\"\n",
    "    return x - y\n",
    "\n",
    "def multiply(x, y):\n",
    "    \"\"\"相乘\"\"\"\n",
    "    return x * y\n",
    "\n",
    "def divide(x, y):\n",
    "    \"\"\"相除\"\"\"\n",
    "    return x / y\n",
    "\n",
    "def egg():\n",
    "    return \"077请速到总部报道！\"\n",
    "\n",
    "# 用户输入\n",
    "print(\"选择运算:\")\n",
    "print(\"1、+\")\n",
    "print(\"2、-\")\n",
    "print(\"3、*\")\n",
    "print(\"4、/\")\n",
    "while True:\n",
    "    choice = input(\"输入你的选择（1/2/3/4）:\")\n",
    "    num1 = int(input(\"输入你第一个数字:\"))\n",
    "    num2 = int(input(\"输入你第二个数字:\"))\n",
    "    \n",
    "    if choice == \"1\":\n",
    "        print(num1, \"+\", num2, \"=\", add(num1,num2))\n",
    "        \n",
    "    elif choice == \"2\":\n",
    "        print(num1, \"-\", num2, \"=\", subtract(num1,num2))\n",
    "        \n",
    "    elif choice == \"3\":\n",
    "        print(num1, \"*\", num2, \"=\", multiply(num1,num2))\n",
    "        \n",
    "    elif choice == \"4\":\n",
    "        print(num1, \"/\", num2, \"=\", divide(num1,num2))\n",
    "        \n",
    "    # 加入彩蛋\n",
    "    elif choice == \"54007\":\n",
    "        print(egg())\n",
    "        break\n",
    "    else:\n",
    "        print(\"输入错误请重新输入:\")"
   ]
  },
  {
   "cell_type": "markdown",
   "metadata": {},
   "source": [
    "# 参数\n",
    " - 也叫参变量，常用参数类型\n",
    "     - 必需参数\n",
    "         - 调用printme()函数，按照指定的顺序必须传入一个参数，否则会报错\n",
    "     - 关键字参数\n",
    "         - 使用关键字参数允许函数调用时参数顺序与声明不一致\n",
    "     - 默认参数\n",
    "         - 没有传递参数，则会使用默认参数\n",
    "     - 不定长参数\n",
    "         - 需要一个函数处理比当初声明更多的参数\n",
    "         - ** 号以字典形式导入\n",
    "         - 调用没有指定参数，他就是空元组，不需要传递变量\n",
    "         - *单独出现，参数必须用关键字传入"
   ]
  },
  {
   "cell_type": "code",
   "execution_count": 7,
   "metadata": {},
   "outputs": [
    {
     "name": "stdout",
     "output_type": "stream",
     "text": [
      "<class 'str'>\n"
     ]
    }
   ],
   "source": [
    "# 必需参数\n",
    "\n",
    "def printme( str ):\n",
    "    #打印任何传入的字符串\n",
    "    print(str)\n",
    "# 调用 printme 函数，不加参数会报错\n",
    "printme(str)"
   ]
  },
  {
   "cell_type": "code",
   "execution_count": 8,
   "metadata": {},
   "outputs": [
    {
     "name": "stdout",
     "output_type": "stream",
     "text": [
      "名字： 刘雨霞\n",
      "年龄： 24\n"
     ]
    }
   ],
   "source": [
    "# 关键字参数\n",
    "\n",
    "def printinfo( name, age ):\n",
    "    # 打印任何传入的字符串\n",
    "    print(\"名字：\", name)\n",
    "    print(\"年龄：\", age)\n",
    "    \n",
    "# 调用printinfo函数\n",
    "printinfo( age=24, name=\"刘雨霞\")"
   ]
  },
  {
   "cell_type": "code",
   "execution_count": 1,
   "metadata": {},
   "outputs": [
    {
     "name": "stdout",
     "output_type": "stream",
     "text": [
      "名字： AI\n",
      "年龄： 20\n",
      "-------------\n",
      "名字： 人工智能\n",
      "年龄： 15\n"
     ]
    }
   ],
   "source": [
    "# 默认参数\n",
    "\n",
    "def printinfo( name, age = 15):\n",
    "    # 打印任何传入的字符串\n",
    "    print(\"名字：\", name)\n",
    "    print(\"年龄：\", age)\n",
    "    \n",
    "# 调用printinfo函数\n",
    "printinfo( age=20, name=\"AI\" )\n",
    "print(\"-------------\")\n",
    "printinfo( name=\"人工智能\")"
   ]
  },
  {
   "cell_type": "code",
   "execution_count": 7,
   "metadata": {},
   "outputs": [
    {
     "name": "stdout",
     "output_type": "stream",
     "text": [
      "输出：\n",
      "10\n",
      "输出：\n",
      "70\n",
      "60\n",
      "50\n",
      "输出：\n",
      "1\n",
      "{'a': 2, 'b': 3}\n"
     ]
    }
   ],
   "source": [
    "# 不定长参数\n",
    "# 空元组\n",
    "\n",
    "def printinfo( arg1, *vartuple ):\n",
    "    # 打印任何传入的参数\n",
    "    print(\"输出：\")\n",
    "    print(arg1)\n",
    "    for var in vartuple:\n",
    "        print(var)\n",
    "    \n",
    "# 调用printinfo 函数\n",
    "printinfo(10)\n",
    "printinfo(70, 60, 50)\n",
    "\n",
    "# 参数带两个** 参数以字典形式导入，键值对 \n",
    "def printinfo( arg1, **vardict ):\n",
    "    # 打印任何传入的参数\n",
    "    print(\"输出：\")\n",
    "    print(arg1)\n",
    "    print(vardict)\n",
    "    \n",
    "# 调用printinfo 函数\n",
    "printinfo(1, a=2, b=3)"
   ]
  },
  {
   "cell_type": "code",
   "execution_count": 9,
   "metadata": {},
   "outputs": [
    {
     "name": "stdout",
     "output_type": "stream",
     "text": [
      "8\n"
     ]
    }
   ],
   "source": [
    "# *单独出现，关键字\n",
    "\n",
    "def f(a,b,*,c):\n",
    "    return a + b + c\n",
    "#必须使用关键字\n",
    "print(f(1,2,c=5))\n",
    "# 不适用关键字会报错\n",
    "# print(f(1,2,5))"
   ]
  },
  {
   "cell_type": "code",
   "execution_count": 10,
   "metadata": {},
   "outputs": [
    {
     "name": "stdout",
     "output_type": "stream",
     "text": [
      "Python AI\n",
      "---------------\n",
      "Python 人工智能\n"
     ]
    }
   ],
   "source": [
    "# 参数使用案例\n",
    "\n",
    "def printinfo(prt = \"人工智能\"):\n",
    "    # 打印任何传入的字符串\n",
    "    print(\"Python\", prt)\n",
    "    \n",
    "#调用printinfo函数\n",
    "printinfo(prt = \"AI\")\n",
    "print(\"---------------\")\n",
    "printinfo( )"
   ]
  },
  {
   "cell_type": "code",
   "execution_count": 12,
   "metadata": {},
   "outputs": [
    {
     "name": "stdout",
     "output_type": "stream",
     "text": [
      "请输入数字:2\n",
      "请输入想加次数:2\n",
      "22\n"
     ]
    }
   ],
   "source": [
    "# 求值计算\n",
    "\n",
    "def flow(num,count):\n",
    "    num = int(num)\n",
    "    count = int(count)\n",
    "    for i in range(1,count):\n",
    "        num = num * 10 + num\n",
    "    return num\n",
    "num = input(\"请输入数字:\")\n",
    "count = input(\"请输入想加次数:\")\n",
    "print(flow(num,count))"
   ]
  },
  {
   "cell_type": "markdown",
   "metadata": {},
   "source": [
    "# 匿名函数\n",
    " - Python使用 lambda 来创建匿名函数\n",
    " - 不再使用def语句定义函数，lambda只是表达式，函数体比def简单很多\n",
    " - 主体是表达式\n",
    " - lambda 函数拥有自己的命名空间，且不能访问其它参数\n",
    " - 一般只写一行"
   ]
  },
  {
   "cell_type": "code",
   "execution_count": null,
   "metadata": {},
   "outputs": [],
   "source": [
    "# lambda 函数语法案例\n",
    "\n",
    "sum = lambda arg1, arg2: arg1 + arg2 # arg1为参数，冒号后为表达式\n",
    "# 调用sum函数\n",
    "print(\"相加后的值为:\", sum(10, 20))\n",
    "print(\"相加后的值为：\", sum(20, 20))"
   ]
  },
  {
   "cell_type": "code",
   "execution_count": null,
   "metadata": {},
   "outputs": [],
   "source": [
    "# return返回数值案例\n",
    "\n",
    "def sum(arg1, arg2):\n",
    "    # 返回2个参数的和\n",
    "    total = arg1 + arg2\n",
    "    print(\"函数内打印数值：\", total)\n",
    "    return total\n",
    "\n",
    "# 调用sum函数\n",
    "total = sum( 10, 20 )\n",
    "print(\"函数外返回数值：\", total)"
   ]
  },
  {
   "cell_type": "markdown",
   "metadata": {},
   "source": [
    "# 变量作用域\n",
    " - 变量不是在哪个位置都可以访问，访问权限决定于这个变量是在哪里赋值的\n",
    " - 变量的作用域决定在哪一个部分程序可以访问哪个特定的变量名称\n",
    " - 通过导入builtin标准模块实现\n",
    " - Python作用域一共有4种，分别是：\n",
    "     - L（Local） 局部作用域\n",
    "     - E（Enclosing） 闭包函数外的函数中\n",
    "     - G（Global） 全局作用域\n",
    "     - B（Built-in）内置作用域\n",
    "     - 查找规则：\n",
    "         - L -> E -> G -> B"
   ]
  },
  {
   "cell_type": "code",
   "execution_count": 5,
   "metadata": {},
   "outputs": [
    {
     "name": "stdout",
     "output_type": "stream",
     "text": [
      "全局作用域0\n",
      "闭包函数外的函数里面寻找\n",
      "局部作用域2\n",
      "['__annotations__', '__call__', '__class__', '__closure__', '__code__', '__defaults__', '__delattr__', '__dict__', '__dir__', '__doc__', '__eq__', '__format__', '__ge__', '__get__', '__getattribute__', '__globals__', '__gt__', '__hash__', '__init__', '__init_subclass__', '__kwdefaults__', '__le__', '__lt__', '__module__', '__name__', '__ne__', '__new__', '__qualname__', '__reduce__', '__reduce_ex__', '__repr__', '__setattr__', '__sizeof__', '__str__', '__subclasshook__']\n"
     ]
    }
   ],
   "source": [
    "import builtins\n",
    "\n",
    "g_count = 0 # 全局作用域\n",
    "print(\"全局作用域\" + str(g_count))\n",
    "def outer():\n",
    "    o_count = 1 # 闭包函数外的函数里面寻找\n",
    "    print(\"闭包函数外的函数里面寻找\")\n",
    "    def inner():\n",
    "        i_count = 2 # 局部作用域\n",
    "        print(\"局部作用域\" + str(i_count))\n",
    "    inner()\n",
    "    \n",
    "outer()\n",
    "print(dir(outer))"
   ]
  },
  {
   "cell_type": "code",
   "execution_count": 9,
   "metadata": {},
   "outputs": [
    {
     "name": "stdout",
     "output_type": "stream",
     "text": [
      "I am AI\n"
     ]
    }
   ],
   "source": [
    "# 外部变量访问\n",
    "\n",
    "if True :\n",
    "    msg = \"I am AI\"\n",
    "print(msg)\n",
    "\n",
    "# 外部变量定义函数不能访问，它是局部变量\n"
   ]
  },
  {
   "cell_type": "code",
   "execution_count": 16,
   "metadata": {},
   "outputs": [
    {
     "name": "stdout",
     "output_type": "stream",
     "text": [
      "函数内是局部变量： 30\n",
      "函数外是全局变量： 0\n"
     ]
    }
   ],
   "source": [
    "# 这是一个全局变量\n",
    "\n",
    "total = 0\n",
    "\n",
    "def sum( arg1, arg2 ):\n",
    "    # 返回2个参数的和。\n",
    "    total = arg1 + arg2\n",
    "    # total在这里是局部变量\n",
    "    print(\"函数内是局部变量：\", total)\n",
    "    return total # 调用sum函数\n",
    "sum(10, 20)\n",
    "print(\"函数外是全局变量：\", total)"
   ]
  },
  {
   "cell_type": "code",
   "execution_count": 17,
   "metadata": {},
   "outputs": [
    {
     "name": "stdout",
     "output_type": "stream",
     "text": [
      "1\n",
      "123\n",
      "123\n"
     ]
    }
   ],
   "source": [
    "# 内部作用域想修改外部作用域，要用到global 和 nonlocal 关键字\n",
    "\n",
    "num = 1\n",
    "def fun():\n",
    "    \"\"\"使用 global 关键字声明内部作用域\n",
    "    修改外部作用域变量\"\"\"\n",
    "    global num\n",
    "    print(num)\n",
    "    num = 123\n",
    "    print(num)\n",
    "fun()\n",
    "print(num)"
   ]
  },
  {
   "cell_type": "code",
   "execution_count": 18,
   "metadata": {},
   "outputs": [
    {
     "name": "stdout",
     "output_type": "stream",
     "text": [
      "100\n",
      "100\n"
     ]
    }
   ],
   "source": [
    "# 修改嵌套作用域，外层非全局作用域\n",
    "\n",
    "def outer():\n",
    "    num = 10\n",
    "    def inner():\n",
    "        nonlocal num # nonlocal关键字声明\n",
    "        num = 100\n",
    "        print(num)\n",
    "    inner()\n",
    "    print(num)\n",
    "outer()"
   ]
  },
  {
   "cell_type": "code",
   "execution_count": 19,
   "metadata": {},
   "outputs": [
    {
     "name": "stdout",
     "output_type": "stream",
     "text": [
      "11\n"
     ]
    }
   ],
   "source": [
    "# 使用参数使用内部作用域\n",
    "a = 10\n",
    "def test(a): # 如果test()不加参量会报错\n",
    "    a = a + 1\n",
    "    print(a)\n",
    "test(a)"
   ]
  },
  {
   "cell_type": "code",
   "execution_count": 20,
   "metadata": {},
   "outputs": [
    {
     "name": "stdout",
     "output_type": "stream",
     "text": [
      "['1*1 =  1', '1*2 =  2', '2*2 =  4', '1*3 =  3', '2*3 =  6', '3*3 =  9', '1*4 =  4', '2*4 =  8', '3*4 = 12', '4*4 = 16', '1*5 =  5', '2*5 = 10', '3*5 = 15', '4*5 = 20', '5*5 = 25', '1*6 =  6', '2*6 = 12', '3*6 = 18', '4*6 = 24', '5*6 = 30', '6*6 = 36', '1*7 =  7', '2*7 = 14', '3*7 = 21', '4*7 = 28', '5*7 = 35', '6*7 = 42', '7*7 = 49', '1*8 =  8', '2*8 = 16', '3*8 = 24', '4*8 = 32', '5*8 = 40', '6*8 = 48', '7*8 = 56', '8*8 = 64', '1*9 =  9', '2*9 = 18', '3*9 = 27', '4*9 = 36', '5*9 = 45', '6*9 = 54', '7*9 = 63', '8*9 = 72', '9*9 = 81']\n"
     ]
    }
   ],
   "source": [
    "# 使用匿名函数编写九九乘法表\n",
    "\n",
    "print((lambda:[\"%d*%d = %2d\" % (j,i,i*j) for i in [1,2,3,4,5,6,7,8,9] for j in [1,2,3,4,5,6,7,8,9] if j <= i])())"
   ]
  },
  {
   "cell_type": "code",
   "execution_count": 21,
   "metadata": {},
   "outputs": [
    {
     "name": "stdout",
     "output_type": "stream",
     "text": [
      "\n",
      "*\n",
      "**\n",
      "***\n"
     ]
    },
    {
     "data": {
      "text/plain": [
       "((((1, None), None), None), None)"
      ]
     },
     "execution_count": 21,
     "metadata": {},
     "output_type": "execute_result"
    }
   ],
   "source": [
    "# 使用lambda匿名函数画出星星\n",
    "\n",
    "func = lambda x: 1 if x < 0 else (func(x-1),print(\"*\"*x))\n",
    "func(3)"
   ]
  },
  {
   "cell_type": "code",
   "execution_count": null,
   "metadata": {},
   "outputs": [],
   "source": []
  }
 ],
 "metadata": {
  "kernelspec": {
   "display_name": "Python 3",
   "language": "python",
   "name": "python3"
  },
  "language_info": {
   "codemirror_mode": {
    "name": "ipython",
    "version": 3
   },
   "file_extension": ".py",
   "mimetype": "text/x-python",
   "name": "python",
   "nbconvert_exporter": "python",
   "pygments_lexer": "ipython3",
   "version": "3.7.6"
  }
 },
 "nbformat": 4,
 "nbformat_minor": 4
}
