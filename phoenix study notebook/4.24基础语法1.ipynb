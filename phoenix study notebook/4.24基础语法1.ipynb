{
 "cells": [
  {
   "cell_type": "markdown",
   "metadata": {},
   "source": [
    "# print 打印函数"
   ]
  },
  {
   "cell_type": "code",
   "execution_count": 1,
   "metadata": {},
   "outputs": [
    {
     "name": "stdout",
     "output_type": "stream",
     "text": [
      "Hello Word\n"
     ]
    }
   ],
   "source": [
    "print(\"Hello Word\")"
   ]
  },
  {
   "cell_type": "code",
   "execution_count": 2,
   "metadata": {},
   "outputs": [
    {
     "name": "stdout",
     "output_type": "stream",
     "text": [
      "将进酒\n",
      "  \n",
      "李白\n",
      "\n",
      "君不见，黄河之水天上来，奔流到海不复回。\n",
      "\n",
      "君不见，高堂明镜悲白发，朝如青丝暮成雪。\n",
      "\n",
      "人生得意须尽欢，莫使金樽空对月。\n",
      "\n",
      "天生我材必有用，千金散尽还复来。\n",
      "\n",
      "烹羊宰牛且为乐，会须一饮三百杯。\n",
      "\n",
      "岑夫子，丹丘生，将进酒，杯莫停。\n",
      "\n",
      "与君歌一曲，请君为我倾耳听。\n",
      "\n",
      "钟鼓馔玉不足贵，但愿长醉不复醒。\n",
      "\n",
      "古来圣贤皆寂寞，惟有饮者留其名。\n",
      "\n",
      "陈王昔时宴平乐，斗酒十千恣欢谑。\n",
      "\n",
      "主人何为言少钱，径须沽取对君酌。\n",
      "\n",
      "五花马，千金裘，呼儿将出换美酒，与尔同销万古愁。\n",
      "\n"
     ]
    }
   ],
   "source": [
    "print(\"将进酒\")\n",
    "print(\"  \")\n",
    "print(\"李白\")\n",
    "print('''\n",
    "君不见，黄河之水天上来，奔流到海不复回。\n",
    "\n",
    "君不见，高堂明镜悲白发，朝如青丝暮成雪。\n",
    "\n",
    "人生得意须尽欢，莫使金樽空对月。\n",
    "\n",
    "天生我材必有用，千金散尽还复来。\n",
    "\n",
    "烹羊宰牛且为乐，会须一饮三百杯。\n",
    "\n",
    "岑夫子，丹丘生，将进酒，杯莫停。\n",
    "\n",
    "与君歌一曲，请君为我倾耳听。\n",
    "\n",
    "钟鼓馔玉不足贵，但愿长醉不复醒。\n",
    "\n",
    "古来圣贤皆寂寞，惟有饮者留其名。\n",
    "\n",
    "陈王昔时宴平乐，斗酒十千恣欢谑。\n",
    "\n",
    "主人何为言少钱，径须沽取对君酌。\n",
    "\n",
    "五花马，千金裘，呼儿将出换美酒，与尔同销万古愁。\n",
    "'''\n",
    "     )"
   ]
  },
  {
   "cell_type": "code",
   "execution_count": 3,
   "metadata": {},
   "outputs": [
    {
     "name": "stdout",
     "output_type": "stream",
     "text": [
      "加法\n",
      "3\n",
      "除法\n",
      "0.5\n",
      "人人\n"
     ]
    }
   ],
   "source": [
    "# 打印1+2 加减乘除\n",
    "\n",
    "print(\"加法\")\n",
    "print(1+2)\n",
    "print(\"除法\")\n",
    "print(1/2)\n",
    "print(\"人\" + \"人\")"
   ]
  },
  {
   "cell_type": "markdown",
   "metadata": {},
   "source": [
    "# 输入与输出\n",
    " - 输入： 将各种符号输入计算机\n",
    " - 键盘， 鼠标， 麦克风 \n",
    " - 输出：显示器显示给人\n",
    " \n",
    "## 变量\n",
    " - 变量 \n",
    "     - a = 1\n",
    "     - a = b = c =1\n",
    "     - a, b, c, = 1, 2, \"老师\""
   ]
  },
  {
   "cell_type": "markdown",
   "metadata": {},
   "source": [
    "# 输入函数\n",
    " - input()内置函数\n",
    " - 默认标准输入是键盘"
   ]
  },
  {
   "cell_type": "code",
   "execution_count": 4,
   "metadata": {},
   "outputs": [
    {
     "name": "stdout",
     "output_type": "stream",
     "text": [
      "请输入我爱你，刘雨霞\n",
      "你输入的内容是： 我爱你，刘雨霞\n"
     ]
    }
   ],
   "source": [
    "str = input(\"请输入\")\n",
    "print(\"你输入的内容是：\", str)"
   ]
  },
  {
   "cell_type": "markdown",
   "metadata": {},
   "source": [
    "# 输出值的方式\n",
    " - 表达式语句\n",
    " - print()函数\n",
    "    - 输出字符串\n",
    "    - 字符类型\n",
    "    - 输出变量\n",
    "    - 格式化输出\n",
    "    "
   ]
  },
  {
   "cell_type": "code",
   "execution_count": 13,
   "metadata": {},
   "outputs": [
    {
     "name": "stdout",
     "output_type": "stream",
     "text": [
      "1\n",
      "Hello World\n",
      "我想说的话是Hello World\n",
      "0123456789"
     ]
    }
   ],
   "source": [
    "# 输出字符串和字符类型\n",
    "\n",
    "print(1)\n",
    "print(\"Hello World\")\n",
    "\n",
    "# 输出变量和格式化输出\n",
    "\n",
    "print(\"我想说的话是%s\" % (\"Hello World\"))\n",
    "\n",
    "# 不换行打印 end=''\n",
    "for x in range(10):\n",
    "    print(x,end='')"
   ]
  },
  {
   "cell_type": "markdown",
   "metadata": {},
   "source": [
    "# 输出值转成字符串方法\n",
    " - repr()函数 ：产生一个解释器易读的表达形式\n",
    " - str()函数 ： 函数返回一个用户易读的表达形式\n",
    "     - **转义字符 \"\\n\"**"
   ]
  },
  {
   "cell_type": "code",
   "execution_count": 21,
   "metadata": {},
   "outputs": [
    {
     "name": "stdout",
     "output_type": "stream",
     "text": [
      "Hello, 老师\n",
      "\n",
      "'hello, 老师\\n'\n"
     ]
    }
   ],
   "source": [
    "s = \"Hello, 老师\\n\"\n",
    "r = \"hello, 老师\\n\"\n",
    "print(s)\n",
    "print(repr(r))"
   ]
  },
  {
   "cell_type": "code",
   "execution_count": 22,
   "metadata": {},
   "outputs": [
    {
     "name": "stdout",
     "output_type": "stream",
     "text": [
      "请输入古诗名静夜思\n",
      "静夜思\n",
      "床前明月光\n",
      "疑是地上霜\n",
      "举头望明月\n",
      "低头思故乡\n"
     ]
    }
   ],
   "source": [
    "# 输入古诗名，打印古诗\n",
    "\n",
    "A = input(\"请输入古诗名\")\n",
    "\n",
    "print(A)\n",
    "\n",
    "print(\"床前明月光\")\n",
    "print(\"疑是地上霜\")\n",
    "print(\"举头望明月\")\n",
    "print(\"低头思故乡\")"
   ]
  },
  {
   "cell_type": "code",
   "execution_count": 23,
   "metadata": {},
   "outputs": [
    {
     "name": "stdout",
     "output_type": "stream",
     "text": [
      "请输入你的名字：刘雨霞\n",
      "刘雨霞\n",
      "小傻瓜就是你：刘雨霞\n"
     ]
    }
   ],
   "source": [
    "# 姓名输入 input\n",
    "\n",
    "N = input(\"请输入你的名字：\")\n",
    "\n",
    "print(N)\n",
    "\n",
    "print(\"小傻瓜就是你：\" + N)"
   ]
  },
  {
   "cell_type": "code",
   "execution_count": 24,
   "metadata": {},
   "outputs": [
    {
     "name": "stdout",
     "output_type": "stream",
     "text": [
      "B\n",
      "A\n"
     ]
    }
   ],
   "source": [
    "# 变量值交换\n",
    "\n",
    "a = \"A\"\n",
    "b = \"B\"\n",
    "c = \"\"\n",
    "c = a\n",
    "a = b\n",
    "b = c\n",
    "\n",
    "print(a)\n",
    "print(b)"
   ]
  },
  {
   "cell_type": "markdown",
   "metadata": {},
   "source": [
    "# 编码格式\n",
    " - 预先规定的编码信号\n",
    " - 默认编码格式 UTF-8 \n",
    " - 所以字符串都是unicode 字符串\n",
    " - 不同编码格式：比如 Window-1252\n",
    " - -*- coding: utf-8 -*-\n",
    " - -*- coding: cp-1252 -*-\n",
    "# 保留字\n",
    " - 已经被定义过的字，不可当做变量名和过程名使用\n",
    " - 即关键字 - keyword\n",
    " \n",
    "# 注释的使用\n",
    " - 以# 开头\n",
    " - 多行注释\n",
    "     - 多个#号\n",
    "     - 还有 ''' 和 \"\"\"  #三引号也可用于字符串\n",
    "# 代码缩进\n",
    " - 使用缩进表示代码块\n",
    " - 不需要使用大括号{}\n",
    " - 缩进空格数可变，相同语句缩进空格数相同\n",
    " - 如果语句很长，使用反斜杠（\\）,实现多行语句"
   ]
  },
  {
   "cell_type": "code",
   "execution_count": 29,
   "metadata": {},
   "outputs": [
    {
     "name": "stdout",
     "output_type": "stream",
     "text": [
      "['False', 'None', 'True', 'and', 'as', 'assert', 'async', 'await', 'break', 'class', 'continue', 'def', 'del', 'elif', 'else', 'except', 'finally', 'for', 'from', 'global', 'if', 'import', 'in', 'is', 'lambda', 'nonlocal', 'not', 'or', 'pass', 'raise', 'return', 'try', 'while', 'with', 'yield']\n",
      "\n",
      "Here is a list of the Python keywords.  Enter any keyword to get more help.\n",
      "\n",
      "False               class               from                or\n",
      "None                continue            global              pass\n",
      "True                def                 if                  raise\n",
      "and                 del                 import              return\n",
      "as                  elif                in                  try\n",
      "assert              else                is                  while\n",
      "async               except              lambda              with\n",
      "await               finally             nonlocal            yield\n",
      "break               for                 not                 \n",
      "\n"
     ]
    }
   ],
   "source": [
    "# 编码格式\n",
    "# -*- coding: utf-8 -*-\n",
    "# -*- coding: cp-1252 -*-\n",
    "\n",
    "# 保留字 keyword\n",
    "\n",
    "import keyword\n",
    "print(keyword.kwlist)\n",
    "\n",
    "help(\"keywords\")"
   ]
  },
  {
   "cell_type": "code",
   "execution_count": 32,
   "metadata": {},
   "outputs": [
    {
     "name": "stdout",
     "output_type": "stream",
     "text": [
      "Hello, Python！\n"
     ]
    },
    {
     "data": {
      "text/plain": [
       "' 好多好多注释 '"
      ]
     },
     "execution_count": 32,
     "metadata": {},
     "output_type": "execute_result"
    }
   ],
   "source": [
    "# 第一个注释\n",
    "print(\"Hello, Python！\") # 第二个注释\n",
    "\n",
    "'''\n",
    "第三个注释\n",
    "第四个注释\n",
    "'''\n",
    "\"\"\" 好多好多注释 \"\"\""
   ]
  },
  {
   "cell_type": "code",
   "execution_count": 34,
   "metadata": {},
   "outputs": [
    {
     "name": "stdout",
     "output_type": "stream",
     "text": [
      "True\n",
      "6\n"
     ]
    }
   ],
   "source": [
    "# 代码缩进\n",
    "\n",
    "if True:\n",
    "    print(\"True\")\n",
    "else:\n",
    "    print(\"Flase\")\n",
    "    \n",
    "# 多行语句换行 反斜杠（\\）\n",
    "\n",
    "A = 1\n",
    "B = 2\n",
    "C = 3\n",
    "S = A + \\\n",
    "    B + \\\n",
    "    C\n",
    "print(S)"
   ]
  },
  {
   "cell_type": "code",
   "execution_count": null,
   "metadata": {},
   "outputs": [],
   "source": []
  }
 ],
 "metadata": {
  "kernelspec": {
   "display_name": "Python 3",
   "language": "python",
   "name": "python3"
  },
  "language_info": {
   "codemirror_mode": {
    "name": "ipython",
    "version": 3
   },
   "file_extension": ".py",
   "mimetype": "text/x-python",
   "name": "python",
   "nbconvert_exporter": "python",
   "pygments_lexer": "ipython3",
   "version": "3.7.6"
  }
 },
 "nbformat": 4,
 "nbformat_minor": 4
}
