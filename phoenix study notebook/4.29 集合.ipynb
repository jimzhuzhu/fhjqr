{
 "cells": [
  {
   "cell_type": "markdown",
   "metadata": {},
   "source": [
    "# 字符串\n",
    " - 支撑格式化字符串的输出\n",
    " - 字符串格式符号：\n",
    "    - %c 格式化字符及其ASCII码\n",
    "    - %s 格式化字符串\n",
    "    - %d 格式化整数\n",
    "    - %u 格式化无符号整形\n",
    "    - %o 格式化无符号八进制数\n",
    "    - %x 格式化无符号十六进制数\n",
    "    - %X 格式化无符号十六进制数（大写）\n",
    "    - %f 格式化浮点数，可指定小数点后的精度\n",
    "    - %e 用科学计数法格式化浮点数\n",
    "    - %E 作用同上\n",
    "    - %g %f 和 %e 的简写\n",
    "    - %G %F 和 %E 的简写\n",
    "    - %n 用十六进制数格式化变量的地址\n",
    " - 操作符辅助指令：\n",
    "     - * 定义宽度或者小数点精度\n",
    "     - - 左对齐\n",
    "     - + 在正数前面显示+加好\n",
    "     - ,<sp  在正数前面显示空格\n",
    "     - # 八进制前面显示0 \n",
    "     - 0 显示数字前面填充“0”而不是空格\n",
    "     - % “%%”输出一个%\n",
    "     - (var) 映射变量\n",
    "     - m.n. m是显示的最小总宽度n,n是小数点后的位数\n",
    " - 三引号允许一个字符串跨多行，字符串可以包含换行符、制表符以及其他特殊字符\n",
    " - 字符串内建函数 百度查询 举例：\n",
    "     - capitalize() 将字符串的第一个字符转换为大写\n",
    "     - ....\n",
    "# Unicode 字符串\n",
    " - 所以编程语言通用编码表"
   ]
  },
  {
   "cell_type": "code",
   "execution_count": 1,
   "metadata": {},
   "outputs": [
    {
     "name": "stdout",
     "output_type": "stream",
     "text": [
      "我叫 小明 今年 10 岁!\n"
     ]
    }
   ],
   "source": [
    "# 字符串格式化\n",
    "\n",
    "print(\"我叫 %s 今年 %d 岁!\" % (\"小明\", 10))"
   ]
  },
  {
   "cell_type": "code",
   "execution_count": 2,
   "metadata": {},
   "outputs": [
    {
     "name": "stdout",
     "output_type": "stream",
     "text": [
      "WWW.BAIDU.COM\n",
      "www.baidu.com\n",
      "Www.baidu.com\n",
      "Www.Baidu.Com\n"
     ]
    }
   ],
   "source": [
    "# 字符串小写改大写\n",
    "\n",
    "str = \"www.baidu.com\"\n",
    "print(str.upper())\n",
    "print(str.lower())\n",
    "print(str.capitalize())\n",
    "print(str.title())"
   ]
  },
  {
   "cell_type": "markdown",
   "metadata": {},
   "source": [
    "# 集合\n",
    " - 数学基本概念，由一个或多个确定元素构成的整体\n",
    " - 集合（set）是一个无序的不重复元素序列\n",
    " - 可以使用{ }或者 set()函数创建集合\n",
    " - 空集合使用set()\n",
    " - 集合也可以进行运算 （- | & ^）\n",
    " - 添加元素 （.add）,已经存在不进行任何变化\n",
    " - 添加元素2 （.update）参数可以是列表 元组 字典等\n",
    " - 移除元素1 （.remove）如果元素不存在，报错\n",
    " - 移除元素2 （.discard）元素不存在也不会报错\n",
    " - 移除元素3 （.pop()） 随机删除集合中的一个元素\n",
    " - 计算元素个数 使用len()\n",
    " - 清空集合使用clear()\n",
    " - 判断元素是否在集合列表 in\n",
    "# 集合内置方法完整列表 查询Baidu"
   ]
  },
  {
   "cell_type": "code",
   "execution_count": 5,
   "metadata": {},
   "outputs": [
    {
     "name": "stdout",
     "output_type": "stream",
     "text": [
      "{'d', 'r', 'b', 'a', 'c'}\n",
      "{'d', 'b', 'r'}\n",
      "{'d', 'r', 'b', 'l', 'm', 'a', 'c', 'z'}\n",
      "{'c', 'a'}\n",
      "{'d', 'b', 'm', 'r', 'l', 'z'}\n",
      "3\n",
      "set()\n"
     ]
    }
   ],
   "source": [
    "# set集合案例\n",
    "\n",
    "# 案例1\n",
    "\n",
    "a = set(\"abracadabra\")\n",
    "b = set(\"alacazam\")\n",
    "print(a)\n",
    "print(a - b) # 集合a中包含但集合b中不包含的元素\n",
    "print(a | b) # 集合a和集合b中所以的元素\n",
    "print(a & b) # 集合a和集合b中并列的元素\n",
    "print(a ^ b) # 不同时包含集合a和集合b\n",
    "\n",
    "# 计算集合个数\n",
    "thisset = set((\"Google\", \"Baidu\", \"Taobao\"))\n",
    "print(len(thisset))\n",
    "\n",
    "# 清空集合\n",
    "\n",
    "thisset = set((\"Google\", \"Baidu\", \"Taobao\"))\n",
    "thisset.clear()\n",
    "print(thisset)"
   ]
  },
  {
   "cell_type": "code",
   "execution_count": 6,
   "metadata": {},
   "outputs": [
    {
     "name": "stdout",
     "output_type": "stream",
     "text": [
      "{'c', 'a', 'd'}\n"
     ]
    }
   ],
   "source": [
    "# 集合添加删除\n",
    "\n",
    "X = {\"a\", \"b\", \"c\"}\n",
    "X.add(\"d\")\n",
    "X.discard(\"b\")\n",
    "Y = X\n",
    "print(Y)"
   ]
  },
  {
   "cell_type": "code",
   "execution_count": 7,
   "metadata": {},
   "outputs": [
    {
     "name": "stdout",
     "output_type": "stream",
     "text": [
      "3\n",
      "set()\n"
     ]
    }
   ],
   "source": [
    "# 集合运算\n",
    "\n",
    "X = {\"a\", \"b\", \"c\"}\n",
    "print(len(X))\n",
    "X.clear()\n",
    "print(X)"
   ]
  },
  {
   "cell_type": "code",
   "execution_count": null,
   "metadata": {},
   "outputs": [],
   "source": []
  }
 ],
 "metadata": {
  "kernelspec": {
   "display_name": "Python 3",
   "language": "python",
   "name": "python3"
  },
  "language_info": {
   "codemirror_mode": {
    "name": "ipython",
    "version": 3
   },
   "file_extension": ".py",
   "mimetype": "text/x-python",
   "name": "python",
   "nbconvert_exporter": "python",
   "pygments_lexer": "ipython3",
   "version": "3.7.6"
  }
 },
 "nbformat": 4,
 "nbformat_minor": 4
}
