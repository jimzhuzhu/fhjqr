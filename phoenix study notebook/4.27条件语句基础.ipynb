{
 "cells": [
  {
   "cell_type": "markdown",
   "metadata": {},
   "source": [
    "# 条件语句\n",
    " - 用来判断给定条件是否满足，并根据判断结果执行对应语句\n",
    " - if.... else\n",
    " - 多重条件语句使用elif，也就是else if 的缩写\n",
    " - 运算符用于判断比较\n",
    " - 代码缩进，Python只有一种写法格式，tab四个空字符\n"
   ]
  },
  {
   "cell_type": "code",
   "execution_count": 1,
   "metadata": {},
   "outputs": [
    {
     "name": "stdout",
     "output_type": "stream",
     "text": [
      "猜一猜我现在心里想的数字6\n",
      "猜错啦，我心里想的是10！\n",
      "游戏结束\n"
     ]
    }
   ],
   "source": [
    "# 编写程序\"猜数字\"\n",
    "\n",
    "temp = input(\"猜一猜我现在心里想的数字\")\n",
    "guess = int(temp)\n",
    "if guess == 10:\n",
    "    print(\"猜对啦！真厉害！\")\n",
    "else:\n",
    "    print(\"猜错啦，我心里想的是10！\")\n",
    "print(\"游戏结束\")"
   ]
  },
  {
   "cell_type": "code",
   "execution_count": 4,
   "metadata": {},
   "outputs": [
    {
     "name": "stdout",
     "output_type": "stream",
     "text": [
      "我的考试成绩是90\n",
      "优秀\n"
     ]
    }
   ],
   "source": [
    "# 成绩判断\n",
    "\n",
    "temp = input(\"我的考试成绩是\")\n",
    "guess = int(temp)\n",
    "if guess >= 90:\n",
    "    print(\"优秀\")\n",
    "elif guess >= 80:\n",
    "    print(\"良好\")\n",
    "elif guess >= 60:\n",
    "    print(\"及格\")\n",
    "elif guess < 60:\n",
    "    print(\"不及格\")"
   ]
  },
  {
   "cell_type": "markdown",
   "metadata": {},
   "source": [
    "# while 循环\n",
    " - 有规律的重复性操作\n",
    " - 死循环，自身无法终止的程序称为\"死循环\"\n",
    "    - while\n",
    "    - while else\n",
    "    - break 跳出循环\n",
    "    - continue 这一次不运行\n",
    " ## 进制\n",
    " - 0B 二进制 德国莱布尼茨\n",
    "     - 1 = 01\n",
    "     - 2 = 10\n",
    "     - 有电流就是1\n",
    "     - 没电流就是0\n",
    " - 二进制转十进制：按权展开求和\n",
    " - 十进制转二进制：除2取余，逆序排列\n",
    " - 0O 八进制\n",
    " - 0D 十进制\n",
    " - 0x 十六进制\n",
    "## 编码表\n",
    " - unicode 全世界共同的编码表"
   ]
  },
  {
   "cell_type": "code",
   "execution_count": 5,
   "metadata": {},
   "outputs": [
    {
     "name": "stdout",
     "output_type": "stream",
     "text": [
      "Hello World n=9\n",
      "Hello World n=8\n",
      "Hello World n=7\n",
      "Hello World n=6\n",
      "Hello World n=5\n",
      "Hello World n=4\n",
      "Hello World n=3\n",
      "Hello World n=2\n",
      "Hello World n=1\n",
      "Hello World n=0\n"
     ]
    }
   ],
   "source": [
    "# 打印数字 （解决死循环）\n",
    "\n",
    "n = 10\n",
    "while n :\n",
    "    n = n - 1\n",
    "    print(\"Hello World n=%s\" %n)"
   ]
  },
  {
   "cell_type": "code",
   "execution_count": 8,
   "metadata": {},
   "outputs": [
    {
     "name": "stdout",
     "output_type": "stream",
     "text": [
      "1到100之和为: 5050\n"
     ]
    }
   ],
   "source": [
    "# 计算1-100的总和\n",
    "\n",
    "n = 100\n",
    "sum = 0\n",
    "counter = 1\n",
    "while counter <= n:\n",
    "    sum = sum + counter\n",
    "    counter +=1\n",
    "print(\"1到%d之和为: %d\" % (n,sum))"
   ]
  },
  {
   "cell_type": "code",
   "execution_count": 9,
   "metadata": {},
   "outputs": [
    {
     "name": "stdout",
     "output_type": "stream",
     "text": [
      "0 小于5\n",
      "1 小于5\n",
      "2 小于5\n",
      "3 小于5\n",
      "4 小于5\n",
      "5 大于或等于5\n"
     ]
    }
   ],
   "source": [
    "# while 循环使用 else 语句\n",
    "\n",
    "count = 0\n",
    "while count < 5:\n",
    "    print(count,\"小于5\")\n",
    "    count += 1\n",
    "else:\n",
    "    print(count,\"大于或等于5\")"
   ]
  },
  {
   "cell_type": "code",
   "execution_count": 12,
   "metadata": {},
   "outputs": [
    {
     "name": "stdout",
     "output_type": "stream",
     "text": [
      "Hello World n=9\n",
      "Hello World n=8\n",
      "Hello World n=7\n",
      "Hello World n=6\n",
      "Hello World n=5\n",
      "Hello World n=4\n"
     ]
    }
   ],
   "source": [
    "# break 示例代码\n",
    "\n",
    "n = 10\n",
    "while n > 0:\n",
    "    if n < 5:\n",
    "        break\n",
    "    n = n-1\n",
    "    print(\"Hello World n=%s\" %n)"
   ]
  },
  {
   "cell_type": "code",
   "execution_count": 13,
   "metadata": {},
   "outputs": [
    {
     "name": "stdout",
     "output_type": "stream",
     "text": [
      "9\n",
      "8\n",
      "7\n",
      "6\n",
      "5\n",
      "4\n",
      "3\n",
      "2\n",
      "0\n"
     ]
    }
   ],
   "source": [
    "# continue 示例代码\n",
    "\n",
    "n = 10\n",
    "while n > 0:\n",
    "    #注意需要先减一，再判断\n",
    "    n = n -1\n",
    "    if n == 1:\n",
    "        continue\n",
    "    print(n)"
   ]
  },
  {
   "cell_type": "code",
   "execution_count": 16,
   "metadata": {},
   "outputs": [
    {
     "name": "stdout",
     "output_type": "stream",
     "text": [
      "数字猜谜游戏\n",
      "请输入你猜的数字，仅有6次机会6\n",
      "猜的数字小了..\n",
      "你还有5次！\n",
      "请输入你猜的数字，仅有6次机会7\n",
      "恭喜，你猜对了！\n"
     ]
    }
   ],
   "source": [
    "# 猜数字游戏\n",
    "\n",
    "number = 7\n",
    "guess = -1\n",
    "many = 6\n",
    "print(\"数字猜谜游戏\")\n",
    "while many > 0:\n",
    "    guess = int(input(\"请输入你猜的数字，仅有6次机会\"))\n",
    "    if guess == number:\n",
    "        print(\"恭喜，你猜对了！\")\n",
    "        break\n",
    "    elif guess < number:\n",
    "        print(\"猜的数字小了..\")\n",
    "    elif guess > number:\n",
    "        print(\"猜的数字大了..\")\n",
    "    many -= 1\n",
    "    if many == 0:\n",
    "        print(\"你的猜测次数用完了，游戏结束\")\n",
    "        break\n",
    "    print(\"你还有\" + str(many) + \"次！\")"
   ]
  },
  {
   "cell_type": "code",
   "execution_count": null,
   "metadata": {},
   "outputs": [
    {
     "name": "stdout",
     "output_type": "stream",
     "text": [
      "猜拳游戏!\n"
     ]
    }
   ],
   "source": [
    "# 剪刀石头布游戏\n",
    "\n",
    "import random\n",
    "import sys\n",
    "w = 0 #获胜\n",
    "l = 0 #失败\n",
    "t = 0 #平局\n",
    "guess = -1 #猜测值\n",
    "print(\"猜拳游戏!\")\n",
    "while True:\n",
    "    ai = random.randint(1,3)\n",
    "    guess = int(input(\"请输入你剪刀石头布：剪刀(1), 石头(2), 布(3)\"))\n",
    "    if ai == guess:\n",
    "        print(\"平局\")\n",
    "        t = t + 1\n",
    "    elif guess > ai:\n",
    "        if guess == 3 and ai == 1:\n",
    "            print(\"你输了\")\n",
    "            l = l + 1\n",
    "        else:\n",
    "            print(\"你赢了\")\n",
    "            w = w + 1\n",
    "    elif guess < ai:\n",
    "        if guess == 1 and ai == 3:\n",
    "            print(\"你赢了\")\n",
    "            w = w + 1\n",
    "        else:\n",
    "            print(\"你输了\")\n",
    "            l = l + 1\n",
    "    c = input(\"是否继续游戏？ 是(y) 否(q)\")\n",
    "    if c == \"q\":\n",
    "        print(\"游戏结束：\")\n",
    "        print(\"获胜次数：\" + str(w))\n",
    "        print(\"失败次数：\" + str(l))\n",
    "        print(\"平局次数：\" + str(t))\n",
    "        sys.exit(0)"
   ]
  },
  {
   "cell_type": "markdown",
   "metadata": {},
   "source": [
    "# for 循环语句\n",
    " - 可以遍历任何序列项目，比如列表，字符串\n",
    " - 适合用于循环次数\n",
    " - 和while可相互转换\n",
    " - 常用 range(), len()\n",
    " - break, continue 用法相同"
   ]
  },
  {
   "cell_type": "code",
   "execution_count": 2,
   "metadata": {},
   "outputs": [
    {
     "name": "stdout",
     "output_type": "stream",
     "text": [
      "C\n",
      "C++\n",
      "java\n",
      "Python\n",
      "HTML\n"
     ]
    }
   ],
   "source": [
    "# 一般格式：\n",
    "\n",
    "# for <variable> in <sequence>:\n",
    "#     <statements>\n",
    "# else:\n",
    "#     <statements>\n",
    "\n",
    "# for 循环\n",
    "\n",
    "languages = [\"C\", \"C++\", \"java\", \"Python\"]\n",
    "for x in languages:\n",
    "    print(x)\n",
    "else:\n",
    "    print(\"HTML\")"
   ]
  },
  {
   "cell_type": "code",
   "execution_count": 3,
   "metadata": {},
   "outputs": [
    {
     "name": "stdout",
     "output_type": "stream",
     "text": [
      "0\n",
      "1\n",
      "2\n",
      "3\n",
      "4\n",
      "5\n",
      "7\n",
      "9\n",
      "11\n",
      "13\n",
      "15\n",
      "17\n"
     ]
    }
   ],
   "source": [
    "# range函数从0开始 (范围)\n",
    "\n",
    "for i in range(5):\n",
    "    print(i)\n",
    "\n",
    "# range指定区间，最后一个是增量也叫做步长\n",
    "\n",
    "for x in range(5,19,2):\n",
    "    print(x)"
   ]
  },
  {
   "cell_type": "code",
   "execution_count": 5,
   "metadata": {},
   "outputs": [
    {
     "name": "stdout",
     "output_type": "stream",
     "text": [
      "0 Google\n",
      "1 Baidu\n",
      "2 Taobao\n",
      "3 Wechat\n",
      "4 QQ\n",
      "[0, 1, 2, 3, 4, 5, 6, 7, 8, 9]\n"
     ]
    }
   ],
   "source": [
    "# range()和len()结合\n",
    "\n",
    "a = [\"Google\", \"Baidu\", \"Taobao\", \"Wechat\", \"QQ\"]\n",
    "for i in range(len(a)):\n",
    "    print(i, a[i])\n",
    "    \n",
    "# range()创建列表\n",
    "print(list(range(10)))"
   ]
  },
  {
   "cell_type": "code",
   "execution_count": 6,
   "metadata": {},
   "outputs": [
    {
     "name": "stdout",
     "output_type": "stream",
     "text": [
      "3 是质数\n",
      "4 等于 2 * 2\n",
      "5 是质数\n",
      "5 是质数\n",
      "5 是质数\n",
      "6 等于 2 * 3\n",
      "7 是质数\n",
      "7 是质数\n",
      "7 是质数\n",
      "7 是质数\n",
      "7 是质数\n",
      "8 等于 2 * 4\n",
      "9 是质数\n",
      "9 等于 3 * 3\n"
     ]
    }
   ],
   "source": [
    "# for循环查询质数\n",
    "\n",
    "for n in range(2,10):\n",
    "    for x in range(2,n):\n",
    "        if n % x == 0:\n",
    "            print(n, \"等于\", x, \"*\", n//x)\n",
    "            break\n",
    "        else:\n",
    "            # 循环中没有找到元素\n",
    "            print(n, \"是质数\")"
   ]
  },
  {
   "cell_type": "code",
   "execution_count": 7,
   "metadata": {},
   "outputs": [
    {
     "name": "stdout",
     "output_type": "stream",
     "text": [
      "当前字母: F\n",
      "当前字母: e\n",
      "执行pass模块。\n",
      "当前字母: n\n",
      "当前字母: g\n",
      "Good bye!\n"
     ]
    }
   ],
   "source": [
    "# pass占位语句\n",
    "\n",
    "for letter in \"Feng\":\n",
    "    if letter == \"n\":\n",
    "        pass\n",
    "        print(\"执行pass模块。\")\n",
    "    print(\"当前字母:\", letter)\n",
    "print(\"Good bye!\")"
   ]
  },
  {
   "cell_type": "code",
   "execution_count": 12,
   "metadata": {},
   "outputs": [
    {
     "name": "stdout",
     "output_type": "stream",
     "text": [
      "1|2|4|5|7|8|10|11|13|14|16|17|19|20|22|23|25|26|28|29|31|32|34|35|37|38|40|41|43|44|46|47|49|50|52|53|55|56|58|59|61|62|64|65|67|68|70|71|73|74|76|77|79|80|82|83|85|86|88|89|91|92|94|95|97|98|"
     ]
    }
   ],
   "source": [
    "# 显示100以内，不是3的倍数的所有数字\n",
    "\n",
    "for i in range(100):\n",
    "    if i % 3 != 0:\n",
    "        print(i,end=\"|\")"
   ]
  },
  {
   "cell_type": "code",
   "execution_count": 13,
   "metadata": {},
   "outputs": [
    {
     "name": "stdout",
     "output_type": "stream",
     "text": [
      "纸张折叠次数为:27\n"
     ]
    }
   ],
   "source": [
    "# 折纸达到珠穆拉玛峰高度\n",
    "\n",
    "paper = 0.08\n",
    "mountain = 8848130\n",
    "n = 0\n",
    "while paper < mountain:\n",
    "    paper = paper * 2\n",
    "    n = n + 1\n",
    "print(\"纸张折叠次数为:\" + str(n))"
   ]
  },
  {
   "cell_type": "code",
   "execution_count": null,
   "metadata": {},
   "outputs": [],
   "source": []
  }
 ],
 "metadata": {
  "kernelspec": {
   "display_name": "Python 3",
   "language": "python",
   "name": "python3"
  },
  "language_info": {
   "codemirror_mode": {
    "name": "ipython",
    "version": 3
   },
   "file_extension": ".py",
   "mimetype": "text/x-python",
   "name": "python",
   "nbconvert_exporter": "python",
   "pygments_lexer": "ipython3",
   "version": "3.7.6"
  }
 },
 "nbformat": 4,
 "nbformat_minor": 4
}
