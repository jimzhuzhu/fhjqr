{
 "cells": [
  {
   "cell_type": "markdown",
   "metadata": {},
   "source": [
    "# 字符与字符串\n",
    " - 字符定义：表示数据和信息的符号\n",
    " - 可以用字母和数字等表示，比如 x 1 人\n",
    " - 字符串由许多字符组成，\n",
    " - 可以用 '' ,\"\", '''''' 表示\n",
    "\n",
    " \n",
    "# 数据类型\n",
    " - 常见数据类型\n",
    "     - 字符串\n",
    "     - 布尔类型\n",
    "     - 整数\n",
    "     - 浮点数\n",
    "     - 数字（包含整数，浮点数）\n",
    "     - 列表\n",
    "     - 元组\n",
    "     - 字典\n",
    "     - 日期(可用字符串代替)"
   ]
  },
  {
   "cell_type": "code",
   "execution_count": null,
   "metadata": {},
   "outputs": [],
   "source": [
    "# 字符串类型\n",
    "\n",
    "A = \"Hello World\"\n",
    "\n",
    "# 布尔值类型\n",
    "\n",
    "B = True / False\n",
    "\n",
    "# 整数\n",
    "\n",
    "C = 3"
   ]
  },
  {
   "cell_type": "code",
   "execution_count": 3,
   "metadata": {},
   "outputs": [
    {
     "name": "stdout",
     "output_type": "stream",
     "text": [
      "3\n",
      "12\n",
      "请输入你的名字：刘雨霞\n",
      "我叫刘雨霞我的年龄18岁\n",
      "我叫 刘雨霞 我的年龄 18 岁\n",
      "我叫刘雨霞,我的年龄18岁\n"
     ]
    }
   ],
   "source": [
    "# 错误示例\n",
    "# name = input(\"请输入你的名字：\")\n",
    "# age = 18\n",
    "\n",
    "# print(\"我叫\" + name + \"我的年龄\" + age + \"岁\")\n",
    "# print(\"我叫\", name, \"我的年龄\", age, \"岁\")\n",
    "\n",
    "# 字符串不能和数字相加，所以要转换\n",
    "\n",
    "# 字符串 -> 数字：\n",
    "A = \"1\"\n",
    "B = \"2\"\n",
    "print(int(A) + int(B))\n",
    "\n",
    "# 数字 -> 字符串\n",
    "A = 1\n",
    "B = 2\n",
    "print(str(A) + str(B))\n",
    "\n",
    "# 修改后的示例\n",
    "name = input(\"请输入你的名字：\")\n",
    "age = 18\n",
    "\n",
    "print(\"我叫\" + name + \"我的年龄\" + str(age) + \"岁\")\n",
    "print(\"我叫\",name,\"我的年龄\",str(age),\"岁\")\n",
    "\n",
    "# 占位符不需要转换\n",
    "print(\"我叫%s,我的年龄%s岁\" % (name,age))"
   ]
  },
  {
   "cell_type": "code",
   "execution_count": 4,
   "metadata": {},
   "outputs": [
    {
     "name": "stdout",
     "output_type": "stream",
     "text": [
      "30\n"
     ]
    }
   ],
   "source": [
    "# 课堂练习\n",
    "# 1.字符串转换成数字\n",
    "\n",
    "a = \"10\"\n",
    "b = \"20\"\n",
    "print(int(a) + int(b))"
   ]
  },
  {
   "cell_type": "code",
   "execution_count": 5,
   "metadata": {},
   "outputs": [
    {
     "name": "stdout",
     "output_type": "stream",
     "text": [
      "请输入a的值：1\n",
      "请输入b的值：2\n",
      "3\n"
     ]
    }
   ],
   "source": [
    "# 2.做一个加法计算器，输入并打印结果\n",
    "\n",
    "a = input(\"请输入a的值：\")\n",
    "b = input(\"请输入b的值：\")\n",
    "print(int(a) + int(b))"
   ]
  },
  {
   "cell_type": "code",
   "execution_count": null,
   "metadata": {},
   "outputs": [],
   "source": [
    "# 做一个计算器，输入运算符号，进行计算\n",
    "\n",
    "a = input(\"请输入a的值：\")\n",
    "b = input(\"请输入b的值：\")\n",
    "c = input(\"请输入运算符：\")  # eval()"
   ]
  },
  {
   "cell_type": "markdown",
   "metadata": {},
   "source": [
    "# 解释器 Interpreter\n",
    " - 直译器\n",
    " - 一种电脑程序，能直接把编程语言转译运行\n",
    "## 转义字符\n",
    " - 程序语言 数据格式 通信协议的形式文法的一部分\n",
    " - 转义字符开头叫转义字符序列\n",
    " - 使用反斜杠(\\),比如 \\n 换行\n",
    " - 字符串前添加一个r或者R，表示原始字符串\n",
    " - print(\"rengong\\nzhi\\nneng\")\n",
    " - print(r\"rengong\\nzhi\\nneng\")\n",
    " - Python 中没有单独的字符类型，一个字符就是长度为1的字符串\n",
    " - 转义字符不同含义\n",
    " \n",
    "         转义字符     描述\n",
    "         \\(在行尾需换行时)     续行符\n",
    "         \\\\     反斜杠符号\n",
    "         \\'     单引号\n",
    "         \\\"     双引号\n",
    "         \\a     响铃\n",
    "         \\b     退格(Backspace)\n",
    "         \\e     转义\n",
    "         \\000     一个空格\n",
    "         \\n     换行\n",
    "         \\v     纵向制表符\n",
    "         \\t     横向制表符\n",
    "         \\r     回车\n",
    "         \\f     换页\n",
    "         \\oyy     八进制数yy代表的字符，例如：\\o12代表换行\n",
    "         \\xyy     十进制数yy代表的字符，例如：\\x0a代表换行\n",
    "         \\other     其它的字符以普通格式输出\n",
    "————————————————"
   ]
  },
  {
   "cell_type": "markdown",
   "metadata": {},
   "source": [
    "# window启动Python\n",
    " - window图标 + R\n",
    " - cmd 运行\n",
    " - 直接打Python\n",
    " \n",
    "## 脚本式编程\n",
    " - 纯文本保存的程序\n"
   ]
  },
  {
   "cell_type": "code",
   "execution_count": null,
   "metadata": {},
   "outputs": [],
   "source": []
  }
 ],
 "metadata": {
  "kernelspec": {
   "display_name": "Python 3",
   "language": "python",
   "name": "python3"
  },
  "language_info": {
   "codemirror_mode": {
    "name": "ipython",
    "version": 3
   },
   "file_extension": ".py",
   "mimetype": "text/x-python",
   "name": "python",
   "nbconvert_exporter": "python",
   "pygments_lexer": "ipython3",
   "version": "3.7.6"
  }
 },
 "nbformat": 4,
 "nbformat_minor": 4
}
