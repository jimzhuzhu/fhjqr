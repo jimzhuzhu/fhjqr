{
 "cells": [
  {
   "cell_type": "markdown",
   "metadata": {},
   "source": [
    "# 运算符\n",
    " - 例子 4 + 5 = 9 4和5被称为操作数，“+”为运算符\n",
    " - 运算符类型：\n",
    "     - 算术运算符\n",
    "         - + 两个对象相加\n",
    "         - - 相加，可以是负数\n",
    "         - * 两个数相乘或返回一个被重复若干次的字符串\n",
    "         - / 两者相除\n",
    "         - % 取模 返回除法的余数\n",
    "         - ** 幂 返回x的y次幂\n",
    "         - // 取整除 - 向下取接近除数的整数\n",
    "     - 比较运算符\n",
    "         - ==等于 比较对象是否相等\n",
    "         - != 不等于 比较两个对象是否不相等\n",
    "         - ，>， 大于 返回 x 是否大于y\n",
    "         - ，<， 小于 返回 x 是否小于y\n",
    "         - ，>=， 大于等于 返回 x 是否大于等于y\n",
    "         - ，<=， 小于等于 返回 x 是否小于等于y\n",
    "         - 比较符运算符返回都是布尔值，1表示真（True）,0表示假（False）\n",
    "     - 赋值运算符\n",
    "         - = 简单的赋值运算\n",
    "         - += 加法赋值运算 c += a 等效于 c = c + a\n",
    "         - -= 减法赋值运算 同上\n",
    "         - *= 乘法赋值运算符\n",
    "         - /= 除法赋值运算符\n",
    "         - %= 取模赋值运算符\n",
    "         - **= 幂赋值运算符\n",
    "         - //= 取整除赋值运算符\n",
    "     - 逻辑运算符\n",
    "     - 位运算符\n",
    "     - 成员运算符\n",
    "     - 身份运算符\n",
    " - 运算符优先级"
   ]
  },
  {
   "cell_type": "code",
   "execution_count": 1,
   "metadata": {},
   "outputs": [
    {
     "name": "stdout",
     "output_type": "stream",
     "text": [
      "1\n",
      "1.5\n",
      "1.0\n",
      "1\n",
      "0.5\n",
      "1.5\n"
     ]
    }
   ],
   "source": [
    "# 运算符案例\n",
    "\n",
    "print(3%2)\n",
    "print(3.5%2)\n",
    "print(3.5%2.5)\n",
    "print(-3%2)\n",
    "print(-3.5%2)\n",
    "print(-3.5%2.5)"
   ]
  },
  {
   "cell_type": "code",
   "execution_count": 2,
   "metadata": {},
   "outputs": [
    {
     "name": "stdout",
     "output_type": "stream",
     "text": [
      "请输入A的值：8\n",
      "请输入B的值：4\n",
      "请输入运算符：/\n",
      "2.0\n"
     ]
    }
   ],
   "source": [
    "# 案例2\n",
    "\n",
    "A = input(\"请输入A的值：\")\n",
    "B = input(\"请输入B的值：\")\n",
    "C = input(\"请输入运算符：\")\n",
    "\n",
    "print(eval(A + C +B))"
   ]
  },
  {
   "cell_type": "code",
   "execution_count": null,
   "metadata": {},
   "outputs": [],
   "source": []
  }
 ],
 "metadata": {
  "kernelspec": {
   "display_name": "Python 3",
   "language": "python",
   "name": "python3"
  },
  "language_info": {
   "codemirror_mode": {
    "name": "ipython",
    "version": 3
   },
   "file_extension": ".py",
   "mimetype": "text/x-python",
   "name": "python",
   "nbconvert_exporter": "python",
   "pygments_lexer": "ipython3",
   "version": "3.7.6"
  }
 },
 "nbformat": 4,
 "nbformat_minor": 4
}
