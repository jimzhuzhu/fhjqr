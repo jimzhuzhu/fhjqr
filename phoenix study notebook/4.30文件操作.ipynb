{
 "cells": [
  {
   "cell_type": "markdown",
   "metadata": {},
   "source": [
    "# 文件操作\n",
    " - Python读写文件使用open()函数\n",
    " - 基本语法格式\n",
    "     - open(filename, mode)\n",
    "     - filename: 包含了你要访问的文件名称的字符串值\n",
    "     - mode: 决定打开文件的模式：只写，读入，追加等\n",
    " - 打开文件列表方式：\n",
    "     - r 只读方式打开文件\n",
    "     - w 只写方式打开文件\n",
    "     - rb 以二进制格式打开文件用于只读\n",
    "     - 其它百度查询\n",
    "     - f.tell()返回文件对象当前所处位置和f.seek()，可以改变文件当前位置\n",
    "         - seek(x,0): 从起始位置首行字符开始移动x字符\n",
    "         - seek(x,1): 从当前位置往后一道x个字符\n",
    "         - seek(-x,2): 表示从文件的结尾往前移动x个字符\n",
    "     - f.close()关闭文件释放资源\n",
    "     - 使用with关键字，结束后它会帮你正确关闭文件"
   ]
  },
  {
   "cell_type": "code",
   "execution_count": 2,
   "metadata": {},
   "outputs": [],
   "source": [
    "# 打开文件案例\n",
    "\n",
    "f = open(\"foo.txt\",\"w\")\n",
    "f.write(\"Python编程很有趣。\\n是的！\")\n",
    "\n",
    "# 关闭打开的文件\n",
    "f.close()"
   ]
  },
  {
   "cell_type": "code",
   "execution_count": 3,
   "metadata": {},
   "outputs": [
    {
     "name": "stdout",
     "output_type": "stream",
     "text": [
      "Python编程很有趣。\n",
      "是的！\n"
     ]
    }
   ],
   "source": [
    "# 读取文件\n",
    "\n",
    "f = open(\"foo.txt\", \"r\")\n",
    "str = f.read()\n",
    "print(str)\n",
    "# 关闭打开的文件\n",
    "f.close()"
   ]
  },
  {
   "cell_type": "code",
   "execution_count": 6,
   "metadata": {},
   "outputs": [
    {
     "name": "stdout",
     "output_type": "stream",
     "text": [
      "Python编程很有趣。\n",
      "\n",
      "['Python编程很有趣。\\n', '是的！']\n"
     ]
    }
   ],
   "source": [
    "# 按行读取 f.readline()只读取一行\n",
    "\n",
    "f = open(\"foo.txt\", \"r\")\n",
    "str = f.readline()\n",
    "print(str)\n",
    "\n",
    "# 关闭打开的文件\n",
    "f.close()\n",
    "\n",
    "# 按行读取 f.readlines()返回改文件包含的所有行，按字节分割\n",
    "\n",
    "f = open(\"foo.txt\", \"r\")\n",
    "str = f.readlines()\n",
    "print(str)\n",
    "\n",
    "# 关闭打开的文件\n",
    "f.close()"
   ]
  },
  {
   "cell_type": "code",
   "execution_count": 7,
   "metadata": {},
   "outputs": [
    {
     "name": "stdout",
     "output_type": "stream",
     "text": [
      "Python编程很有趣。\n",
      "是的！"
     ]
    },
    {
     "data": {
      "text/plain": [
       "<function TextIOWrapper.close()>"
      ]
     },
     "execution_count": 7,
     "metadata": {},
     "output_type": "execute_result"
    }
   ],
   "source": [
    "# 按行读取全部，迭代一个文件\n",
    "\n",
    "f = open(\"foo.txt\", \"r\")\n",
    "for line in f:\n",
    "    print(line,end='')\n",
    "\n",
    "# 关闭打开的文件\n",
    "f.close"
   ]
  },
  {
   "cell_type": "code",
   "execution_count": 9,
   "metadata": {},
   "outputs": [
    {
     "name": "stdout",
     "output_type": "stream",
     "text": [
      "17\n"
     ]
    }
   ],
   "source": [
    "# f.write()将string写入文件中\n",
    "\n",
    "f = open(\"foo.txt\", \"w\")\n",
    "num = f.write(\"Python编程很有趣2。\\n是的！\")\n",
    "print(num)\n",
    "# 关闭打开的文件\n",
    "f.close() # 返回的是字符串个数，没有读取"
   ]
  },
  {
   "cell_type": "code",
   "execution_count": 16,
   "metadata": {},
   "outputs": [
    {
     "ename": "TypeError",
     "evalue": "'list' object is not callable",
     "output_type": "error",
     "traceback": [
      "\u001b[1;31m---------------------------------------------------------------------------\u001b[0m",
      "\u001b[1;31mTypeError\u001b[0m                                 Traceback (most recent call last)",
      "\u001b[1;32m<ipython-input-16-13dcd91d2b35>\u001b[0m in \u001b[0;36m<module>\u001b[1;34m\u001b[0m\n\u001b[0;32m      3\u001b[0m \u001b[0mf\u001b[0m \u001b[1;33m=\u001b[0m \u001b[0mopen\u001b[0m\u001b[1;33m(\u001b[0m\u001b[1;34m\"foo.txt\"\u001b[0m\u001b[1;33m,\u001b[0m \u001b[1;34m\"w\"\u001b[0m\u001b[1;33m)\u001b[0m\u001b[1;33m\u001b[0m\u001b[1;33m\u001b[0m\u001b[0m\n\u001b[0;32m      4\u001b[0m \u001b[0mvalue\u001b[0m \u001b[1;33m=\u001b[0m \u001b[1;33m[\u001b[0m\u001b[1;34m\"www.baidu.com\"\u001b[0m\u001b[1;33m,\u001b[0m \u001b[1;36m13\u001b[0m\u001b[1;33m]\u001b[0m\u001b[1;33m\u001b[0m\u001b[1;33m\u001b[0m\u001b[0m\n\u001b[1;32m----> 5\u001b[1;33m \u001b[0ms\u001b[0m \u001b[1;33m=\u001b[0m \u001b[0mstr\u001b[0m\u001b[1;33m(\u001b[0m\u001b[0mvalue\u001b[0m\u001b[1;33m)\u001b[0m \u001b[1;31m# 转换为str类型\u001b[0m\u001b[1;33m\u001b[0m\u001b[1;33m\u001b[0m\u001b[0m\n\u001b[0m\u001b[0;32m      6\u001b[0m \u001b[0mf\u001b[0m\u001b[1;33m.\u001b[0m\u001b[0mwrite\u001b[0m\u001b[1;33m(\u001b[0m\u001b[0ms\u001b[0m\u001b[1;33m)\u001b[0m\u001b[1;33m\u001b[0m\u001b[1;33m\u001b[0m\u001b[0m\n\u001b[0;32m      7\u001b[0m \u001b[1;31m# 关闭打开的文件\u001b[0m\u001b[1;33m\u001b[0m\u001b[1;33m\u001b[0m\u001b[1;33m\u001b[0m\u001b[0m\n",
      "\u001b[1;31mTypeError\u001b[0m: 'list' object is not callable"
     ]
    }
   ],
   "source": [
    "# 写入不是字符串的东西，需要先进行转换\n",
    "\n",
    "f = open(\"foo.txt\", \"w\")\n",
    "value = [\"www.baidu.com\", 13]\n",
    "s = str(value) # 转换为str类型\n",
    "f.write(s)\n",
    "# 关闭打开的文件\n",
    "f.close()"
   ]
  },
  {
   "cell_type": "code",
   "execution_count": 18,
   "metadata": {},
   "outputs": [
    {
     "name": "stdout",
     "output_type": "stream",
     "text": [
      "True\n",
      "['Python人工智能']\n",
      "True\n"
     ]
    }
   ],
   "source": [
    "# 文件操作练习\n",
    "\n",
    "with open(\"test.txt\", \"w+\") as f:\n",
    "    f.write(\"Python人工智能\")\n",
    "    f.seek(0,0) # 写完指针在末尾，将指针调至开头\n",
    "    \n",
    "print(f.closed)\n",
    "\n",
    "# 拓展练习\n",
    "\n",
    "with open(\"test2.txt\", \"w+\") as f:\n",
    "    f.write(\"Python人工智能\")\n",
    "    f.seek(0,0) # 写完指针在末尾，将指针调至开头\n",
    "    str = f.readlines()\n",
    "    print(str)\n",
    "print(f.closed)"
   ]
  },
  {
   "cell_type": "code",
   "execution_count": null,
   "metadata": {},
   "outputs": [],
   "source": []
  }
 ],
 "metadata": {
  "kernelspec": {
   "display_name": "Python 3",
   "language": "python",
   "name": "python3"
  },
  "language_info": {
   "codemirror_mode": {
    "name": "ipython",
    "version": 3
   },
   "file_extension": ".py",
   "mimetype": "text/x-python",
   "name": "python",
   "nbconvert_exporter": "python",
   "pygments_lexer": "ipython3",
   "version": "3.7.6"
  }
 },
 "nbformat": 4,
 "nbformat_minor": 4
}
