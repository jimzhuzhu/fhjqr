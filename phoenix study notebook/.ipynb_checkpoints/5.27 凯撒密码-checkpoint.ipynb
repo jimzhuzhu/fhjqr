{
 "cells": [
  {
   "cell_type": "markdown",
   "metadata": {},
   "source": [
    "# 凯撒密码\n",
    "- 平移密码，字母位置向后移动一定位数\n",
    "- 穷举法（暴力破解）\n",
    "- 升级后，需要对照表"
   ]
  },
  {
   "cell_type": "markdown",
   "metadata": {},
   "source": [
    "## 凯撒密码加密程序"
   ]
  },
  {
   "cell_type": "code",
   "execution_count": 4,
   "metadata": {},
   "outputs": [],
   "source": [
    "import tkinter\n",
    "win = tkinter.Tk()\n",
    "win.title(\"凯撒密码\")\n",
    "win.geometry(\"400x400+200+50\")\n",
    "p = \"abcdefghijklmnopqrstuvwxyz\"\n",
    "def jiami():\n",
    "    # 先清空文本框然后再输入，从哪一行到哪一行开始，\n",
    "    # 行号以1开始，列号以0开始\n",
    "    text.delete('1.0', 'end')\n",
    "    # 获取输入的内容\n",
    "    for i in entry.get():\n",
    "        if i == \" \": # 判断为空格的特殊情况则添加空格\n",
    "            text.insert(tkinter.INSERT, ' ')\n",
    "        else:\n",
    "            a = p.find(i) # 查找索引位置\n",
    "            b = (a+3) % 26\n",
    "            text.insert(tkinter.INSERT, p[b])\n",
    "entry = tkinter.Entry(win, width=20)\n",
    "entry.pack()\n",
    "button = tkinter.Button(win, text=\"加密\", command = jiami)\n",
    "button.pack()\n",
    "text = tkinter.Text(win, width=20, height=10)\n",
    "text.pack()\n",
    "win.mainloop()"
   ]
  },
  {
   "cell_type": "markdown",
   "metadata": {},
   "source": [
    "# 凯撒密码解密程序\n",
    "- 同理“-3”即可破解密码"
   ]
  },
  {
   "cell_type": "code",
   "execution_count": 5,
   "metadata": {},
   "outputs": [],
   "source": [
    "import tkinter\n",
    "win = tkinter.Tk()\n",
    "win.title(\"凯撒密码\")\n",
    "win.geometry(\"400x400+200+50\")\n",
    "p = \"abcdefghijklmnopqrstuvwxyz\"\n",
    "def jiami():\n",
    "    # 先清空文本框然后再输入，从哪一行到哪一行开始，\n",
    "    # 行号以1开始，列号以0开始\n",
    "    text.delete('1.0', 'end')\n",
    "    # 获取输入的内容\n",
    "    for i in entry.get():\n",
    "        if i == \" \": # 判断为空格的特殊情况则添加空格\n",
    "            text.insert(tkinter.INSERT, ' ')\n",
    "        else:\n",
    "            a = p.find(i) # 查找索引位置\n",
    "            b = (a+3) % 26\n",
    "            text.insert(tkinter.INSERT, p[b])\n",
    "\n",
    "def jiemi():\n",
    "    # 先清空文本框然后再输入，从哪一行到哪一行开始，\n",
    "    # 行号以1开始，列号以0开始\n",
    "    text.delete('1.0', 'end')\n",
    "    # 获取输入的内容\n",
    "    for i in entry.get():\n",
    "        if i == \" \": # 判断为空格的特殊情况则添加空格\n",
    "            text.insert(tkinter.INSERT, ' ')\n",
    "        else:\n",
    "            a = p.find(i) # 查找索引位置\n",
    "            b = (a-3) % 26\n",
    "            text.insert(tkinter.INSERT, p[b])\n",
    "            \n",
    "entry = tkinter.Entry(win, width=20)\n",
    "entry.pack()\n",
    "button1 = tkinter.Button(win, text=\"加密\", command = jiami)\n",
    "button1.pack()\n",
    "button2 = tkinter.Button(win, text=\"解密\", command = jiemi)\n",
    "button2.pack()\n",
    "text = tkinter.Text(win, width=20, height=10)\n",
    "text.pack()\n",
    "win.mainloop()"
   ]
  },
  {
   "cell_type": "markdown",
   "metadata": {},
   "source": [
    "# 多项选择\n",
    "- 带滚动条的text控件"
   ]
  },
  {
   "cell_type": "code",
   "execution_count": 10,
   "metadata": {},
   "outputs": [],
   "source": [
    "# 代码案例\n",
    "import tkinter\n",
    "win = tkinter.Tk()\n",
    "win.title(\"凤凰机器人\")\n",
    "# 设置大小\n",
    "win.geometry(\"200x100+200+50\")\n",
    "# 创建滚动条\n",
    "scroll = tkinter.Scrollbar()\n",
    "#text = tkinter.Text(win)\n",
    "# 设置大小\n",
    "text = tkinter.Text(win, width=30, height=10)\n",
    "# 关联垂直滚动条yscrollcommand\n",
    "scroll.config(command = text.yview)\n",
    "text.config(yscrollcommand = scroll.set)"
   ]
  },
  {
   "cell_type": "code",
   "execution_count": null,
   "metadata": {},
   "outputs": [],
   "source": []
  }
 ],
 "metadata": {
  "kernelspec": {
   "display_name": "Python 3",
   "language": "python",
   "name": "python3"
  },
  "language_info": {
   "codemirror_mode": {
    "name": "ipython",
    "version": 3
   },
   "file_extension": ".py",
   "mimetype": "text/x-python",
   "name": "python",
   "nbconvert_exporter": "python",
   "pygments_lexer": "ipython3",
   "version": "3.7.6"
  }
 },
 "nbformat": 4,
 "nbformat_minor": 4
}
