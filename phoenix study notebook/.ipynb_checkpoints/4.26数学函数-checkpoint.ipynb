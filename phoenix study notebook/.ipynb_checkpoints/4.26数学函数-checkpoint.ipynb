{
 "cells": [
  {
   "cell_type": "markdown",
   "metadata": {},
   "source": [
    "# 函数\n",
    "## 数学函数\n",
    " - 数学常量，不变的量，比如光的速度\n",
    " - 函数是一种关系，一个集合每一个元素都在另一个集合里有对应的值\n",
    " - 必须先导入相应函数(import math)\n",
    " - 有许多数学函数，可baidu查看\n",
    "## 数字类型转换\n",
    " - int(x)将x转换为一个整数\n",
    " - float(x)将x转换为一个浮点数\n",
    " - complex(x)将x转换到一个复数，实数部分为x,虚数为0\n",
    " - complex(x, y)将x和y转换到一个复数，实数部分为x,虚数为y，x 和 y是数字表达式\n",
    " ## 随机数函数\n",
    " - choice(seq), 从序列元素随机挑选\n",
    " - randrange([start,]stop[,step]), 基数递增获取一个随机数，基数默认为1\n",
    " - random(), 随机生成下一个实数，在0,1]之间\n",
    " - seed([x]), 改变随机数生成器的种子seed\n",
    " - shuffle(lst), 将序列所以元素随机排序\n",
    " - uniform(x,y), 随机生成下一个实数，她在[x,y]范围内\n",
    "## Python还包括三角函数\n",
    "## 数学常量\n",
    " - pi 数学常量pi(圆周率,通常以π来表示)\n",
    " - e 数学常量e，e即自然常数"
   ]
  },
  {
   "cell_type": "code",
   "execution_count": 1,
   "metadata": {},
   "outputs": [
    {
     "name": "stdout",
     "output_type": "stream",
     "text": [
      "2.0\n"
     ]
    }
   ],
   "source": [
    "# 导入数学函数\n",
    "\n",
    "import math\n",
    "print(math.sqrt(4)) # sqrt(取根号)"
   ]
  },
  {
   "cell_type": "code",
   "execution_count": 3,
   "metadata": {},
   "outputs": [
    {
     "name": "stdout",
     "output_type": "stream",
     "text": [
      "10\n",
      "5\n",
      "1\n",
      "3.14\n",
      "5\n",
      "2.718281828459045\n",
      "10.0\n",
      "5\n",
      "2.0\n",
      "2.0\n",
      "(0.09999999999999432, 100.0)\n",
      "8\n",
      "2.0\n"
     ]
    }
   ],
   "source": [
    "# 课堂练习\n",
    "# 1.使用不同的数学函数\n",
    "\n",
    "import math\n",
    "print(abs(-10))\n",
    "print(max(1,2,3,4,5))\n",
    "print(min(1,2,3,4,5))\n",
    "print(round(3.14159,2))\n",
    "print(math.ceil(4.1))\n",
    "print(math.exp(1))\n",
    "print(math.fabs(-10))\n",
    "print(math.floor(5.9))\n",
    "print(math.log(100,10))\n",
    "print(math.log10(100))\n",
    "print(math.modf(100.1))\n",
    "print(pow(2, 3))\n",
    "print(math.sqrt(4))"
   ]
  },
  {
   "cell_type": "code",
   "execution_count": 4,
   "metadata": {},
   "outputs": [
    {
     "name": "stdout",
     "output_type": "stream",
     "text": [
      "请输入圆的半径：2\n",
      "圆的周长为:12.566370614359172\n",
      "圆的面积为:12.566370614359172\n"
     ]
    }
   ],
   "source": [
    "# 输入圆的半径输出圆的周长与面积\n",
    "\n",
    "import math\n",
    "r = input(\"请输入圆的半径：\")\n",
    "circ = 2*math.pi*int(r)\n",
    "acreage = math.pi*int(r)*int(r)\n",
    "print(\"圆的周长为:\" + str(circ))\n",
    "print(\"圆的面积为:\" + str(acreage))"
   ]
  },
  {
   "cell_type": "code",
   "execution_count": 7,
   "metadata": {},
   "outputs": [
    {
     "name": "stdout",
     "output_type": "stream",
     "text": [
      "圆的周长为:238.76104167282426\n",
      "圆的面积为:4536.459791783661\n"
     ]
    }
   ],
   "source": [
    "# s随机生成一个半径为1~100的圆，得出圆的面积\n",
    "\n",
    "import math\n",
    "import random\n",
    "r = random.randint(1,100)\n",
    "circ = 2*math.pi*int(r)\n",
    "acreage = math.pi*int(r)*int(r)\n",
    "print(\"圆的周长为:\" + str(circ))\n",
    "print(\"圆的面积为:\" + str(acreage))"
   ]
  },
  {
   "cell_type": "code",
   "execution_count": null,
   "metadata": {},
   "outputs": [],
   "source": []
  }
 ],
 "metadata": {
  "kernelspec": {
   "display_name": "Python 3",
   "language": "python",
   "name": "python3"
  },
  "language_info": {
   "codemirror_mode": {
    "name": "ipython",
    "version": 3
   },
   "file_extension": ".py",
   "mimetype": "text/x-python",
   "name": "python",
   "nbconvert_exporter": "python",
   "pygments_lexer": "ipython3",
   "version": "3.7.6"
  }
 },
 "nbformat": 4,
 "nbformat_minor": 4
}
