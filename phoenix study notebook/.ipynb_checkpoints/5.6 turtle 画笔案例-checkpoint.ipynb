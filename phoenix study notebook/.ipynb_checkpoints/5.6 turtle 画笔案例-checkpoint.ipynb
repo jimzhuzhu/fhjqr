{
 "cells": [
  {
   "cell_type": "markdown",
   "metadata": {},
   "source": [
    "# 魔法画笔\n",
    " - 循环\n",
    "     - 在画图中，循环常用的画图方式\n",
    " - 五角星\n",
    "     - 五角星是奇数角，角度和是180度，同理七角星，九角星角度和也是180度\n",
    " - 补角\n",
    "     - 两角之和为180度，则两角互为补角。\n",
    " - Speed()方法\n",
    "     - 快熟画出图形\n",
    "     - 参数是0~10范围内的整数\n",
    "     - 参数大于10或者小于0.5，速度则为0，1-10逐渐加级\n",
    "     - Turtle.speed(0)代表速度最快\n",
    "         - 0 最快\n",
    "         - 10 快\n",
    "         - 6 正常\n",
    "         - 3 慢\n",
    "         - 1 最慢\n",
    " - Trance()函数\n",
    "     - 跳过绘画动画\n",
    "     - t.tracer(False) 关闭动画\n",
    "     - t.tracer(Ture) 打开动画\n",
    " - 确定转向\n",
    "     - heading() 与 setheading() \n",
    "     - 转向东南西北对应关系\n",
    "         - 0 - 东\n",
    "         - 90 - 北\n",
    "         - 180 - 西\n",
    "         - 270 - 南\n"
   ]
  },
  {
   "cell_type": "code",
   "execution_count": 1,
   "metadata": {},
   "outputs": [],
   "source": [
    "# 循环的用法,海龟图\n",
    "\n",
    "import turtle as t\n",
    "for x in range(100):\n",
    "    t.forward(2*x)\n",
    "    t.left(90)"
   ]
  },
  {
   "cell_type": "code",
   "execution_count": null,
   "metadata": {},
   "outputs": [],
   "source": [
    "# 五角星计算\n",
    "# 内角和为180度，单个角是180度/5=36度，\n",
    "# 转向需要用到补角，所以角度算法可以：180-180/5\n",
    "\n",
    "import turtle as t\n",
    "t.setup(600,400,0,0)\n",
    "# 背景颜色\n",
    "t.bgcolor(\"red\")\n",
    "t.pencolor(\"yellow\")\n",
    "t.fillcolor(\"yellow\")\n",
    "\n",
    "t.begin_fill()\n",
    "for i in range(5):\n",
    "    t.forward(100)\n",
    "    t.right(144) # 180-18-/5\n",
    "t.end_fill()\n",
    "\n",
    "t.done() # 保持窗口不关闭"
   ]
  },
  {
   "cell_type": "code",
   "execution_count": 9,
   "metadata": {},
   "outputs": [],
   "source": [
    "# 绘制七角星\n",
    "\n",
    "import turtle as t\n",
    "t.speed(1)\n",
    "\n",
    "t.begin_fill()\n",
    "for x in range(1,8):\n",
    "    t.forward(100)\n",
    "    t.right(180-(180/7))\n",
    "t.end_fill()"
   ]
  },
  {
   "cell_type": "code",
   "execution_count": 1,
   "metadata": {},
   "outputs": [],
   "source": [
    "# 调整绘画速度\n",
    "\n",
    "import turtle as t\n",
    "t.speed(1)\n",
    "t.setup(600,400,0,0)\n",
    "# 背景颜色\n",
    "t.bgcolor(\"red\")\n",
    "t.pencolor(\"yellow\")\n",
    "t.fillcolor(\"yellow\")\n",
    "\n",
    "t.begin_fill()\n",
    "for i in range(5):\n",
    "    t.forward(100)\n",
    "    t.right(180-(180/5)) # 180-180/5\n",
    "t.end_fill()\n",
    "\n",
    "t.done() # 保持窗口不关闭"
   ]
  },
  {
   "cell_type": "code",
   "execution_count": 1,
   "metadata": {},
   "outputs": [
    {
     "name": "stdout",
     "output_type": "stream",
     "text": [
      "0.0\n"
     ]
    }
   ],
   "source": [
    "# 改变角度转向\n",
    "import turtle # 导入库文件\n",
    "turtle.setheading(180) # 箭头朝西\n",
    "turtle.circle(100.90) # 画圆\n",
    "turtle.home() #画笔移动到初始位置，朝向初始方向\n",
    "print(turtle.heading())"
   ]
  },
  {
   "cell_type": "code",
   "execution_count": 1,
   "metadata": {},
   "outputs": [],
   "source": [
    "# 绘画九角星\n",
    "\n",
    "import turtle as t\n",
    "t.tracer(False) # 跳过绘画动画\n",
    "t.begin_fill()\n",
    "for i in range(9):\n",
    "    t.forward(200)\n",
    "    t.left(160)\n",
    "t.end_fill()"
   ]
  },
  {
   "cell_type": "code",
   "execution_count": null,
   "metadata": {},
   "outputs": [],
   "source": [
    "# 绘画螺旋线不同角度\n",
    "\n",
    "import turtle as t\n",
    "# t.speed(100)\n",
    "# t.pensize(2)\n",
    "\n",
    "for x in range(100):\n",
    "    t.forward(2*x)\n",
    "    t.left(150) # 不同角度图案也不一样"
   ]
  },
  {
   "cell_type": "code",
   "execution_count": null,
   "metadata": {},
   "outputs": [],
   "source": [
    "# 绘画彩色螺旋线\n",
    "\n",
    "import turtle as t\n",
    "t.speed(2)\n",
    "t.pensize(2)\n",
    "t.bgcolor(\"black\") # 背景黑色\n",
    "color = [\"red\", \"yellow\", \"purple\", \"blue\"] # 使用列表\n",
    "\n",
    "for x in range(100):\n",
    "    t.forward(2*x)\n",
    "    t.color(color[x % 4])\n",
    "    t.left(91)"
   ]
  }
 ],
 "metadata": {
  "kernelspec": {
   "display_name": "Python 3",
   "language": "python",
   "name": "python3"
  },
  "language_info": {
   "codemirror_mode": {
    "name": "ipython",
    "version": 3
   },
   "file_extension": ".py",
   "mimetype": "text/x-python",
   "name": "python",
   "nbconvert_exporter": "python",
   "pygments_lexer": "ipython3",
   "version": "3.7.6"
  }
 },
 "nbformat": 4,
 "nbformat_minor": 4
}
