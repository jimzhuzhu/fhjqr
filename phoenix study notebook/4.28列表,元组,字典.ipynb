{
 "cells": [
  {
   "cell_type": "markdown",
   "metadata": {},
   "source": [
    "# 列表\n",
    " - 列表是Python中最基本的数据结构\n",
    " - 序列式被排成一列的对象\n",
    " - 列表用[] 方括号表示，用, 逗号隔开\n",
    " - 序列中每个元素都会分配一个索引，第一个索引是0\n",
    " - 访问列表中的值，可以用下标索引访问，同样也可以使用切片截取\n",
    " - 更新列表，增加该查\n",
    "     - 使用append()添加列表项\n",
    "     - del 语句删除元素\n",
    " - 列表脚本操作符境\n",
    "     - len(), 计算长度\n",
    "     - [1,2] + [3,4] 组合相加\n",
    "     - * 重复几次列表\n",
    "     - 3 in [1,2,3] 元素是否在列表中\n",
    "     - for x in [] 迭代\n",
    " - 列表截取拼接\n",
    "     - L[2] 读取下表元素\n",
    "     - L[-2] 右侧读取倒数下标元素\n",
    "     - L[1:] 输出下表开始后所有元素\n",
    " - 嵌套列表，列表里创建其它列表\n",
    " - 列表常用函数 ，其它百度复习\n",
    "     - len(list) 列表元素个数\n",
    "     - max(list) 返回最大值\n",
    "     - min(list) 返回最小值\n",
    "     - list(seq) 列表转为元素"
   ]
  },
  {
   "cell_type": "code",
   "execution_count": 2,
   "metadata": {},
   "outputs": [
    {
     "name": "stdout",
     "output_type": "stream",
     "text": [
      "['A', 'B', 2019, 2020]\n",
      "[1, 2, 3, 4, 5, 6, 7, 8, 9]\n",
      "list1[0]: A\n",
      "list2[1:5]: [2, 3, 4, 5]\n"
     ]
    }
   ],
   "source": [
    "# 列表\n",
    "\n",
    "list1 = [\"A\", \"B\", 2019, 2020]\n",
    "list2 = [1, 2, 3, 4, 5, 6, 7, 8, 9]\n",
    "\n",
    "print(list1)\n",
    "print(list2)\n",
    "\n",
    "# 访问列表中值\n",
    "\n",
    "print(\"list1[0]:\", list1[0]) # 下标索引\n",
    "print(\"list2[1:5]:\", list2[1:5]) # 切片截取"
   ]
  },
  {
   "cell_type": "code",
   "execution_count": 3,
   "metadata": {},
   "outputs": [
    {
     "name": "stdout",
     "output_type": "stream",
     "text": [
      "7\n",
      "None\n",
      "None\n",
      "h\n",
      "None\n"
     ]
    }
   ],
   "source": [
    "# 阅读列表代码\n",
    "\n",
    "a = [\"a\", \"b\", \"c\", \"d\", \"e\", \"f\", \"g\"]\n",
    "print(len(a))\n",
    "print(a.append(\"h\"))\n",
    "print(a.insert(1,0))\n",
    "print(a.pop())\n",
    "print(a.reverse())"
   ]
  },
  {
   "cell_type": "code",
   "execution_count": null,
   "metadata": {},
   "outputs": [],
   "source": [
    "# 修改列表练习\n",
    "\n",
    "list = [1,2,3,4]\n",
    "list.append(5)\n",
    "list.pop(1)\n",
    "list[2] = 8\n",
    "print(list)"
   ]
  },
  {
   "cell_type": "markdown",
   "metadata": {},
   "source": [
    "# 元组\n",
    " - 元组使用小括号（） 而列表是[]方括号\n",
    " - 元组没法改变, 但可以相互组合\n",
    " - 不允许删除，可使用del删除整个\n",
    " - 与字符串一样，也有符境运输\n",
    " - 元素截取，与列表同上\n",
    " - 内置函数\n",
    "     - len(tuple) 计算元组个数\n",
    "     - max(tumple) 返回最大值\n",
    "     - min(tumle) 返回最小值\n",
    "     - tumple(seq) 列表转为元组"
   ]
  },
  {
   "cell_type": "code",
   "execution_count": null,
   "metadata": {},
   "outputs": [],
   "source": [
    "# 元组示例\n",
    "tup1 = (\"aliabab\", \"taobao\", 2019, 2020)\n",
    "tup2 = (1, 2, 3, 4, 5)\n",
    "tup3 = \"a\", \"b\", \"c\"   # 不要括号也可以\n",
    "tup4 = (50,) #元组只有一个元素，要在括号后加，逗号\n",
    "print(tup1)\n",
    "print(tup2)\n",
    "print(tup3)\n",
    "print(tup4)"
   ]
  },
  {
   "cell_type": "code",
   "execution_count": 4,
   "metadata": {},
   "outputs": [
    {
     "name": "stdout",
     "output_type": "stream",
     "text": [
      "(12, 34, 56, 'abc', 'xyz')\n"
     ]
    }
   ],
   "source": [
    "# 元组组合\n",
    "\n",
    "tup1 = (12, 34, 56)\n",
    "tup2 = (\"abc\", \"xyz\")\n",
    "tup3 = tup1 + tup2\n",
    "print(tup3)"
   ]
  },
  {
   "cell_type": "code",
   "execution_count": 5,
   "metadata": {},
   "outputs": [
    {
     "name": "stdout",
     "output_type": "stream",
     "text": [
      "7\n",
      "g\n",
      "a\n",
      "c\n",
      "f\n",
      "('c', 'd', 'e', 'f', 'g')\n"
     ]
    }
   ],
   "source": [
    "# 元组案例\n",
    "\n",
    "a = (\"a\", \"b\", \"c\", \"d\", \"e\", \"f\", \"g\")\n",
    "print(len(a))\n",
    "print(max(a))\n",
    "print(min(a))\n",
    "print(a[2])\n",
    "print(a[-2])\n",
    "print(a[2:])"
   ]
  },
  {
   "cell_type": "code",
   "execution_count": 9,
   "metadata": {},
   "outputs": [
    {
     "name": "stdout",
     "output_type": "stream",
     "text": [
      "d\n",
      "b\n",
      "('c', 'd', 'e', 'f', 'g')\n"
     ]
    }
   ],
   "source": [
    "# 案例2\n",
    "\n",
    "a = (\"a\", \"b\", \"c\", \"d\", \"e\", \"f\", \"g\")\n",
    "print(a[3])\n",
    "print(a[-6])\n",
    "print(a[2:])"
   ]
  },
  {
   "cell_type": "markdown",
   "metadata": {},
   "source": [
    "# 字典\n",
    " - 哈希列表 \n",
    " - 根据Key直接访问内存存储位置的数字结构\n",
    " - **又名键值对  键—值**\n",
    "    - key => value\n",
    "    - key键值需要用冒号（：）分开\n",
    "    - 键值对之间用逗号（,)分割\n",
    "    - 整个字典在花括号{}中\n",
    "    - 键相同返回输出最后一个键值对，覆盖前面的值\n",
    "    - pop（）删除函数\n",
    "    - del 删除整个字典"
   ]
  },
  {
   "cell_type": "code",
   "execution_count": 10,
   "metadata": {},
   "outputs": [
    {
     "name": "stdout",
     "output_type": "stream",
     "text": [
      "{'name': '刘雨霞', 'age': '25', 'sex': '女', 'nation': '汉', 'occupation': '幼儿园老师'}\n"
     ]
    }
   ],
   "source": [
    "# 字典案例1\n",
    "\n",
    "dict = {\"name\": \"刘雨霞\", \"age\": \"25\", \"sex\": \"女\", \"nation\": \"汉\", \"occupation\": \"幼儿园老师\"}\n",
    "print(dict)"
   ]
  },
  {
   "cell_type": "code",
   "execution_count": 11,
   "metadata": {},
   "outputs": [
    {
     "name": "stdout",
     "output_type": "stream",
     "text": [
      "{'b': 8, 'c': '3', 'd': 4}\n"
     ]
    }
   ],
   "source": [
    "# 字典案例2\n",
    "\n",
    "dict = {\"a\": 1, \"b\": 2, \"c\": \"3\"}\n",
    "dict[\"d\"] = 4\n",
    "del dict[\"a\"]\n",
    "dict[\"b\"] = 8\n",
    "print(dict)"
   ]
  },
  {
   "cell_type": "code",
   "execution_count": 16,
   "metadata": {},
   "outputs": [
    {
     "name": "stdout",
     "output_type": "stream",
     "text": [
      "b\n",
      "c\n",
      "d\n",
      "8\n",
      "3\n",
      "4\n"
     ]
    }
   ],
   "source": [
    "# 循环上面所有的key & value\n",
    "\n",
    "for k in dict:\n",
    "    print(k)\n",
    "    \n",
    "for v in dict:\n",
    "    print(dict[v])"
   ]
  },
  {
   "cell_type": "code",
   "execution_count": null,
   "metadata": {},
   "outputs": [
    {
     "name": "stdout",
     "output_type": "stream",
     "text": [
      " | | \n",
      "-+-+-\n",
      " | | \n",
      "-+-+-\n",
      " | | \n",
      "现在是X. 你想移动到哪个位置?\n",
      "请输入位置如: 上 中 下:上\n",
      "请输入位置如: 左 中 右:中·\n",
      " | | \n",
      "-+-+-\n",
      " | | \n",
      "-+-+-\n",
      " | | \n",
      "现在是O. 你想移动到哪个位置?\n",
      "请输入位置如: 上 中 下:上\n",
      "请输入位置如: 左 中 右:中\n",
      " |O| \n",
      "-+-+-\n",
      " | | \n",
      "-+-+-\n",
      " | | \n",
      "现在是X. 你想移动到哪个位置?\n"
     ]
    }
   ],
   "source": [
    "# 三子棋棋盘\n",
    "\n",
    "board = {\"上-左\": ' ',\n",
    "         \"上-中\": ' ',\n",
    "         \"上-右\": ' ',\n",
    "         \"中-左\": ' ',\n",
    "         \"中-中\": ' ',\n",
    "         \"中-右\": ' ',\n",
    "         \"下-左\": ' ',\n",
    "         \"下-中\": ' ',\n",
    "         \"下-右\": ' ',}\n",
    "turn = \"X\"\n",
    "for i in range(9):\n",
    "    print(board[\"上-左\"] + \"|\" + board[\"上-中\"] + \"|\" + board[\"上-右\"])\n",
    "    print(\"-+-+-\")\n",
    "    print(board[\"中-左\"] + \"|\" + board[\"中-中\"] + \"|\" + board[\"中-右\"])\n",
    "    print(\"-+-+-\")\n",
    "    print(board[\"下-左\"] + \"|\" + board[\"下-中\"] + \"|\" + board[\"下-右\"])\n",
    "    print(\"现在是\" + turn + \". 你想移动到哪个位置?\")\n",
    "    # for 循环内部写程序\n",
    "    move1 = input(\"请输入位置如: 上 中 下:\")\n",
    "    move2 = input(\"请输入位置如: 左 中 右:\")\n",
    "    move = move1 + \"-\" + move2\n",
    "    board[move] = turn\n",
    "    # for 循环内部写程序\n",
    "    if turn == \"X\":\n",
    "        turn = \"O\"\n",
    "    else:\n",
    "        turn = \"X\""
   ]
  },
  {
   "cell_type": "code",
   "execution_count": null,
   "metadata": {},
   "outputs": [],
   "source": [
    "# 三子棋棋盘优化版本\n",
    "\n",
    "board = {\"1\": ' ',\n",
    "         \"2\": ' ',\n",
    "         \"3\": ' ',\n",
    "         \"4\": ' ',\n",
    "         \"5\": ' ',\n",
    "         \"6\": ' ',\n",
    "         \"7\": ' ',\n",
    "         \"8\": ' ',\n",
    "         \"9\": ' ',}\n",
    "turn = \"X\"\n",
    "for i in range(9):\n",
    "    print(board[\"1\"] + \"|\" + board[\"2\"] + \"|\" + board[\"3\"])\n",
    "    print(\"-+-+-\")\n",
    "    print(board[\"4\"] + \"|\" + board[\"5\"] + \"|\" + board[\"6\"])\n",
    "    print(\"-+-+-\")\n",
    "    print(board[\"7\"] + \"|\" + board[\"8\"] + \"|\" + board[\"9\"])\n",
    "    print(\"现在是\" + turn + \". 你想移动到哪个位置?\")\n",
    "    # for 循环内部写程序\n",
    "    move = input(\"请输入位置如: 1~9:\")\n",
    "    board[move] = turn\n",
    "    # for 循环内部写程序\n",
    "    if turn == \"X\":\n",
    "        turn = \"O\"\n",
    "    else:\n",
    "        turn = \"X\""
   ]
  },
  {
   "cell_type": "code",
   "execution_count": null,
   "metadata": {},
   "outputs": [],
   "source": [
    "# 五子棋程序\n",
    "\n",
    "board = {\"1\": \" 1\", \"2\": \" 2\", \"3\": \" 3\", \"4\": \" 4\", \"5\": \" 5\", \n",
    "         \"6\": \" 6\", \"7\": \" 7\", \"8\": \" 8\", \"9\": \" 9\", \"10\": \"10\", \n",
    "         \"11\": \"11\", \"12\": \"12\", \"13\": \"13\", \"14\": \"14\", \"15\": \"15\", \n",
    "         \"16\": \"16\", \"17\": \"17\", \"18\": \"18\", \"19\": \"19\", \"20\": \"20\", \n",
    "         \"21\": \" 21\", \"22\": \"22\", \"23\": \"23\", \"24\": \"24\", \"25\": \"25\", }\n",
    "# 此处注意有空格，因为数字是2位数\n",
    "turn = \"X\"\n",
    "for i in range(25):\n",
    "    print(board[\"1\"] + \" |\" + board[\"2\"] + \" |\" + board[\"3\"] + \" |\" + board[\"4\"] + \" |\" + board[\"5\"])\n",
    "    print(\"-- +- - +- - +- - +- -\")\n",
    "    print(board[\"6\"] + \" |\" + board[\"7\"] + \" |\" + board[\"8\"] + \" |\" + board[\"9\"] + \" |\" + board[\"10\"])\n",
    "    print(\"-- +- - +- - +- - +- -\")\n",
    "    print(board[\"11\"] + \" |\" + board[\"12\"] + \" |\" + board[\"13\"] + \" |\" + board[\"14\"] + \" |\" + board[\"15\"])\n",
    "    print(\"-- +- - +- - +- - +- -\")\n",
    "    print(board[\"16\"] + \" |\" + board[\"17\"] +   + board[\"18\"] + \" |\" + board[\"19\"] + \" |\" + board[\"20\"])\n",
    "    print(\"-- +- - +- - +- - +- -\")\n",
    "    print(board[\"21\"] + \" |\" + board[\"22\"] + \" |\" + board[\"23\"] + \" |\" + board[\"24\"] + \" |\" + board[\"25\"])\n",
    "    print(\"现在是\" + turn + \". 你想移动到哪个位置?\")\n",
    "    # for 循环内部写程序\n",
    "    move = input(\"请输入位置如：1~25:\")\n",
    "    board[move] = turn\n",
    "    # for 循环内部写程序\n",
    "    if turn == \" X\":\n",
    "        turn = \" O\"\n",
    "    else:\n",
    "        turn = \" X\""
   ]
  },
  {
   "cell_type": "code",
   "execution_count": null,
   "metadata": {},
   "outputs": [],
   "source": []
  }
 ],
 "metadata": {
  "kernelspec": {
   "display_name": "Python 3",
   "language": "python",
   "name": "python3"
  },
  "language_info": {
   "codemirror_mode": {
    "name": "ipython",
    "version": 3
   },
   "file_extension": ".py",
   "mimetype": "text/x-python",
   "name": "python",
   "nbconvert_exporter": "python",
   "pygments_lexer": "ipython3",
   "version": "3.7.6"
  }
 },
 "nbformat": 4,
 "nbformat_minor": 4
}
