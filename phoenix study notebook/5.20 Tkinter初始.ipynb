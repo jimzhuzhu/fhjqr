{
 "cells": [
  {
   "cell_type": "markdown",
   "metadata": {},
   "source": [
    "# TKinter 初始\n",
    "## GUI图形用户界面\n",
    " - 采用图形方式显示计算机操作用户界面\n",
    " - Tkinter 模块是Python的标准 Tk GUI 工具包的接口\n",
    " - Tk 和 Tkinter可以在大多数的Unix平台下使用\n",
    " - GUI创建流程：\n",
    "     - 导入Tkinter模块\n",
    "     - 创建控件\n",
    "     - 指定这个控件的master，即这个控件属于哪一个，一般与第二步一起\n",
    "     - 告诉GM（geometry manager）有一个控件产生了，也就是放置一个控件"
   ]
  },
  {
   "cell_type": "code",
   "execution_count": 1,
   "metadata": {},
   "outputs": [],
   "source": [
    "# 创建示例：\n",
    "# 导入\n",
    "import tkinter\n",
    "# 创建主窗口\n",
    "window = tkinter.Tk()\n",
    "# 设置标题\n",
    "window.title(\"FengHuang\")\n",
    "# 设置大小和位置\n",
    "window.geometry(\"400x400+200+50\")\n",
    "\n",
    "# 进入消息循环，可以写控件\n",
    "window.mainloop()"
   ]
  },
  {
   "cell_type": "markdown",
   "metadata": {},
   "source": [
    "# Label 标签控件：\n",
    " - 标签控件可以显示文本\n",
    " - 实例化参数：\n",
    "     - win:父窗体，也就是你的Label控件想放在哪个容器里\n",
    "     - text:显示的文本内容\n",
    "     - bg:背景色\n",
    "     - fg:字体颜色\n",
    "     - font:字体\n",
    "     - wraplength:指定text文本中多宽之后换行\n",
    "     - justify:设置换行后的对齐方式\n",
    "     - anchor:位置 n北，e东，w西，s南，center居中；也可以写在一起：ne东北方向\n",
    " - 有这些参数后，就可以设计一个简单的文字显示板，当然，要讲实例化的空间pack一下，也就是放下显示的意思。"
   ]
  },
  {
   "cell_type": "code",
   "execution_count": 7,
   "metadata": {},
   "outputs": [],
   "source": [
    "import tkinter\n",
    "\n",
    "win = tkinter.Tk()\n",
    "win.title(\"我的Tkinter窗口\")\n",
    "win.geometry(\"400x400+200+50\")\n",
    "label = tkinter.Label(win,\n",
    "                     text=\"你好，欢迎来到Tkinter世界\",\n",
    "                     bg=\"pink\", fg=\"blue\",\n",
    "                     font=(\"黑体\", 20),\n",
    "                     width=20,\n",
    "                     height=10,\n",
    "                     wraplength=100,\n",
    "                     justify=\"left\",\n",
    "                     anchor=\"center\")\n",
    "# 显示出来\n",
    "label.pack()\n",
    "win.mainloop()"
   ]
  },
  {
   "cell_type": "markdown",
   "metadata": {},
   "source": [
    "# 课堂练习"
   ]
  },
  {
   "cell_type": "code",
   "execution_count": 41,
   "metadata": {},
   "outputs": [],
   "source": [
    "# 制作一个情书\n",
    "import tkinter\n",
    "win = tkinter.Tk()\n",
    "win.title(\"送给老婆的情书\")\n",
    "win.geometry(\"500x500+250+50\")\n",
    "label = tkinter.Label(win,\n",
    "                     text='''\n",
    "                     愿在衣而为领，承华首之余芳；悲罗襟之宵离，怨秋夜之未央！\n",
    "                     愿在裳而为带，束窈窕之纤身；嗟温凉之异气，或脱故而服新。\n",
    "                     愿在发而为泽，刷玄鬓于颓肩；悲佳人之屡沐，从白水而枯煎。\n",
    "                     愿在眉而为黛，随瞻视以闲扬；悲脂粉之尚鲜，或取毁于华妆。\n",
    "                     愿在莞而为席，安弱体于三秋；悲文茵之代御，方经年而见求。\n",
    "                     愿在丝而为履，附素足以周旋；悲行止之有节，空委弃于床前。\n",
    "                     愿在昼而为影，常依形而西东；悲高树之多荫，慨有时而不同。\n",
    "                     愿在夜而为烛，照玉容于两楹；悲扶桑之舒光，奄灭景而藏明。\n",
    "                     愿在竹而为扇，含凄飙于柔握；悲白露之晨零，顾襟袖以缅邈。\n",
    "                     愿在木而为桐，作膝上之鸣琴；悲乐极以哀来，终推我而辍音。''',\n",
    "                     bg=\"pink\", fg=\"blue\",\n",
    "                     font=(\"黑体\", 10),\n",
    "                     width=100,\n",
    "                     height=50,\n",
    "                     wraplength=350,\n",
    "                     justify=\"right\",\n",
    "                     anchor=\"center\")\n",
    "# 显示出来\n",
    "label.pack()\n",
    "win.mainloop()"
   ]
  },
  {
   "cell_type": "markdown",
   "metadata": {},
   "source": [
    "# Tkinter库和turtle库有什么区别？\n",
    " - 放GUI 组合，turtle主要是画图制作"
   ]
  },
  {
   "cell_type": "markdown",
   "metadata": {},
   "source": [
    "# 基本控件\n",
    "## Button控件\n",
    " - 按钮部件\n",
    " - 包含文本或图像\n",
    " - 能调用函数或方法\n",
    " - 按钮被按下的回调函数：\n",
    "     - b = tk.Button(window, text=\"hit me\", command=hit_me)"
   ]
  },
  {
   "cell_type": "code",
   "execution_count": 44,
   "metadata": {},
   "outputs": [
    {
     "name": "stdout",
     "output_type": "stream",
     "text": [
      "hahahaha\n"
     ]
    }
   ],
   "source": [
    "# Button按钮\n",
    "import tkinter\n",
    "\n",
    "def func():\n",
    "    print(\"hahahaha\")\n",
    "    \n",
    "win = tkinter.Tk()\n",
    "win.title(\"什么鬼\")\n",
    "win.geometry(\"400x400+200+50\")\n",
    "\n",
    "# 创建按钮\n",
    "button1 = tkinter.Button(win, text=\"按钮1\", command = func, width=5, height=0)\n",
    "button1.pack()\n",
    "\n",
    "button2 = tkinter.Button(win, text=\"按钮2\", command = lambda:print(\"lalalalal\"))\n",
    "button2.pack()\n",
    "\n",
    "button3 = tkinter.Button(win, text = \"退出线程\", command = win.quit)\n",
    "button3.pack()\n",
    "\n",
    "button4 = tkinter.Button(win, text=\"关闭窗口\", command = lambda:win.destroy())\n",
    "button4.pack()\n",
    "\n",
    "win.mainloop()"
   ]
  },
  {
   "cell_type": "code",
   "execution_count": 9,
   "metadata": {},
   "outputs": [],
   "source": [
    "# 定义一个函数功能\n",
    "import tkinter as tk\n",
    "# 实例化\n",
    "window = tk.Tk()\n",
    "window.title(\"自建窗口\")\n",
    "window.geometry(\"400x400\")\n",
    "var = tk.StringVar()\n",
    "l = tk.Label(window,\n",
    "            textvariable=var,\n",
    "            bg=\"green\", fg=\"white\",\n",
    "            font=(\"Arial\", 12),\n",
    "            width=30,\n",
    "            height=2)\n",
    "l.pack()\n",
    "on_hit = False\n",
    "def hit_me():\n",
    "    global on_hit\n",
    "    if on_hit == False:\n",
    "        on_hit = True\n",
    "        var.set(\"点击了程序\")\n",
    "    else:\n",
    "        on_hit = False\n",
    "        var.set(\"\")\n",
    "# 窗口界面设置放置Button按键\n",
    "b = tk.Button(window, text=\"点击按钮\", font=(\"Arial\", 12), width=10, height=1,command=hit_me)\n",
    "b.pack()\n",
    "\n",
    "# 第6步，主窗口循环显示\n",
    "window.mainloop()"
   ]
  },
  {
   "cell_type": "markdown",
   "metadata": {},
   "source": [
    "# 文本控件\n",
    " - Text文本组件主要用于显示和处理多行文本\n",
    " - 适用于处理多任务，作为简单的文本编辑器和网页浏览器使用\n",
    " - 使用insert()方法，使用insert或END索引号做参数"
   ]
  },
  {
   "cell_type": "code",
   "execution_count": 13,
   "metadata": {},
   "outputs": [],
   "source": [
    "import tkinter\n",
    "win = tkinter.Tk()\n",
    "win.title(\"凤凰\")\n",
    "win.geometry(\"400x400+200+50\")\n",
    "# height表示显示的行数\n",
    "text = tkinter.Text(win, width=30, height=5)\n",
    "text.pack()\n",
    "str = '''how are'''\n",
    "text.insert(tkinter.INSERT, str)\n",
    "text.insert(tkinter.END, \"you\")\n",
    "win.mainloop()"
   ]
  },
  {
   "cell_type": "code",
   "execution_count": 15,
   "metadata": {},
   "outputs": [],
   "source": [
    "import tkinter\n",
    "win = tkinter.Tk()\n",
    "win.title(\"凤凰\")\n",
    "win.geometry(\"400x400+200+50\")\n",
    "'''\n",
    "文本控件：用于显示多行文本'''\n",
    "# height表示的是显示的行数\n",
    "text = tkinter.Text(win, width=40, height=50)\n",
    "text.pack()\n",
    "str = '''有一美人兮，见之不忘。\n",
    "一日不见兮，思之如狂。\n",
    "凤飞翱翔兮，四海求凰。\n",
    "无奈佳人兮，不在东墙。\n",
    "将琴代语兮，聊写衷肠。\n",
    "何日见许兮，慰我彷徨。\n",
    "愿言配德兮，携手相将。\n",
    "不得於飞兮，使我沦亡。\n",
    "凤兮凤兮归故乡，遨游四海求其凰。\n",
    "时未遇兮无所将，何悟今兮升斯堂！\n",
    "有艳淑女在闺房，室迩人遐毒我肠。\n",
    "何缘交颈为鸳鸯，胡颉颃兮共翱翔！\n",
    "凰兮凰兮从我栖，得托孳尾永为妃。\n",
    "交情通意心和谐，中夜相从知者谁？\n",
    "双翼俱起翻高飞，无感我思使余悲。'''\n",
    "text.insert(tkinter.INSERT, str)\n",
    "win.mainloop()"
   ]
  },
  {
   "cell_type": "markdown",
   "metadata": {},
   "source": [
    "# Entry 控件\n",
    " - 只有单行，没有height参数，有width参数\n",
    " - entry.get（）"
   ]
  },
  {
   "cell_type": "code",
   "execution_count": 19,
   "metadata": {},
   "outputs": [],
   "source": [
    "import tkinter\n",
    "win = tkinter.Tk()\n",
    "win.title(\"显示\")\n",
    "win.geometry(\"400x400+200+50\")\n",
    "def xianshi():\n",
    "    text.insert(tkinter.INSERT, entry.get())\n",
    "\n",
    "entry = tkinter.Entry(win, width=20)\n",
    "entry.pack()\n",
    "button = tkinter.Button(win, text=\"显示在text控件上\", command = xianshi)\n",
    "button.pack()\n",
    "text = tkinter.Text(win, width=20, height=10)\n",
    "text.pack()\n",
    "win.mainloop()"
   ]
  },
  {
   "cell_type": "markdown",
   "metadata": {},
   "source": [
    "# show隐藏密码"
   ]
  },
  {
   "cell_type": "code",
   "execution_count": 23,
   "metadata": {},
   "outputs": [
    {
     "name": "stdout",
     "output_type": "stream",
     "text": [
      "请输入账号\n",
      "登入成功\n"
     ]
    }
   ],
   "source": [
    "import tkinter\n",
    "win = tkinter.Tk()\n",
    "win.title(\"开车啦\")\n",
    "win.geometry(\"400x400+200+50\")\n",
    "# 可以通过传入特定参数直接和一个程序变量绑定\n",
    "e = tkinter.Variable()\n",
    "entry1 = tkinter.Entry(win, textvariable = e)\n",
    "entry1.pack()\n",
    "# e就代表输入框这个对象，然后对这个对象设置值\n",
    "e.set(\"请输入账号\")\n",
    "\n",
    "# 密文显示\n",
    "entry2 = tkinter.Entry(win, show=\"*\") # show=\"*\"\n",
    "# entry2 = tkinter.Entry(win) # 直接输入\n",
    "entry2.pack()\n",
    "\n",
    "def func():\n",
    "    if(entry1.get() == \"123\") & (entry2.get() == \"456\"):\n",
    "        print(\"登入成功\")\n",
    "    else:\n",
    "        print(\"密码或账号错误\")\n",
    "button1 = tkinter.Button(win, text=\"登入\", command=func, width=5, height=0)\n",
    "button1.pack()\n",
    "\n",
    "# 输入账号密码后，取得账号密码\n",
    "print(e.get())\n",
    "win.mainloop()"
   ]
  },
  {
   "cell_type": "markdown",
   "metadata": {},
   "source": [
    "# Listbox控件\n",
    " - 用户通过鼠标选中列表框提供的数据，但不能修改列表框中的数据项\n",
    " - 应用程序可以对用户的选中数据项事件作出响应"
   ]
  },
  {
   "cell_type": "code",
   "execution_count": 29,
   "metadata": {},
   "outputs": [
    {
     "name": "stdout",
     "output_type": "stream",
     "text": [
      "(1,)\n",
      "(1, 6)\n",
      "(1, 5, 6)\n",
      "(1, 4, 5, 6)\n",
      "(1, 2, 4, 5, 6)\n",
      "(2, 4, 5, 6)\n",
      "(4, 5, 6)\n",
      "(4, 6)\n",
      "(4,)\n"
     ]
    }
   ],
   "source": [
    "import tkinter\n",
    "win = tkinter.Tk()\n",
    "win.title(\"Listbox window\")\n",
    "win.geometry(\"400x400+200+50\")\n",
    "# BORWSE支撑鼠标按下后移动选中位置\n",
    "# lb = tkinter.Listbox(win, selectmode=tkinter.BROWSE)\n",
    "# SINGL不支持鼠标按下后移动选中位置\n",
    "# lb = tkinter.Listbox(win, selectmode=tkinter.SINGLE)\n",
    "# MULTIPLE支持多选\n",
    "lb = tkinter.Listbox(win, selectmode=tkinter.MULTIPLE)\n",
    "\n",
    "for item in [\"L\", \"I\", \"S\", \"T\", \"B\", \"O\", \"X\"]:\n",
    "    # 按顺序添加\n",
    "    lb.insert(tkinter.END, item)\n",
    "\n",
    "lb.select_set(1)\n",
    "lb.pack()\n",
    "# 绑定事件\n",
    "def myprint(event):\n",
    "    # 返回下标\n",
    "    print(lb.curselection())\n",
    "lb.bind(\"<Button-1>\", myprint)\n",
    "win.mainloop()"
   ]
  },
  {
   "cell_type": "code",
   "execution_count": null,
   "metadata": {},
   "outputs": [],
   "source": []
  }
 ],
 "metadata": {
  "kernelspec": {
   "display_name": "Python 3",
   "language": "python",
   "name": "python3"
  },
  "language_info": {
   "codemirror_mode": {
    "name": "ipython",
    "version": 3
   },
   "file_extension": ".py",
   "mimetype": "text/x-python",
   "name": "python",
   "nbconvert_exporter": "python",
   "pygments_lexer": "ipython3",
   "version": "3.7.6"
  }
 },
 "nbformat": 4,
 "nbformat_minor": 4
}
